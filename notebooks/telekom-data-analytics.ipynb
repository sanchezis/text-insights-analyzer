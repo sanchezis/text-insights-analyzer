{
 "cells": [
  {
   "cell_type": "markdown",
   "metadata": {},
   "source": [
    "# Text Insight Analyzer (Telecom dataset)"
   ]
  },
  {
   "cell_type": "markdown",
   "metadata": {},
   "source": [
    "> All rights Reserved \\\n",
    "> 2025 [Israel Llorens](https://www.linkedin.com/in/israel-llorens/) \\\n",
    "> [GitHub/sanchezis](https://github.com/sanchezis/text-insights-analyzer)"
   ]
  },
  {
   "cell_type": "markdown",
   "metadata": {},
   "source": [
    "# 0. Loading libraries"
   ]
  },
  {
   "cell_type": "code",
   "execution_count": 1,
   "metadata": {},
   "outputs": [
    {
     "name": "stderr",
     "output_type": "stream",
     "text": [
      "25/05/25 22:48:12 WARN Utils: Your hostname, Airon.local resolves to a loopback address: 127.0.0.1; using 192.168.100.57 instead (on interface en0)\n",
      "25/05/25 22:48:12 WARN Utils: Set SPARK_LOCAL_IP if you need to bind to another address\n",
      "Setting default log level to \"WARN\".\n",
      "To adjust logging level use sc.setLogLevel(newLevel). For SparkR, use setLogLevel(newLevel).\n",
      "25/05/25 22:48:12 WARN NativeCodeLoader: Unable to load native-hadoop library for your platform... using builtin-java classes where applicable\n"
     ]
    }
   ],
   "source": [
    "import init\n",
    "\n",
    "from pyspark.ml import Pipeline\n",
    "from pyspark.sql import functions as F\n",
    "from pyspark.sql import types as T\n",
    "from pyspark.ml.clustering import LDA\n",
    "from pyspark.ml.feature import CountVectorizer\n",
    "\n",
    "from Framework.spark import spark\n",
    "\n",
    "import Framework.sampledf as dfs\n",
    "\n",
    "from Framework.nlp.tokenize import *\n",
    "from Framework.nlp.regex import *\n",
    "from Framework.utils.plot import *"
   ]
  },
  {
   "cell_type": "markdown",
   "metadata": {},
   "source": [
    "# 1. Dataset Sourcing"
   ]
  },
  {
   "cell_type": "code",
   "execution_count": 2,
   "metadata": {},
   "outputs": [],
   "source": [
    "dataset = dfs.telecom_200k()"
   ]
  },
  {
   "cell_type": "code",
   "execution_count": 3,
   "metadata": {},
   "outputs": [
    {
     "name": "stdout",
     "output_type": "stream",
     "text": [
      "+--------------------------------+-------+--------------------------+--------------------------------------------------------------------------------------------------------------------------------------------------------------------------------------------------------------------------------------------------------------------------------------------------------------------------------------------------------------------------------------------------------------------------------------------------------------------------------------------------------+\n",
      "|conversation_id                 |speaker|date_time                 |text                                                                                                                                                                                                                                                                                                                                                                                                                                                                                                    |\n",
      "+--------------------------------+-------+--------------------------+--------------------------------------------------------------------------------------------------------------------------------------------------------------------------------------------------------------------------------------------------------------------------------------------------------------------------------------------------------------------------------------------------------------------------------------------------------------------------------------------------------+\n",
      "|98a6dbc997614ceb8e0734dda38b2524|agent  |2023-09-09 17:08:03       |Thank, thank you for calling Union Mobile. My name is Ray, how can I assist you today?                                                                                                                                                                                                                                                                                                                                                                                                                  |\n",
      "|98a6dbc997614ceb8e0734dda38b2524|client |2023-09-09 17:08:10.846154|Hi, I'm having some issues with my phone service. I've been experiencing dropped calls, poor reception, and data connectivity problems.                                                                                                                                                                                                                                                                                                                                                                 |\n",
      "|98a6dbc997614ceb8e0734dda38b2524|agent  |2023-09-09 17:08:20.076923|Sorry to hear that, Alissa. Can you please verify your identity for me? I'll do my best to help you resolve the issue.                                                                                                                                                                                                                                                                                                                                                                                  |\n",
      "|98a6dbc997614ceb8e0734dda38b2524|client |2023-09-09 17:08:30.692308|Sure, my account PIN is 1234.                                                                                                                                                                                                                                                                                                                                                                                                                                                                           |\n",
      "|98a6dbc997614ceb8e0734dda38b2524|agent  |2023-09-09 17:08:33.461539|Thank you, Alissa. I'm unable to verify your identity with the P you provided. Can you please try again?                                                                                                                                                                                                                                                                                                                                                                                                |\n",
      "|98a6dbc997614ceb8e0734dda38b2524|client |2023-09-09 17:08:42.23077 |Okay, let me check again. My account PIN is 5678.                                                                                                                                                                                                                                                                                                                                                                                                                                                       |\n",
      "|98a6dbc997614ceb8e0734dda38b2524|agent  |2023-09-09 17:08:46.846155|I apologize, but that doesn't seem to be working either. Can you please try one more time for me?                                                                                                                                                                                                                                                                                                                                                                                                       |\n",
      "|98a6dbc997614ceb8e0734dda38b2524|client |2023-09-09 17:08:55.615386|Alright, my account PIN is 9012.                                                                                                                                                                                                                                                                                                                                                                                                                                                                        |\n",
      "|98a6dbc997614ceb8e0734dda38b2524|agent  |2023-09-09 17:08:58.384617|Thank you, Alissa. I'm now able to verify your identity. I see that you've had some issues with your phone service. Can you tell me a little bit more about what's been happening?                                                                                                                                                                                                                                                                                                                      |\n",
      "|98a6dbc997614ceb8e0734dda38b2524|client |2023-09-09 17:09:13.615386|Yeah, like I said, I've been experiencing dropped calls, poor reception, and data connectivity problems. It's been really frustrating.                                                                                                                                                                                                                                                                                                                                                                  |\n",
      "|98a6dbc997614ceb8e0734dda38b2524|agent  |2023-09-09 17:09:22.384617|I understand how frustrating that must be for you. I me see what I can do to help. Can you tell me a little bit more about your phone and the areas where you're experiencing these issues?                                                                                                                                                                                                                                                                                                             |\n",
      "|98a6dbc997614ceb8e0734dda38b2524|client |2023-09-09 17:09:39.46154 |Sure, I have an iPhone 12 Pro and I live in downtown Los Angeles.                                                                                                                                                                                                                                                                                                                                                                                                                                       |\n",
      "|98a6dbc997614ceb8e0734dda38b2524|agent  |2023-09-09 17:09:45.923078|Thank you for providing that information, Alissa. Based on what you've told me, it sounds like there might be some network issues in your area. Let'm going to go ahead and escalate your issue to our engineering team. They'll work on resolving the problem as soon as possible. In the meantime, I recommendd like to offer you a complimentary 1-month subscription to our Premium Data Plan, which will give you an extra abyte of data per month. Would you like to take advantage of this offer?|\n",
      "|98a6dbc997614ceb8e0734dda38b2524|client |2023-09-09 17:10:25.615386|Yes, that sounds great. Thank you!                                                                                                                                                                                                                                                                                                                                                                                                                                                                      |\n",
      "|98a6dbc997614ceb8e0734dda38b2524|agent  |2023-09-09 17:10:28.384617|You're welcome, Alissa. Is there anything else I can assist you with today?                                                                                                                                                                                                                                                                                                                                                                                                                             |\n",
      "|98a6dbc997614ceb8e0734dda38b2524|client |2023-09-09 17:10:34.384617|No, that's all. Thanks you so much for your help, Ray.                                                                                                                                                                                                                                                                                                                                                                                                                                                  |\n",
      "|98a6dbc997614ceb8e0734dda38b2524|agent  |2023-09-09 17:10:39.46154 |You're welcome, Alissa. Have a great day and thank you for choosing Union Mobile.                                                                                                                                                                                                                                                                                                                                                                                                                       |\n",
      "|0e79164e7b8b4633bc1424637eacab32|agent  |2023-10-12 19:51:54       |Good afternoon, thank you for calling Union Mobile. My name is Marilou, how I'll be assisting you today. Could you please tell me a little bit more about the issue you're experiencing with your phone service?                                                                                                                                                                                                                                                                                        |\n",
      "|0e79164e7b8b4633bc1424637eacab32|client |2023-10-12 19:52:10.615385|Hi Marilou, thanks for picking up. I've been having some problems with my phone service lately. I've been getting a lot of dropped calls, and my data connection has been really slow. It's been really frustrating.                                                                                                                                                                                                                                                                                    |\n",
      "|0e79164e7b8b4633bc1424637eacab32|agent  |2023-10-12 19:52:27.23077 |Sorry to hear that, Jessica. Let me see if I can help you with that. Can you please verify your identity so I can look into this further for you?                                                                                                                                                                                                                                                                                                                                                       |\n",
      "+--------------------------------+-------+--------------------------+--------------------------------------------------------------------------------------------------------------------------------------------------------------------------------------------------------------------------------------------------------------------------------------------------------------------------------------------------------------------------------------------------------------------------------------------------------------------------------------------------------+\n",
      "only showing top 20 rows\n",
      "\n"
     ]
    }
   ],
   "source": [
    "dataset.show(truncate=False)"
   ]
  },
  {
   "cell_type": "markdown",
   "metadata": {},
   "source": [
    "Load the data (there are 200K conversations so we need to choose a sample to work on our cluster), less than 2% !!"
   ]
  },
  {
   "cell_type": "code",
   "execution_count": 4,
   "metadata": {},
   "outputs": [],
   "source": [
    "df = dataset.join(\n",
    "        dataset.select('conversation_id').groupby('conversation_id').count().sample(.018, seed=42),\n",
    "        on=['conversation_id']\n",
    "    )"
   ]
  },
  {
   "cell_type": "markdown",
   "metadata": {},
   "source": [
    "Quickly check the dataset size and complete conversations cohort"
   ]
  },
  {
   "cell_type": "code",
   "execution_count": 5,
   "metadata": {},
   "outputs": [
    {
     "data": {
      "text/plain": [
       "(67072, 4104)"
      ]
     },
     "execution_count": 5,
     "metadata": {},
     "output_type": "execute_result"
    }
   ],
   "source": [
    "df.count(), df.select('conversation_id').distinct().count()"
   ]
  },
  {
   "cell_type": "markdown",
   "metadata": {},
   "source": [
    "Quickly investigate the loaded dataset"
   ]
  },
  {
   "cell_type": "code",
   "execution_count": 6,
   "metadata": {},
   "outputs": [
    {
     "data": {
      "text/html": [
       "<table border='1'>\n",
       "<tr><th>conversation_id</th><th>speaker</th><th>date_time</th><th>text</th><th>count</th></tr>\n",
       "<tr><td>87c3e19c7a7945a0b...</td><td>agent</td><td>2023-12-20 18:54:16</td><td>Hello, thank you ...</td><td>13</td></tr>\n",
       "<tr><td>87c3e19c7a7945a0b...</td><td>client</td><td>2023-12-20 18:54:...</td><td>Hi Noe, I&#x27;m calli...</td><td>13</td></tr>\n",
       "<tr><td>87c3e19c7a7945a0b...</td><td>agent</td><td>2023-12-20 18:54:...</td><td>Of course, Iinton...</td><td>13</td></tr>\n",
       "<tr><td>87c3e19c7a7945a0b...</td><td>client</td><td>2023-12-20 18:54:...</td><td>Sure, my account ...</td><td>13</td></tr>\n",
       "<tr><td>87c3e19c7a7945a0b...</td><td>agent</td><td>2023-12-20 18:54:...</td><td>Great, thank you ...</td><td>13</td></tr>\n",
       "<tr><td>87c3e19c7a7945a0b...</td><td>client</td><td>2023-12-20 18:54:...</td><td>The charge was on...</td><td>13</td></tr>\n",
       "<tr><td>87c3e19c7a7945a0b...</td><td>agent</td><td>2023-12-20 18:55:...</td><td>I apologize for t...</td><td>13</td></tr>\n",
       "<tr><td>87c3e19c7a7945a0b...</td><td>client</td><td>2023-12-20 18:55:...</td><td>Yes, my email add...</td><td>13</td></tr>\n",
       "<tr><td>87c3e19c7a7945a0b...</td><td>agent</td><td>2023-12-20 18:55:...</td><td>Thank you, Quinto...</td><td>13</td></tr>\n",
       "<tr><td>87c3e19c7a7945a0b...</td><td>client</td><td>2023-12-20 18:55:...</td><td>No, that&#x27;s all. T...</td><td>13</td></tr>\n",
       "<tr><td>87c3e19c7a7945a0b...</td><td>agent</td><td>2023-12-20 18:55:...</td><td>You&#x27;re welcome, Q...</td><td>13</td></tr>\n",
       "<tr><td>87c3e19c7a7945a0b...</td><td>client</td><td>2023-12-20 18:55:...</td><td>No, that&#x27;s all. T...</td><td>13</td></tr>\n",
       "<tr><td>87c3e19c7a7945a0b...</td><td>agent</td><td>2023-12-20 18:55:...</td><td>Alright, Quinton....</td><td>13</td></tr>\n",
       "</table>\n"
      ],
      "text/plain": [
       "+--------------------+-------+--------------------+--------------------+-----+\n",
       "|     conversation_id|speaker|           date_time|                text|count|\n",
       "+--------------------+-------+--------------------+--------------------+-----+\n",
       "|87c3e19c7a7945a0b...|  agent| 2023-12-20 18:54:16|Hello, thank you ...|   13|\n",
       "|87c3e19c7a7945a0b...| client|2023-12-20 18:54:...|Hi Noe, I'm calli...|   13|\n",
       "|87c3e19c7a7945a0b...|  agent|2023-12-20 18:54:...|Of course, Iinton...|   13|\n",
       "|87c3e19c7a7945a0b...| client|2023-12-20 18:54:...|Sure, my account ...|   13|\n",
       "|87c3e19c7a7945a0b...|  agent|2023-12-20 18:54:...|Great, thank you ...|   13|\n",
       "|87c3e19c7a7945a0b...| client|2023-12-20 18:54:...|The charge was on...|   13|\n",
       "|87c3e19c7a7945a0b...|  agent|2023-12-20 18:55:...|I apologize for t...|   13|\n",
       "|87c3e19c7a7945a0b...| client|2023-12-20 18:55:...|Yes, my email add...|   13|\n",
       "|87c3e19c7a7945a0b...|  agent|2023-12-20 18:55:...|Thank you, Quinto...|   13|\n",
       "|87c3e19c7a7945a0b...| client|2023-12-20 18:55:...|No, that's all. T...|   13|\n",
       "|87c3e19c7a7945a0b...|  agent|2023-12-20 18:55:...|You're welcome, Q...|   13|\n",
       "|87c3e19c7a7945a0b...| client|2023-12-20 18:55:...|No, that's all. T...|   13|\n",
       "|87c3e19c7a7945a0b...|  agent|2023-12-20 18:55:...|Alright, Quinton....|   13|\n",
       "+--------------------+-------+--------------------+--------------------+-----+"
      ]
     },
     "execution_count": 6,
     "metadata": {},
     "output_type": "execute_result"
    }
   ],
   "source": [
    "conversation_id = df.sample(.25, seed=42).first().conversation_id\n",
    "one = df.filter( F.col('conversation_id') == conversation_id).sort('date_time')\n",
    "one"
   ]
  },
  {
   "cell_type": "markdown",
   "metadata": {},
   "source": [
    "# 2. Problem Definition"
   ]
  },
  {
   "cell_type": "markdown",
   "metadata": {},
   "source": [
    "The dataset consists of transcripts from customer and expert interactions. A key challenge lies in accurately identifying the customer’s intent—or multiple intents—throughout the entire conversation flow.\n",
    "\n",
    "Additionally, it's difficult to evaluate the outcome of these interactions: whether the expert successfully resolved the issue, ended the call appropriately with a closing statement, or if the conversation was abruptly cut off.\n",
    "\n",
    "Other areas of interest include detecting high levels of customer dissatisfaction, recognizing negative language from either party, and identifying cases where the expert's handling may have contributed to unresolved issues—potentially indicating a need for additional coaching or training.\n",
    "\n",
    "This analysis aims to extract meaningful insights from the transcripts to help answer these questions and uncover patterns that could inform decision-making and process improvement"
   ]
  },
  {
   "cell_type": "markdown",
   "metadata": {},
   "source": [
    "## Preprocess Text data"
   ]
  },
  {
   "cell_type": "markdown",
   "metadata": {},
   "source": [
    "Lets pre-process the text data and keep it in a __cleaned__ format"
   ]
  },
  {
   "cell_type": "code",
   "execution_count": 7,
   "metadata": {},
   "outputs": [
    {
     "data": {
      "text/plain": [
       "['my name is Laura']"
      ]
     },
     "execution_count": 7,
     "metadata": {},
     "output_type": "execute_result"
    }
   ],
   "source": [
    "re.findall(NAME_REGEX, \"my name is Laura\")"
   ]
  },
  {
   "cell_type": "code",
   "execution_count": 8,
   "metadata": {},
   "outputs": [
    {
     "data": {
      "text/plain": [
       "['Hi, my name is Laura']"
      ]
     },
     "execution_count": 8,
     "metadata": {},
     "output_type": "execute_result"
    }
   ],
   "source": [
    "re.findall(NAME_REGEX, \"Hi, my name is Laura\") "
   ]
  },
  {
   "cell_type": "markdown",
   "metadata": {},
   "source": [
    "One of the most relevant situations is that when we want to analyze and extract topics, the names are elements that needs to be avoided. Here I am introducing a regex to try to find all the common openings, to detect names, but of course there are better ways to identify them and eliminate for better outcome. We will discuss these options in the `next steps` section."
   ]
  },
  {
   "cell_type": "code",
   "execution_count": 9,
   "metadata": {},
   "outputs": [],
   "source": [
    "@F.udf( T.StringType() )\n",
    "def unique_text (x):\n",
    "    try:\n",
    "        if not x: return None\n",
    "        x = x.split(' ')\n",
    "        return ' '.join(list(dict.fromkeys(x)))\n",
    "    except:\n",
    "        return None\n",
    "\n",
    "df_preprocessed = ( df\n",
    "                    .withColumn('text', \n",
    "                                F.regexp_replace(\n",
    "                                    'text', \n",
    "                                    pattern = r'(?i)\\bto\\s+(union.*?mobile)\\b|\\b(union.*?mobile)\\b', \n",
    "                                    replacement='') \n",
    "                                )\n",
    "                    .withColumn('text',\n",
    "                                F.regexp_replace(\n",
    "                                    'text',\n",
    "                                    pattern = NAME_REGEX,\n",
    "                                    replacement = ''\n",
    "                                )\n",
    "                                )\n",
    "                    .withColumn('__text__',\n",
    "                                F.when(\n",
    "                                        F.col('text')\n",
    "                                        .rlike(\n",
    "                                            '|'.join([\n",
    "                                            bb_ss_pattern,\n",
    "                                            bb_loyalty_pattern,\n",
    "                                            bb_tech_pattern,\n",
    "                                            bb_greeting_pattern,\n",
    "                                            bb_closing_pattern,\n",
    "                                            bb_general_pattern])\n",
    "                                        ), F.col('text')\n",
    "                                    )\n",
    "                                .otherwise(None)\n",
    "                                )\n",
    ")\n",
    "df_preprocessed = extract_tokens(df_preprocessed, '__text__')\n",
    "df_preprocessed = df_preprocessed.withColumn('__cleaned__', unique_text('__cleaned__'))"
   ]
  },
  {
   "cell_type": "markdown",
   "metadata": {},
   "source": [
    "Several strategies here applied, we can either use the text, trying to remove People Names using REGEX, or choose those text's where there are at least any of the most interesting regex words applied for the Business Knowledge."
   ]
  },
  {
   "cell_type": "code",
   "execution_count": 10,
   "metadata": {},
   "outputs": [
    {
     "name": "stdout",
     "output_type": "stream",
     "text": [
      "+--------------------------------+-------+--------------------------+-----------------------------------------------------------------------------------------------------------------------------------------------------------------------------------------------------------------------------------------------------------------------------------------------------------------------------+-----+-----------------------------------------------------------------------------------------------------------------------------------------------------------------------------------------------------------------------------------------------------------------------------------------------------------------------------+------------------------------------------------------------------------------------------------------------------------------------------------------------------------------------------------------------------------------------------------------+\n",
      "|conversation_id                 |speaker|date_time                 |text                                                                                                                                                                                                                                                                                                                         |count|__text__                                                                                                                                                                                                                                                                                                                     |__cleaned__                                                                                                                                                                                                                                           |\n",
      "+--------------------------------+-------+--------------------------+-----------------------------------------------------------------------------------------------------------------------------------------------------------------------------------------------------------------------------------------------------------------------------------------------------------------------------+-----+-----------------------------------------------------------------------------------------------------------------------------------------------------------------------------------------------------------------------------------------------------------------------------------------------------------------------------+------------------------------------------------------------------------------------------------------------------------------------------------------------------------------------------------------------------------------------------------------+\n",
      "|87c3e19c7a7945a0b7b58cfec06a6363|agent  |2023-12-20 18:54:16       |Hello,  . , how can I assist you today?                                                                                                                                                                                                                                                                                      |13   |null                                                                                                                                                                                                                                                                                                                         |null                                                                                                                                                                                                                                                  |\n",
      "|87c3e19c7a7945a0b7b58cfec06a6363|client |2023-12-20 18:54:23.846154|Hi Noe my bill. I have a questions and I'd like to dispute a charge.                                                                                                                                                                                                                                                         |13   |Hi Noe my bill. I have a questions and I'd like to dispute a charge.                                                                                                                                                                                                                                                         |hi noe my bill i have a questions and would like to dispute charge                                                                                                                                                                                    |\n",
      "|87c3e19c7a7945a0b7b58cfec06a6363|agent  |2023-12-20 18:54:32.153846|Of course, Iinton. Can you please verify your account PIN or the last four digits of the credit card associated with your account for verification purposes?                                                                                                                                                                 |13   |Of course, Iinton. Can you please verify your account PIN or the last four digits of the credit card associated with your account for verification purposes?                                                                                                                                                                 |of course iinton can you please verify your account pin or the last four digits credit card associated with for verification purposes                                                                                                                 |\n",
      "|87c3e19c7a7945a0b7b58cfec06a6363|client |2023-12-20 18:54:44.153846|Sure, my account PIN is 1234.                                                                                                                                                                                                                                                                                                |13   |null                                                                                                                                                                                                                                                                                                                         |null                                                                                                                                                                                                                                                  |\n",
      "|87c3e19c7a7945a0b7b58cfec06a6363|agent  |2023-12-20 18:54:46.923077|Great,  that. Now, can you tell me more about the charge you'd disputing? What's the date of the charge and the amount?                                                                                                                                                                                                      |13   |null                                                                                                                                                                                                                                                                                                                         |null                                                                                                                                                                                                                                                  |\n",
      "|87c3e19c7a7945a0b7b58cfec06a6363|client |2023-12-20 18:54:58.923077|The charge was on January 15th for $20. It's for a subscription service that I didn't sign up for.                                                                                                                                                                                                                           |13   |null                                                                                                                                                                                                                                                                                                                         |null                                                                                                                                                                                                                                                  |\n",
      "|87c3e19c7a7945a0b7b58cfec06a6363|agent  |2023-12-20 18:55:07.692308|I apologize for the inconvenience, Quinton. Let me look into this for you. Can you please confirm your email address so I can check up the details of your subscription?                                                                                                                                                     |13   |I apologize for the inconvenience, Quinton. Let me look into this for you. Can you please confirm your email address so I can check up the details of your subscription?                                                                                                                                                     |i apologize for the inconvenience quinton let me look into this you can please confirm your email address so check up details of subscription                                                                                                         |\n",
      "|87c3e19c7a7945a0b7b58cfec06a6363|client |2023-12-20 18:55:21.538462|Yes, my email address is [insertintononsmith@email.com](mailto:quintonsmith@email.com).                                                                                                                                                                                                                                      |13   |Yes, my email address is [insertintononsmith@email.com](mailto:quintonsmith@email.com).                                                                                                                                                                                                                                      |yes my email address is insertintononsmithemailcommailtoquintonsmithemailcom                                                                                                                                                                          |\n",
      "|87c3e19c7a7945a0b7b58cfec06a6363|agent  |2023-12-20 18:55:24.307693|. After reviewing your account, I see that the subscription service was added accidentally. I'll go ahead and remove it charge from your bill and also cancel the subscription. Is there anything else I can assist you with today?                                                                                          |13   |. After reviewing your account, I see that the subscription service was added accidentally. I'll go ahead and remove it charge from your bill and also cancel the subscription. Is there anything else I can assist you with today?                                                                                          | after reviewing your account i see that the subscription service was added accidentally will go ahead and remove it charge from bill also cancel is there anything else can assist you with today                                                    |\n",
      "|87c3e19c7a7945a0b7b58cfec06a6363|client |2023-12-20 18:55:43.23077 |No, that's all.  for your help, Noe.                                                                                                                                                                                                                                                                                         |13   |No, that's all.  for your help, Noe.                                                                                                                                                                                                                                                                                         |no that all  for your help noe                                                                                                                                                                                                                        |\n",
      "|87c3e19c7a7945a0b7b58cfec06a6363|agent  |2023-12-20 18:55:48.307693|. Is there anything else I can assist you with today?                                                                                                                                                                                                                                                                        |13   |. Is there anything else I can assist you with today?                                                                                                                                                                                                                                                                        | is there anything else i can assist you with today                                                                                                                                                                                                   |\n",
      "|87c3e19c7a7945a0b7b58cfec06a6363|client |2023-12-20 18:55:54.307693|No, that's all. .                                                                                                                                                                                                                                                                                                            |13   |null                                                                                                                                                                                                                                                                                                                         |null                                                                                                                                                                                                                                                  |\n",
      "|87c3e19c7a7945a0b7b58cfec06a6363|agent  |2023-12-20 18:55:57.076924|Alright, Quinton.  . Have a great day!                                                                                                                                                                                                                                                                                       |13   |Alright, Quinton.  . Have a great day!                                                                                                                                                                                                                                                                                       |alright quinton  have a great day                                                                                                                                                                                                                     |\n",
      "|eddc2439012c4c21a3b33b656742ddfe|agent  |2023-09-28 19:13:51       |Good morning,  . , how can I assist you today?                                                                                                                                                                                                                                                                               |17   |null                                                                                                                                                                                                                                                                                                                         |null                                                                                                                                                                                                                                                  |\n",
      "|eddc2439012c4c21a3b33b656742ddfe|client |2023-09-28 19:13:59.307692|Hi Gisele I want to either or downgrade my plan.                                                                                                                                                                                                                                                                             |17   |Hi Gisele I want to either or downgrade my plan.                                                                                                                                                                                                                                                                             |hi gisele i want to either or downgrade my plan                                                                                                                                                                                                       |\n",
      "|eddc2439012c4c21a3b33b656742ddfe|agent  |2023-09-28 19:14:05.307692|Of course, I'd be happy to help you with that. Can you please verify your identity so I can access your account?                                                                                                                                                                                                             |17   |Of course, I'd be happy to help you with that. Can you please verify your identity so I can access your account?                                                                                                                                                                                                             |of course i would be happy to help you with that can please verify your identity so access account                                                                                                                                                    |\n",
      "|eddc2439012c4c21a3b33b656742ddfe|client |2023-09-28 19:14:15.461538|Sure my phone number is 555-1234.                                                                                                                                                                                                                                                                                            |17   |null                                                                                                                                                                                                                                                                                                                         |null                                                                                                                                                                                                                                                  |\n",
      "|eddc2439012c4c21a3b33b656742ddfe|agent  |2023-09-28 19:14:20.538461|. I justize, but a bit of trouble verifying your identity. Can you please provide me with some more information to confirm your identity?                                                                                                                                                                                    |17   |. I justize, but a bit of trouble verifying your identity. Can you please provide me with some more information to confirm your identity?                                                                                                                                                                                    | i justize but a bit of trouble verifying your identity can you please provide me with some more information to confirm                                                                                                                               |\n",
      "|eddc2439012c4c21a3b33b656742ddfe|client |2023-09-28 19:14:33.461538|Oh, sorry about that. My account PIN is 1234.                                                                                                                                                                                                                                                                                |17   |null                                                                                                                                                                                                                                                                                                                         |null                                                                                                                                                                                                                                                  |\n",
      "|eddc2439012c4c21a3b33b656742ddfe|agent  |2023-09-28 19:14:37.615384|Great,  that. Now, let's discuss your plan options. What type of plan are you interested in upgrading or downgrading to?                                                                                                                                                                                                     |17   |Great,  that. Now, let's discuss your plan options. What type of plan are you interested in upgrading or downgrading to?                                                                                                                                                                                                     |great  that now let discuss your plan options what type of are you interested in upgrading or downgrading to                                                                                                                                          |\n",
      "|eddc2439012c4c21a3b33b656742ddfe|client |2023-09-28 19:14:48.692307|Well. Can you tell me what my current plan includes?                                                                                                                                                                                                                                                                         |17   |null                                                                                                                                                                                                                                                                                                                         |null                                                                                                                                                                                                                                                  |\n",
      "|eddc2439012c4c21a3b33b656742ddfe|agent  |2023-09-28 19:14:54.692307|Absolutely. Your current plan is our Unlimited Plus Plan, which includes unlimited data, talk, and text, as well as access to our 5G network. You also have 50GB of mobile hotspot data and international calling to over 20 countries.                                                                                      |17   |Absolutely. Your current plan is our Unlimited Plus Plan, which includes unlimited data, talk, and text, as well as access to our 5G network. You also have 50GB of mobile hotspot data and international calling to over 20 countries.                                                                                      |absolutely your current plan is our unlimited plus which includes data talk and text as well access to 5g network you also have 50gb of mobile hotspot international calling over 20 countries                                                        |\n",
      "|eddc2439012c4c21a3b33b656742ddfe|client |2023-09-28 19:15:12.692307|That sounds great, but if I need all of those features. Can you show a plan that might be a suited for my needs?                                                                                                                                                                                                             |17   |null                                                                                                                                                                                                                                                                                                                         |null                                                                                                                                                                                                                                                  |\n",
      "|eddc2439012c4c21a3b33b656742ddfe|agent  |2023-09-28 19:15:25.153845|Sure, based on your usage, it looks like our 10GB Data would be a good fit for you. It includes 10GB of data, unlimited talk and text, and access to our 5G network. Additionally, you'll still have 5GB of mobile hotspot data and international calling to over 20 countries. Would you like me to switch you to this plan?|17   |Sure, based on your usage, it looks like our 10GB Data would be a good fit for you. It includes 10GB of data, unlimited talk and text, and access to our 5G network. Additionally, you'll still have 5GB of mobile hotspot data and international calling to over 20 countries. Would you like me to switch you to this plan?|sure based on your usage it looks like our 10gb data would be a good fit for you includes of unlimited talk and text access to 5g network additionally youll still have 5gb mobile hotspot international calling over 20 countries me switch this plan|\n",
      "|eddc2439012c4c21a3b33b656742ddfe|client |2023-09-28 19:15:52.384614|Yes, that sounds perfect. Can you also tell me about any promotions or discounts that might be available?                                                                                                                                                                                                                    |17   |Yes, that sounds perfect. Can you also tell me about any promotions or discounts that might be available?                                                                                                                                                                                                                    |yes that sounds perfect can you also tell me about any promotions or discounts might be available                                                                                                                                                     |\n",
      "|eddc2439012c4c21a3b33b656742ddfe|agent  |2023-09-28 19:16:00.692306|Absolutely! We currently have a promotion where you can get $10 off your monthly bill for the first six months when you sign up for automatic payments. Would you like me to apply that promotion to your account?                                                                                                           |17   |Absolutely! We currently have a promotion where you can get $10 off your monthly bill for the first six months when you sign up for automatic payments. Would you like me to apply that promotion to your account?                                                                                                           |absolutely we currently have a promotion where you can get 10 off your monthly bill for the first six months when sign up automatic payments would like me to apply that account                                                                      |\n",
      "|eddc2439012c4c21a3b33b656742ddfe|client |2023-09-28 19:16:18.230768|Yes sounds great, thank you! Can you also tell me about any other fees or charges that I might incur?                                                                                                                                                                                                                        |17   |Yes sounds great, thank you! Can you also tell me about any other fees or charges that I might incur?                                                                                                                                                                                                                        |yes sounds great thank you can also tell me about any other fees or charges that i might incur                                                                                                                                                        |\n",
      "|eddc2439012c4c21a3b33b656742ddfe|agent  |2023-09-28 19:16:27.461537|There may a one-time fee of $20 for the plan change, but that's it. You won't incur any additional fees or charges. Is there anything else I can assist you with today, Ellis?                                                                                                                                               |17   |There may a one-time fee of $20 for the plan change, but that's it. You won't incur any additional fees or charges. Is there anything else I can assist you with today, Ellis?                                                                                                                                               |there may a onetime fee of 20 for the plan change but that it you wont incur any additional fees or charges is anything else i can assist with today ellis                                                                                            |\n",
      "|eddc2439012c4c21a3b33b656742ddfe|client |2023-09-28 19:16:42.692306|No, that's all.  for your help, Gisele.                                                                                                                                                                                                                                                                                      |17   |No, that's all.  for your help, Gisele.                                                                                                                                                                                                                                                                                      |no that all  for your help gisele                                                                                                                                                                                                                     |\n",
      "|eddc2439012c4c21a3b33b656742ddfe|agent  |2023-09-28 19:16:47.769229|. It was my pleasure to assist you. Have a great day!                                                                                                                                                                                                                                                                        |17   |. It was my pleasure to assist you. Have a great day!                                                                                                                                                                                                                                                                        | it was my pleasure to assist you have a great day                                                                                                                                                                                                    |\n",
      "+--------------------------------+-------+--------------------------+-----------------------------------------------------------------------------------------------------------------------------------------------------------------------------------------------------------------------------------------------------------------------------------------------------------------------------+-----+-----------------------------------------------------------------------------------------------------------------------------------------------------------------------------------------------------------------------------------------------------------------------------------------------------------------------------+------------------------------------------------------------------------------------------------------------------------------------------------------------------------------------------------------------------------------------------------------+\n",
      "only showing top 30 rows\n",
      "\n"
     ]
    }
   ],
   "source": [
    "df_preprocessed.show(n=30, truncate=False)"
   ]
  },
  {
   "cell_type": "markdown",
   "metadata": {},
   "source": [
    "We’ll use the spaCy library to perform lemmatization, ensuring that words are normalized to their base forms. This helps maintain consistent language structure, which is especially useful for downstream tasks like topic clustering.\n",
    "\n",
    "For topic modeling, we’ll apply Latent Dirichlet Allocation (LDA). This algorithm is well-suited for analyzing customer-agent transcripts, as it helps uncover:\n",
    "\n",
    "- Common issue categories (e.g., billing, technical support, shipping)\n",
    "- Conversations that shift across topics (e.g., starting with billing, moving to technical)\n",
    "- Agent behavior patterns or areas of specialization\n",
    "- Emerging or trending topics over time\n",
    "\n",
    "When combined with sentiment analysis, this approach will allow us to extract richer insights by reducing word vectors to their most meaningful components. This, in turn, will help us track how conversations evolve—whether topics shift naturally throughout the call, or whether multiple issues are discussed in a single interaction."
   ]
  },
  {
   "cell_type": "code",
   "execution_count": 11,
   "metadata": {},
   "outputs": [],
   "source": [
    "from pyspark.ml import Pipeline\n",
    "from pyspark.ml.feature import Tokenizer, StopWordsRemover, CountVectorizer\n",
    "\n",
    "import spacy\n",
    "from pyspark.sql.functions import udf\n",
    "from pyspark.sql.types import ArrayType, StringType\n",
    "\n",
    "# Load spaCy model (run once: python -m spacy download en_core_web_sm)\n",
    "nlp = spacy.load(\"en_core_web_sm\", disable=[\"parser\", \"ner\"])\n",
    "\n",
    "@udf(returnType=ArrayType(StringType()))\n",
    "def spacy_lemmatize(text):\n",
    "    try:\n",
    "        if text:\n",
    "            doc = nlp(text)\n",
    "            # Get lemmas, excluding stop words and punctuation\n",
    "            return [token.lemma_.lower() for token in doc \n",
    "                    if not token.is_stop and not token.is_punct and token.is_alpha and not token.ent_type_ == \"PERSON\"]\n",
    "        return []\n",
    "    except:\n",
    "        return None\n",
    "\n",
    "# Apply directly to text (combines tokenization + lemmatization)\n",
    "df_tokenize = df_preprocessed.withColumn(\"__lemmatized__\", F.concat_ws(' ' ,spacy_lemmatize(\"__cleaned__\")) )\n",
    "\n",
    "stopwords=[]\n",
    "\n",
    "df_tokenize = tokenize(df_tokenize, cleaned='__lemmatized__', stopwords=stopwords).cache()\n",
    "\n",
    "df_filtered = (\n",
    "    df_tokenize.withColumn(\"__lda_ready__\", \n",
    "        # Remove very short words (< 3 chars)\n",
    "        F.expr(\"filter(__filtered_tokens__, x -> length(x) >= 3)\"))\n",
    "        # Could also add: frequency filtering, n-gram creation\n",
    "    ).cache()"
   ]
  },
  {
   "cell_type": "code",
   "execution_count": 14,
   "metadata": {},
   "outputs": [
    {
     "name": "stdout",
     "output_type": "stream",
     "text": [
      "+--------------------------------+-------+--------------------------+------------------------------------------------------------------------------------------------------------------------------------------------------------+-----+------------------------------------------------------------------------------------------------------------------------------------------------------------+-------------------------------------------------------------------------------------------------------------------------------------+---------------------------------------------------------------------------------+---------------------------------------------------------------------------------------------+---------------------------------------------------------------------------------------------------------------------------------------------------------------+---------------------------------------------------------------------------------------------+\n",
      "|conversation_id                 |speaker|date_time                 |text                                                                                                                                                        |count|__text__                                                                                                                                                    |__cleaned__                                                                                                                          |__lemmatized__                                                                   |__filtered_tokens__                                                                          |__ngrams__                                                                                                                                                     |__lda_ready__                                                                                |\n",
      "+--------------------------------+-------+--------------------------+------------------------------------------------------------------------------------------------------------------------------------------------------------+-----+------------------------------------------------------------------------------------------------------------------------------------------------------------+-------------------------------------------------------------------------------------------------------------------------------------+---------------------------------------------------------------------------------+---------------------------------------------------------------------------------------------+---------------------------------------------------------------------------------------------------------------------------------------------------------------+---------------------------------------------------------------------------------------------+\n",
      "|87c3e19c7a7945a0b7b58cfec06a6363|agent  |2023-12-20 18:54:16       |Hello,  . , how can I assist you today?                                                                                                                     |13   |null                                                                                                                                                        |null                                                                                                                                 |                                                                                 |[]                                                                                           |[]                                                                                                                                                             |[]                                                                                           |\n",
      "|87c3e19c7a7945a0b7b58cfec06a6363|client |2023-12-20 18:54:23.846154|Hi Noe my bill. I have a questions and I'd like to dispute a charge.                                                                                        |13   |Hi Noe my bill. I have a questions and I'd like to dispute a charge.                                                                                        |hi noe my bill i have a questions and would like to dispute charge                                                                   |hi noe bill question like dispute charge                                         |[hi, noe, bill, question, like, dispute, charge]                                             |[hi noe, noe bill, bill question, question like, like dispute, dispute charge]                                                                                 |[noe, bill, question, like, dispute, charge]                                                 |\n",
      "|87c3e19c7a7945a0b7b58cfec06a6363|agent  |2023-12-20 18:54:32.153846|Of course, Iinton. Can you please verify your account PIN or the last four digits of the credit card associated with your account for verification purposes?|13   |Of course, Iinton. Can you please verify your account PIN or the last four digits of the credit card associated with your account for verification purposes?|of course iinton can you please verify your account pin or the last four digits credit card associated with for verification purposes|course iinton verify account pin digit credit card associate verification purpose|[course, iinton, verify, account, pin, digit, credit, card, associate, verification, purpose]|[course iinton, iinton verify, verify account, account pin, pin digit, digit credit, credit card, card associate, associate verification, verification purpose]|[course, iinton, verify, account, pin, digit, credit, card, associate, verification, purpose]|\n",
      "+--------------------------------+-------+--------------------------+------------------------------------------------------------------------------------------------------------------------------------------------------------+-----+------------------------------------------------------------------------------------------------------------------------------------------------------------+-------------------------------------------------------------------------------------------------------------------------------------+---------------------------------------------------------------------------------+---------------------------------------------------------------------------------------------+---------------------------------------------------------------------------------------------------------------------------------------------------------------+---------------------------------------------------------------------------------------------+\n",
      "only showing top 3 rows\n",
      "\n"
     ]
    }
   ],
   "source": [
    "df_filtered.show(3, truncate=False)"
   ]
  },
  {
   "cell_type": "code",
   "execution_count": 13,
   "metadata": {},
   "outputs": [
    {
     "data": {
      "text/plain": [
       "(64045, 3986)"
      ]
     },
     "execution_count": 13,
     "metadata": {},
     "output_type": "execute_result"
    }
   ],
   "source": [
    "df_filtered.count(), df_filtered.select('conversation_id').distinct().count()"
   ]
  },
  {
   "cell_type": "markdown",
   "metadata": {},
   "source": [
    "We are having around 64K text transcripts for almost 4K unique calls."
   ]
  },
  {
   "cell_type": "markdown",
   "metadata": {},
   "source": [
    "## Sentiment extraction"
   ]
  },
  {
   "cell_type": "markdown",
   "metadata": {},
   "source": [
    "For sentiment detection, we will leverage a pre-trained model from Hugging Face:\n",
    "\n",
    "- `model_name = \"cardiffnlp/twitter-roberta-base-sentiment-latest\"`\n",
    "\n",
    "Which is effective at classifying text into three sentiment categories\n",
    "\n",
    "- Negative, Neutral, and Positive.\n",
    "\n",
    "While this lightweight model is suitable for fast prototyping and initial insights, for production-grade performance we can consider integrating more advanced large language models (LLMs), potentially via API-based solutions. \n",
    "\n",
    "This would allow for deeper sentiment understanding, better contextual awareness, and enhanced accuracy across diverse customer interactions.\n",
    "\n",
    "The model is kept within the same UDF structure so that the cluster can operate accordingly if the attribute is set."
   ]
  },
  {
   "cell_type": "code",
   "execution_count": 18,
   "metadata": {},
   "outputs": [],
   "source": [
    "from pyspark.sql import functions as F\n",
    "from pyspark.sql.types import *\n",
    "from transformers import pipeline, AutoTokenizer, AutoModelForSequenceClassification\n",
    "import torch\n",
    "\n",
    "import transformers\n",
    "transformers.logging.set_verbosity_error()\n",
    "\n",
    "import warnings\n",
    "warnings.filterwarnings(\"ignore\", message=\"\")\n",
    "\n",
    "from pyspark.sql.functions import pandas_udf\n",
    "import pandas as pd\n",
    "\n",
    "\n",
    "@pandas_udf(returnType=StructType([\n",
    "    StructField(\"sentiment\", StringType()),\n",
    "    StructField(\"score\", FloatType())\n",
    "]))\n",
    "def sentiment_batch(texts: pd.Series) -> pd.DataFrame:\n",
    "    # Get broadcast variables    \n",
    "    \n",
    "    # Cache model in function attribute (loads once per executor)\n",
    "    if not hasattr(sentiment_batch, 'local_model'):\n",
    "        model_name = \"cardiffnlp/twitter-roberta-base-sentiment-latest\"  # General purpose, constantly up to date (latest)\n",
    "        sentiment_batch.tokenizer = AutoTokenizer.from_pretrained(model_name)\n",
    "        sentiment_batch.model = AutoModelForSequenceClassification.from_pretrained(model_name)\n",
    "        sentiment_batch.model.eval()    \n",
    "    \n",
    "    local_tokenizer = sentiment_batch.tokenizer\n",
    "    local_model = sentiment_batch.model\n",
    "    \n",
    "    sentiments = []\n",
    "    scores = []\n",
    "    \n",
    "    # Process in batches\n",
    "    BATCH_SIZE = 32\n",
    "    for i in range(0, len(texts), BATCH_SIZE):\n",
    "        batch_texts = texts[i:i+BATCH_SIZE].tolist()\n",
    "        \n",
    "        # Tokenize batch\n",
    "        inputs = local_tokenizer(\n",
    "            batch_texts,\n",
    "            padding=True,\n",
    "            truncation=True,\n",
    "            max_length=512,\n",
    "            return_tensors=\"pt\"\n",
    "        )\n",
    "        \n",
    "        # Get predictions\n",
    "        with torch.no_grad():\n",
    "            outputs = local_model(**inputs)\n",
    "            predictions = torch.nn.functional.softmax(outputs.logits, dim=-1)\n",
    "        \n",
    "        # Process results\n",
    "        for j, pred in enumerate(predictions):\n",
    "            # For binary models (POSITIVE/NEGATIVE)\n",
    "            # pred[0] = negative probability, pred[1] = positive probability\n",
    "            \n",
    "            # pos_score = pred[1].item()\n",
    "            neg_score = pred[0].item()    # NEGATIVE probability\n",
    "            neu_score = pred[1].item()    # NEUTRAL probability  \n",
    "            pos_score = pred[2].item()    # POSITIVE probability\n",
    "\n",
    "            # Get the class with highest probability\n",
    "            max_idx = torch.argmax(pred).item()\n",
    "\n",
    "            if max_idx == 2:  # POSITIVE\n",
    "                sentiment = \"POSITIVE\"\n",
    "                score = pos_score\n",
    "            elif max_idx == 0:  # NEGATIVE\n",
    "                sentiment = \"NEGATIVE\"\n",
    "                score = neg_score\n",
    "            else:  # NEUTRAL\n",
    "                sentiment = \"NEUTRAL\"\n",
    "                score = neu_score\n",
    "            \n",
    "            sentiments.append(sentiment)\n",
    "            scores.append(score)\n",
    "    \n",
    "    return pd.DataFrame({\n",
    "        'sentiment': sentiments,\n",
    "        'score': scores\n",
    "    })\n",
    "\n",
    "\n",
    "def sentiment_extraction(df, column):\n",
    "    optimal_partitions = spark.sparkContext.defaultParallelism * 2\n",
    "    \n",
    "    df = df.filter(F.col(column).isNotNull() & (F.length(F.col(column)) > 0))\n",
    "    df = df.repartition(optimal_partitions).cache()\n",
    "\n",
    "    # Configure Spark for better performance\n",
    "    spark.conf.set(\"spark.sql.adaptive.enabled\", \"true\")\n",
    "    spark.conf.set(\"spark.sql.adaptive.coalescePartitions.enabled\", \"true\")\n",
    "    spark.conf.set(\"spark.sql.execution.arrow.pyspark.enabled\", \"true\")\n",
    "\n",
    "    # Apply pandas UDF\n",
    "    return df\\\n",
    "                        .withColumn(\"sentiment_result\", sentiment_batch(F.col(column))) \\\n",
    "                        .withColumn(\"sentiment\", F.col(\"sentiment_result.sentiment\")) \\\n",
    "                        .withColumn(\"sentiment_score\", F.col(\"sentiment_result.score\")) \\\n",
    "                        .drop(\"sentiment_result\")\n",
    "\n",
    "df_with_sentiment = sentiment_extraction(df_filtered, \"text\")"
   ]
  },
  {
   "cell_type": "code",
   "execution_count": 19,
   "metadata": {},
   "outputs": [
    {
     "name": "stdout",
     "output_type": "stream",
     "text": [
      "+--------------------------------+-------+--------------------------+----------------------------------------------------------------------------------------------------------------------------------------------------------------------------------------------+-----+----------------------------------------------------------------------------------------------------------------------------------------------------------------------------------------------+------------------------------------------------------------------------------------------------------------------------------------------------------------------+-----------------------------------------------------------------------------------------+--------------------------------------------------------------------------------------------------------+-----------------------------------------------------------------------------------------------------------------------------------------------------------------------------------+--------------------------------------------------------------------------------------------------------+---------+---------------+\n",
      "|conversation_id                 |speaker|date_time                 |text                                                                                                                                                                                          |count|__text__                                                                                                                                                                                      |__cleaned__                                                                                                                                                       |__lemmatized__                                                                           |__filtered_tokens__                                                                                     |__ngrams__                                                                                                                                                                         |__lda_ready__                                                                                           |sentiment|sentiment_score|\n",
      "+--------------------------------+-------+--------------------------+----------------------------------------------------------------------------------------------------------------------------------------------------------------------------------------------+-----+----------------------------------------------------------------------------------------------------------------------------------------------------------------------------------------------+------------------------------------------------------------------------------------------------------------------------------------------------------------------+-----------------------------------------------------------------------------------------+--------------------------------------------------------------------------------------------------------+-----------------------------------------------------------------------------------------------------------------------------------------------------------------------------------+--------------------------------------------------------------------------------------------------------+---------+---------------+\n",
      "|6a5fa45112854875bed075107c1bca43|agent  |2023-12-15 11:32:42.923077|. Now, can you tell me a little bit more about your business and how you're currently using your data plan? This will help me better understand your needs and find the best solution for you.|17   |. Now, can you tell me a little bit more about your business and how you're currently using your data plan? This will help me better understand your needs and find the best solution for you.| now can you tell me a little bit more about your business and how are currently using data plan this will help better understand needs find the best solution for|tell little bit business currently data plan help well understand need find good solution|[tell, little, bit, business, currently, data, plan, help, well, understand, need, find, good, solution]|[tell little, little bit, bit business, business currently, currently data, data plan, plan help, help well, well understand, understand need, need find, find good, good solution]|[tell, little, bit, business, currently, data, plan, help, well, understand, need, find, good, solution]|NEUTRAL  |0.7684223      |\n",
      "|d26f018cac5f40c7911162e92c86e49b|client |2023-12-01 12:20:54.923077|Yes, I am. !                                                                                                                                                                                  |17   |null                                                                                                                                                                                          |null                                                                                                                                                              |                                                                                         |[]                                                                                                      |[]                                                                                                                                                                                 |[]                                                                                                      |POSITIVE |0.70617235     |\n",
      "|cec4dd3831c0461dbbece66308c3d31c|client |2023-09-06 10:58:01.384615|Hi Saul my cloud gaming service.  a lot of lag and delay while playing games, it's making it really hard to play.                                                                             |19   |Hi Saul my cloud gaming service.  a lot of lag and delay while playing games, it's making it really hard to play.                                                                             |hi saul my cloud gaming service  a lot of lag and delay while playing games it making really hard to play                                                         |hi saul cloud gaming service lot lag delay play game make hard play                      |[hi, saul, cloud, gaming, service, lot, lag, delay, play, game, make, hard]                             |[hi saul, saul cloud, cloud gaming, gaming service, service lot, lot lag, lag delay, delay play, play game, game make, make hard]                                                  |[saul, cloud, gaming, service, lot, lag, delay, play, game, make, hard]                                 |NEGATIVE |0.92447984     |\n",
      "+--------------------------------+-------+--------------------------+----------------------------------------------------------------------------------------------------------------------------------------------------------------------------------------------+-----+----------------------------------------------------------------------------------------------------------------------------------------------------------------------------------------------+------------------------------------------------------------------------------------------------------------------------------------------------------------------+-----------------------------------------------------------------------------------------+--------------------------------------------------------------------------------------------------------+-----------------------------------------------------------------------------------------------------------------------------------------------------------------------------------+--------------------------------------------------------------------------------------------------------+---------+---------------+\n",
      "only showing top 3 rows\n",
      "\n"
     ]
    },
    {
     "name": "stderr",
     "output_type": "stream",
     "text": [
      "Some weights of the model checkpoint at cardiffnlp/twitter-roberta-base-sentiment-latest were not used when initializing RobertaForSequenceClassification: ['roberta.pooler.dense.bias', 'roberta.pooler.dense.weight']\n",
      "- This IS expected if you are initializing RobertaForSequenceClassification from the checkpoint of a model trained on another task or with another architecture (e.g. initializing a BertForSequenceClassification model from a BertForPreTraining model).\n",
      "- This IS NOT expected if you are initializing RobertaForSequenceClassification from the checkpoint of a model that you expect to be exactly identical (initializing a BertForSequenceClassification model from a BertForSequenceClassification model).\n"
     ]
    }
   ],
   "source": [
    "df_with_sentiment.show(3, truncate=False)"
   ]
  },
  {
   "cell_type": "markdown",
   "metadata": {},
   "source": [
    "## Use LDA as topic cluster"
   ]
  },
  {
   "cell_type": "markdown",
   "metadata": {},
   "source": [
    "As commented before, we will use LDA. We have tested the algorithm and found a decent amount of topics to be 10. We will use this `k` value for our research from now on, and later will discuss the other alternatives. "
   ]
  },
  {
   "cell_type": "code",
   "execution_count": 21,
   "metadata": {},
   "outputs": [],
   "source": [
    "# Vectorization for LDA\n",
    "cv = CountVectorizer(\n",
    "    inputCol=\"__lda_ready__\",\n",
    "    outputCol=\"raw_features\",\n",
    "    vocabSize=2000,\n",
    "    minDF=3,         # Reduced minDF to keep more distinctive terms\n",
    "    maxDF=0.7        # Remove terms that appear in >70% of documents\n",
    ")\n",
    "\n",
    "cv_model = cv.fit(df_with_sentiment)\n",
    "df_vectorized = cv_model.transform(df_with_sentiment)\n",
    "cv_vocab = cv_model.vocabulary"
   ]
  },
  {
   "cell_type": "markdown",
   "metadata": {},
   "source": [
    "It is possible to use IDF to just select better vocabulary, by investigating which are the words that appear the most over the documents (Term frequency) but after trying, this option is not OPTIMAL for our use case."
   ]
  },
  {
   "cell_type": "code",
   "execution_count": 18,
   "metadata": {},
   "outputs": [
    {
     "data": {
      "text/plain": [
       "['kelley',\n",
       " 'pleaset',\n",
       " 'arere',\n",
       " 'decent',\n",
       " 'shirley',\n",
       " 'onem',\n",
       " 'radiation',\n",
       " 'estelle',\n",
       " 'unsure',\n",
       " 'tommie']"
      ]
     },
     "execution_count": 18,
     "metadata": {},
     "output_type": "execute_result"
    }
   ],
   "source": [
    "idf = IDF(inputCol=\"raw_features\", outputCol=\"tfidf\")\n",
    "idf_model = idf.fit(df_vectorized)\n",
    "df_vectorized = idf_model.transform(df_vectorized)\n",
    "\n",
    "def sparse_to_pairs(v):\n",
    "    return list(zip(v.indices.tolist(), v.values.tolist()))\n",
    "\n",
    "sparse_to_pairs_udf = udf(sparse_to_pairs, ArrayType(StructType([\n",
    "    StructField(\"index\", IntegerType(), False),\n",
    "    StructField(\"value\", FloatType(), False)\n",
    "])))\n",
    "\n",
    "df_vectorized_tfidf = df_vectorized.withColumn(\"tfidf_pairs\", sparse_to_pairs_udf(F.col(\"tfidf\")))\n",
    "\n",
    "pairs = df_vectorized_tfidf.select(F.explode(F.col(\"tfidf_pairs\")).alias(\"pair\"))\n",
    "pairs = pairs.select(F.col(\"pair.index\").alias(\"index\"), F.col(\"pair.value\").alias(\"score\"))\n",
    "\n",
    "avg_scores = pairs.groupBy(\"index\").avg(\"score\").withColumnRenamed(\"avg(score)\", \"avg_score\")\n",
    "\n",
    "# Select top-N scoring tokens\n",
    "N = 1000\n",
    "sorted_tokens = avg_scores.orderBy(F.col(\"avg_score\").desc()).limit(N).collect()\n",
    "selected_indices = [idx for idx, _ in sorted_tokens]\n",
    "selected_vocab = [cv_vocab[idx] for idx in selected_indices]\n",
    "\n",
    "print(selected_vocab[:10])\n",
    "\n",
    "from pyspark.ml.feature import CountVectorizerModel\n",
    "\n",
    "cv = CountVectorizerModel.from_vocabulary(\n",
    "    selected_vocab,\n",
    "    inputCol=\"__lda_ready__\",\n",
    "    outputCol=\"features\",\n",
    ")\n",
    "\n",
    "df_vectorized_tfidf = cv.transform(df_vectorized)\n",
    "cv_vocab = selected_vocab"
   ]
  },
  {
   "cell_type": "code",
   "execution_count": null,
   "metadata": {},
   "outputs": [],
   "source": [
    "# LDA with optimized settings\n",
    "lda = LDA(\n",
    "            # k=5, \n",
    "            k=10,                          # Try more topics\n",
    "            # maxIter=10,\n",
    "            maxIter=50,                     # More iterations\n",
    "            # optimizer=\"em\",               # \"online\" for streamed large data\n",
    "            optimizer=\"online\",             # Better for larger datasets\n",
    "            featuresCol=\"raw_features\",     # using raw_features instead of \"features\" so that we use the **CountVectorizer + LDA together** \n",
    "            seed=42,                        # For reproducibility\n",
    "            optimizeDocConcentration=True,  # Auto-tune alpha\n",
    "        )     \n",
    "\n",
    "lda_model = lda.fit(df_vectorized)\n",
    "df_topics = lda_model.transform(df_vectorized)"
   ]
  },
  {
   "cell_type": "code",
   "execution_count": 23,
   "metadata": {},
   "outputs": [
    {
     "name": "stdout",
     "output_type": "stream",
     "text": [
      "=== TOPIC ANALYSIS ===\n",
      "\n",
      "Topic 0:\n",
      "Top terms: fix, goodbye, fine, care, sigh, time, phone, service\n",
      "Terms with weights:\n",
      "  fix: 0.0277\n",
      "  goodbye: 0.0274\n",
      "  fine: 0.0227\n",
      "  care: 0.0167\n",
      "  sigh: 0.0164\n",
      "\n",
      "Topic 1:\n",
      "Top terms: plan, like, datum, international, offer, think, account, need\n",
      "Terms with weights:\n",
      "  plan: 0.0530\n",
      "  like: 0.0301\n",
      "  datum: 0.0297\n",
      "  international: 0.0166\n",
      "  offer: 0.0154\n",
      "\n",
      "Topic 2:\n",
      "Top terms: help, thank, okay, sound, think, issue, good, yes\n",
      "Terms with weights:\n",
      "  help: 0.2494\n",
      "  thank: 0.2257\n",
      "  okay: 0.0671\n",
      "  sound: 0.0341\n",
      "  think: 0.0289\n",
      "\n",
      "Topic 3:\n",
      "Top terms: gift, card, machine, cloud, speak, digital, supervisor, learning\n",
      "Terms with weights:\n",
      "  gift: 0.0532\n",
      "  card: 0.0489\n",
      "  machine: 0.0271\n",
      "  cloud: 0.0260\n",
      "  speak: 0.0222\n",
      "\n",
      "Topic 4:\n",
      "Top terms: assist, today, able, team, transfer, issue, help, support\n",
      "Terms with weights:\n",
      "  assist: 0.1266\n",
      "  today: 0.0977\n",
      "  able: 0.0332\n",
      "  team: 0.0299\n",
      "  transfer: 0.0290\n",
      "\n",
      "Topic 5:\n",
      "Top terms: great, day, welcome, bye, alright, enjoy, goodbye\n",
      "Terms with weights:\n",
      "  great: 0.3459\n",
      "  day: 0.2793\n",
      "  welcome: 0.0654\n",
      "  bye: 0.0187\n",
      "  alright: 0.0158\n",
      "\n",
      "Topic 6:\n",
      "Top terms: issue, check, account, like, let, try, look, information\n",
      "Terms with weights:\n",
      "  issue: 0.0366\n",
      "  check: 0.0350\n",
      "  account: 0.0348\n",
      "  like: 0.0280\n",
      "  let: 0.0251\n",
      "\n",
      "Topic 7:\n",
      "Top terms: tell, help, issue, understand, bit, let, happy, account\n",
      "Terms with weights:\n",
      "  tell: 0.0463\n",
      "  help: 0.0460\n",
      "  issue: 0.0455\n",
      "  understand: 0.0364\n",
      "  bit: 0.0283\n",
      "\n",
      "Topic 8:\n",
      "Top terms: device, try, phone, datum, sure, app, work, use\n",
      "Terms with weights:\n",
      "  device: 0.0259\n",
      "  try: 0.0212\n",
      "  phone: 0.0163\n",
      "  datum: 0.0162\n",
      "  sure: 0.0162\n",
      "\n",
      "Topic 9:\n",
      "Top terms: question, concern, reach, great, day, free, feel, hesitate\n",
      "Terms with weights:\n",
      "  question: 0.0924\n",
      "  concern: 0.0732\n",
      "  reach: 0.0685\n",
      "  great: 0.0570\n",
      "  day: 0.0469\n"
     ]
    }
   ],
   "source": [
    "topics = lda_model.describeTopics(maxTermsPerTopic=15)  # More terms\n",
    "vocabulary = cv_model.vocabulary\n",
    "\n",
    "# Calculate topic coherence and filter similar topics\n",
    "def analyze_topic_quality(topics_df, vocabulary):\n",
    "    topic_info = {}\n",
    "    \n",
    "    for row in topics_df.collect():\n",
    "        topic_id = row.topic\n",
    "        term_indices = row.termIndices\n",
    "        term_weights = row.termWeights\n",
    "        \n",
    "        # Get words with their weights\n",
    "        topic_terms = [(vocabulary[idx], weight) for idx, weight in zip(term_indices, term_weights)]\n",
    "        \n",
    "        # Filter out very low-weight terms\n",
    "        significant_terms = [(term, weight) for term, weight in topic_terms if weight > 0.01]\n",
    "        \n",
    "        topic_info[topic_id] = {\n",
    "            'terms': [term for term, _ in significant_terms[:10]],\n",
    "            'weighted_terms': significant_terms[:10],\n",
    "            'top_terms_str': \", \".join([term for term, _ in significant_terms[:8]])\n",
    "        }\n",
    "    \n",
    "    return topic_info\n",
    "\n",
    "topic_analysis = analyze_topic_quality(topics, vocabulary)\n",
    "\n",
    "print(\"=== TOPIC ANALYSIS ===\")\n",
    "for topic_id, info in topic_analysis.items():\n",
    "    print(f\"\\nTopic {topic_id}:\")\n",
    "    print(f\"Top terms: {info['top_terms_str']}\")\n",
    "    print(\"Terms with weights:\")\n",
    "    for term, weight in info['weighted_terms'][:5]:\n",
    "        print(f\"  {term}: {weight:.4f}\")"
   ]
  },
  {
   "cell_type": "code",
   "execution_count": 24,
   "metadata": {},
   "outputs": [
    {
     "name": "stderr",
     "output_type": "stream",
     "text": [
      "Some weights of the model checkpoint at cardiffnlp/twitter-roberta-base-sentiment-latest were not used when initializing RobertaForSequenceClassification: ['roberta.pooler.dense.bias', 'roberta.pooler.dense.weight']\n",
      "- This IS expected if you are initializing RobertaForSequenceClassification from the checkpoint of a model trained on another task or with another architecture (e.g. initializing a BertForSequenceClassification model from a BertForPreTraining model).\n",
      "- This IS NOT expected if you are initializing RobertaForSequenceClassification from the checkpoint of a model that you expect to be exactly identical (initializing a BertForSequenceClassification model from a BertForSequenceClassification model).\n",
      "Some weights of the model checkpoint at cardiffnlp/twitter-roberta-base-sentiment-latest were not used when initializing RobertaForSequenceClassification: ['roberta.pooler.dense.bias', 'roberta.pooler.dense.weight']\n",
      "- This IS expected if you are initializing RobertaForSequenceClassification from the checkpoint of a model trained on another task or with another architecture (e.g. initializing a BertForSequenceClassification model from a BertForPreTraining model).\n",
      "- This IS NOT expected if you are initializing RobertaForSequenceClassification from the checkpoint of a model that you expect to be exactly identical (initializing a BertForSequenceClassification model from a BertForSequenceClassification model).\n"
     ]
    },
    {
     "name": "stdout",
     "output_type": "stream",
     "text": [
      "+--------------------+-------+--------------------+--------------------+-----+--------------------+--------------------+--------------------+--------------------+--------------------+--------------------+---------+---------------+--------------------+--------------------+\n",
      "|     conversation_id|speaker|           date_time|                text|count|            __text__|         __cleaned__|      __lemmatized__| __filtered_tokens__|          __ngrams__|       __lda_ready__|sentiment|sentiment_score|        raw_features|   topicDistribution|\n",
      "+--------------------+-------+--------------------+--------------------+-----+--------------------+--------------------+--------------------+--------------------+--------------------+--------------------+---------+---------------+--------------------+--------------------+\n",
      "|6a5fa45112854875b...|  agent|2023-12-15 11:32:...|. Now, can you te...|   17|. Now, can you te...| now can you tell...|tell little bit b...|[tell, little, bi...|[tell little, lit...|[tell, little, bi...|  NEUTRAL|      0.7684223|(2000,[0,10,16,18...|[0.00526071961240...|\n",
      "|d26f018cac5f40c79...| client|2023-12-01 12:20:...|        Yes, I am. !|   17|                null|                null|                    |                  []|                  []|                  []| POSITIVE|      0.7061723|        (2000,[],[])|[0.0,0.0,0.0,0.0,...|\n",
      "|cec4dd3831c0461db...| client|2023-09-06 10:58:...|Hi Saul my cloud ...|   19|Hi Saul my cloud ...|hi saul my cloud ...|hi saul cloud gam...|[hi, saul, cloud,...|[hi saul, saul cl...|[saul, cloud, gam...| NEGATIVE|     0.92447984|(2000,[28,199,221...|[0.00719117693781...|\n",
      "|ef48ffe25ca64013b...|  agent|2023-10-08 19:36:...|Okay, let's try a...|   13|Okay, let's try a...|okay let try anot...|okay let try thin...|[okay, let, try, ...|[okay let, let tr...|[okay, let, try, ...|  NEUTRAL|      0.8095044|(2000,[0,2,6,7,9,...|[0.00563911494497...|\n",
      "|e5a7d584abe94a56b...| client|2023-11-24 12:30:...|Alright, I did th...|   15|                null|                null|                    |                  []|                  []|                  []|  NEUTRAL|      0.7076556|        (2000,[],[])|[0.0,0.0,0.0,0.0,...|\n",
      "+--------------------+-------+--------------------+--------------------+-----+--------------------+--------------------+--------------------+--------------------+--------------------+--------------------+---------+---------------+--------------------+--------------------+\n",
      "only showing top 5 rows\n",
      "\n"
     ]
    }
   ],
   "source": [
    "df_topics.show(5)"
   ]
  },
  {
   "cell_type": "markdown",
   "metadata": {},
   "source": [
    "with the proposed topics we can see that there is a clear pattern to group them into proper group calls\n",
    "\n",
    "Greetings & Closings:\n",
    "- Topic 5: closing/greeting pattern (great: 0.35, day: 0.28, welcome: 0.07, bye: 0.02)\n",
    "- Topic 9: Follow-up closing (question: 0.09, concern: 0.07, reach: 0.07, great: 0.06, day: 0.05)\n",
    "\n",
    "Technical Support:\n",
    "- Topic 0: Technical resolution (fix: 0.03, phone: service - likely call endings after tech support)\n",
    "- Topic 6: Account troubleshooting (issue: 0.04, check: 0.04, account: 0.03, try: look)\n",
    "- Topic 8: Device support (device: 0.03, try: 0.02, phone: 0.02, app: work: use)\n",
    "\n",
    "Billing/Service/Sales:\n",
    "- Topic 1: Plan discussions offer account (plan: 0.05, international: 0.02, offer: 0.02, account: need)\n",
    "\n",
    "General Support:\n",
    "- Topic 2: General assistance (help: 0.25, thank: 0.23 - highest weights indicate core support)\n",
    "- Topic 4: Support Team (assist: 0.13, today: 0.10, team: 0.03, transfer: 0.03)\n",
    "- Topic 7: Problems (tell: help: issue: understand)\n",
    "\n",
    "Escalations:\n",
    "- Topic 3: Escalation/specialized (gift: card: supervisor: speak - mixed specialized terms)"
   ]
  },
  {
   "cell_type": "code",
   "execution_count": 38,
   "metadata": {},
   "outputs": [],
   "source": [
    "from pyspark.ml.functions import vector_to_array\n",
    "\n",
    "@F.udf(returnType=T.IntegerType())\n",
    "def get_dominant_topic(topic_dist, threshold=0.3):\n",
    "    \"\"\"Only assign dominant topic if confidence is above threshold\"\"\"\n",
    "    if topic_dist:\n",
    "        max_prob = float(max(topic_dist))\n",
    "        if max_prob >= threshold:\n",
    "            return int(np.argmax(topic_dist))\n",
    "    return -1  # No dominant topic\n",
    "\n",
    "df_topics = (\n",
    "        df_topics\n",
    "            .withColumn(\"topic_array\",          vector_to_array(\"topicDistribution\"))\n",
    "            .withColumn(\"dominant_topic_id\",     F.expr(\"array_position(topic_array, array_max(topic_array)) - 1\"))\n",
    "            .withColumn(\"dominant_topic\",       get_dominant_topic(F.col(\"topicDistribution\")))\n",
    "            .withColumn(\"topic\", \n",
    "                        F\n",
    "                        .when(F.col(\"dominant_topic\")    == -1, \"\")\n",
    "                        .when(F.col(\"dominant_topic_id\") == 0, \"Technical Solution\")\n",
    "                        .when(F.col(\"dominant_topic_id\") == 1, \"Billing Plans\")\n",
    "                        .when(F.col(\"dominant_topic_id\") == 2, \"General Support\")\n",
    "                        .when(F.col(\"dominant_topic_id\") == 3, \"Escalation\")\n",
    "                        .when(F.col(\"dominant_topic_id\") == 4, \"Technical Dispatch\")\n",
    "                        .when(F.col(\"dominant_topic_id\") == 5, \"Call Closing\")\n",
    "                        .when(F.col(\"dominant_topic_id\") == 6, \"Account Checking\")\n",
    "                        .when(F.col(\"dominant_topic_id\") == 7, \"Issue Troubleshoot\")\n",
    "                        .when(F.col(\"dominant_topic_id\") == 8, \"Technical Support\")\n",
    "                        .when(F.col(\"dominant_topic_id\") == 9, \"Follow Up\")\n",
    "                        .otherwise(\"Unknown\")\n",
    "            )\n",
    "            .drop(\"topic_array\")\n",
    ")"
   ]
  },
  {
   "cell_type": "code",
   "execution_count": 39,
   "metadata": {},
   "outputs": [
    {
     "name": "stderr",
     "output_type": "stream",
     "text": [
      "Some weights of the model checkpoint at cardiffnlp/twitter-roberta-base-sentiment-latest were not used when initializing RobertaForSequenceClassification: ['roberta.pooler.dense.bias', 'roberta.pooler.dense.weight']\n",
      "- This IS expected if you are initializing RobertaForSequenceClassification from the checkpoint of a model trained on another task or with another architecture (e.g. initializing a BertForSequenceClassification model from a BertForPreTraining model).\n",
      "- This IS NOT expected if you are initializing RobertaForSequenceClassification from the checkpoint of a model that you expect to be exactly identical (initializing a BertForSequenceClassification model from a BertForSequenceClassification model).\n",
      "Some weights of the model checkpoint at cardiffnlp/twitter-roberta-base-sentiment-latest were not used when initializing RobertaForSequenceClassification: ['roberta.pooler.dense.bias', 'roberta.pooler.dense.weight']\n",
      "- This IS expected if you are initializing RobertaForSequenceClassification from the checkpoint of a model trained on another task or with another architecture (e.g. initializing a BertForSequenceClassification model from a BertForPreTraining model).\n",
      "- This IS NOT expected if you are initializing RobertaForSequenceClassification from the checkpoint of a model that you expect to be exactly identical (initializing a BertForSequenceClassification model from a BertForSequenceClassification model).\n"
     ]
    },
    {
     "name": "stdout",
     "output_type": "stream",
     "text": [
      "+--------------------------------+-------+--------------------------+----------------------------------------------------------------------------------------------------------------------------------------------------------------------------------------------+-----+----------------------------------------------------------------------------------------------------------------------------------------------------------------------------------------------+------------------------------------------------------------------------------------------------------------------------------------------------------------------+-----------------------------------------------------------------------------------------+--------------------------------------------------------------------------------------------------------+-----------------------------------------------------------------------------------------------------------------------------------------------------------------------------------+--------------------------------------------------------------------------------------------------------+---------+---------------+----------------------------------------------------------------------------------------------------------------+-----------------------------------------------------------------------------------------------------------------------------------------------------------------------------------------------------------------+-----------------+------------------+--------------+\n",
      "|conversation_id                 |speaker|date_time                 |text                                                                                                                                                                                          |count|__text__                                                                                                                                                                                      |__cleaned__                                                                                                                                                       |__lemmatized__                                                                           |__filtered_tokens__                                                                                     |__ngrams__                                                                                                                                                                         |__lda_ready__                                                                                           |sentiment|sentiment_score|raw_features                                                                                                    |topicDistribution                                                                                                                                                                                                |dominant_topic_id|topic             |dominant_topic|\n",
      "+--------------------------------+-------+--------------------------+----------------------------------------------------------------------------------------------------------------------------------------------------------------------------------------------+-----+----------------------------------------------------------------------------------------------------------------------------------------------------------------------------------------------+------------------------------------------------------------------------------------------------------------------------------------------------------------------+-----------------------------------------------------------------------------------------+--------------------------------------------------------------------------------------------------------+-----------------------------------------------------------------------------------------------------------------------------------------------------------------------------------+--------------------------------------------------------------------------------------------------------+---------+---------------+----------------------------------------------------------------------------------------------------------------+-----------------------------------------------------------------------------------------------------------------------------------------------------------------------------------------------------------------+-----------------+------------------+--------------+\n",
      "|6a5fa45112854875bed075107c1bca43|agent  |2023-12-15 11:32:42.923077|. Now, can you tell me a little bit more about your business and how you're currently using your data plan? This will help me better understand your needs and find the best solution for you.|17   |. Now, can you tell me a little bit more about your business and how you're currently using your data plan? This will help me better understand your needs and find the best solution for you.| now can you tell me a little bit more about your business and how are currently using data plan this will help better understand needs find the best solution for|tell little bit business currently data plan help well understand need find good solution|[tell, little, bit, business, currently, data, plan, help, well, understand, need, find, good, solution]|[tell little, little bit, bit business, business currently, currently data, data plan, plan help, help well, well understand, understand need, need find, find good, good solution]|[tell, little, bit, business, currently, data, plan, help, well, understand, need, find, good, solution]|NEUTRAL  |0.7684223      |(2000,[0,10,16,18,20,41,42,54,89,119,125,148,166,167],[1.0,1.0,1.0,1.0,1.0,1.0,1.0,1.0,1.0,1.0,1.0,1.0,1.0,1.0])|[0.005260719612400998,0.3783548968646243,0.006082743474351152,0.004881213829030938,0.006685536071247856,0.0059277115437951985,0.007250372833136727,0.5742195250387631,0.006011530773527644,0.005325749959122156] |7                |Issue Troubleshoot|7             |\n",
      "|d26f018cac5f40c7911162e92c86e49b|client |2023-12-01 12:20:54.923077|Yes, I am. !                                                                                                                                                                                  |17   |null                                                                                                                                                                                          |null                                                                                                                                                              |                                                                                         |[]                                                                                                      |[]                                                                                                                                                                                 |[]                                                                                                      |POSITIVE |0.7061723      |(2000,[],[])                                                                                                    |[0.0,0.0,0.0,0.0,0.0,0.0,0.0,0.0,0.0,0.0]                                                                                                                                                                        |0                |                  |-1            |\n",
      "|cec4dd3831c0461dbbece66308c3d31c|client |2023-09-06 10:58:01.384615|Hi Saul my cloud gaming service.  a lot of lag and delay while playing games, it's making it really hard to play.                                                                             |19   |Hi Saul my cloud gaming service.  a lot of lag and delay while playing games, it's making it really hard to play.                                                                             |hi saul my cloud gaming service  a lot of lag and delay while playing games it making really hard to play                                                         |hi saul cloud gaming service lot lag delay play game make hard play                      |[hi, saul, cloud, gaming, service, lot, lag, delay, play, game, make, hard]                             |[hi saul, saul cloud, cloud gaming, gaming service, service lot, lot lag, lag delay, delay play, play game, game make, make hard]                                                  |[saul, cloud, gaming, service, lot, lag, delay, play, game, make, hard]                                 |NEGATIVE |0.92447984     |(2000,[28,199,221,264,279,317,375,495,552,730],[1.0,1.0,1.0,1.0,1.0,1.0,1.0,1.0,1.0,1.0])                       |[0.007191176937819632,0.009055991969683059,0.008315366370384653,0.006672739132791778,0.009137572506603612,0.008102796416055357,0.009913550695761936,0.008701455058542832,0.9256293663513775,0.007279984560979687]|8                |Technical Support |8             |\n",
      "|ef48ffe25ca64013bc3abe2e2af34700|agent  |2023-10-08 19:36:23.615385|Okay, let's try another thing. Have you checked to see if there are any software updates available for your device? Sometimes updates can help resolve issues like this.                      |13   |Okay, let's try another thing. Have you checked to see if there are any software updates available for your device? Sometimes updates can help resolve issues like this.                      |okay let try another thing have you checked to see if there are any software updates available for your device sometimes can help resolve issues like this        |okay let try thing check software update available device help resolve issue like        |[okay, let, try, thing, check, software, update, available, device, help, resolve, issue, like]         |[okay let, let try, try thing, thing check, check software, software update, update available, available device, device help, help resolve, resolve issue, issue like]             |[okay, let, try, thing, check, software, update, available, device, help, resolve, issue, like]         |NEUTRAL  |0.8095044      |(2000,[0,2,6,7,9,12,13,22,23,33,65,93,106],[1.0,1.0,1.0,1.0,1.0,1.0,1.0,1.0,1.0,1.0,1.0,1.0,1.0])               |[0.00563911494497174,0.007101654598578754,0.006521545163895797,0.00523237822511864,0.007165803550464318,0.00635389643226504,0.9430088958957836,0.006823880745338269,0.006444024208379811,0.0057088062352041195]  |6                |Account Checking  |6             |\n",
      "|e5a7d584abe94a56bc95f2c75ad6093d|client |2023-11-24 12:30:12.307691|Alright, I did that. But now it's asking me for a verification code. Where do I find that?                                                                                                    |15   |null                                                                                                                                                                                          |null                                                                                                                                                              |                                                                                         |[]                                                                                                      |[]                                                                                                                                                                                 |[]                                                                                                      |NEUTRAL  |0.7076556      |(2000,[],[])                                                                                                    |[0.0,0.0,0.0,0.0,0.0,0.0,0.0,0.0,0.0,0.0]                                                                                                                                                                        |0                |                  |-1            |\n",
      "+--------------------------------+-------+--------------------------+----------------------------------------------------------------------------------------------------------------------------------------------------------------------------------------------+-----+----------------------------------------------------------------------------------------------------------------------------------------------------------------------------------------------+------------------------------------------------------------------------------------------------------------------------------------------------------------------+-----------------------------------------------------------------------------------------+--------------------------------------------------------------------------------------------------------+-----------------------------------------------------------------------------------------------------------------------------------------------------------------------------------+--------------------------------------------------------------------------------------------------------+---------+---------------+----------------------------------------------------------------------------------------------------------------+-----------------------------------------------------------------------------------------------------------------------------------------------------------------------------------------------------------------+-----------------+------------------+--------------+\n",
      "only showing top 5 rows\n",
      "\n"
     ]
    }
   ],
   "source": [
    "df_topics.show(5, truncate=False)"
   ]
  },
  {
   "cell_type": "markdown",
   "metadata": {},
   "source": [
    "The following part of code is just to bring up the most important topic within the set of topics inside the LDA separation. It helps later to see how confident the LDA is confident in choosing the selected topic. It sees how confident the model was in its assignment."
   ]
  },
  {
   "cell_type": "code",
   "execution_count": 70,
   "metadata": {},
   "outputs": [],
   "source": [
    "df_with_topics = (\n",
    "    df_topics\n",
    "        .withColumn(\n",
    "            \"max_topic_prob\",\n",
    "            F.udf(lambda x: float(max(x)) if x else 0.0, T.DoubleType())(F.col(\"topicDistribution\"))\n",
    "        )\n",
    ")\n",
    "\n",
    "# Create improved topic description UDF\n",
    "@F.udf(returnType=StringType())\n",
    "def get_topic_description(topic_id):\n",
    "    if topic_id in topic_analysis and topic_id != -1:\n",
    "        return topic_analysis[topic_id]['top_terms_str']\n",
    "    return \"No dominant topic\"\n",
    "\n",
    "df_final = (\n",
    "    df_with_topics\n",
    "        .withColumn(\n",
    "            \"topic_words\", \n",
    "            get_topic_description(F.col(\"dominant_topic\"))\n",
    "        )\n",
    "    )\n",
    "\n",
    "# Get dominant topic value from sparse vector\n",
    "@F.udf(T.FloatType())\n",
    "def get_dominant_topic_value(vec):\n",
    "    if vec:\n",
    "        max_idx = vec.argmax()\n",
    "        return float(vec[max_idx])\n",
    "    return 0.0\n",
    "\n",
    "df_final = (\n",
    "    df_final\n",
    "        .withColumn( \"dominant_topic_value\",  get_dominant_topic_value(\"topicDistribution\"))\n",
    "        .cache()\n",
    "    )"
   ]
  },
  {
   "cell_type": "markdown",
   "metadata": {},
   "source": [
    "## Show or store the Final Result"
   ]
  },
  {
   "cell_type": "code",
   "execution_count": 34,
   "metadata": {},
   "outputs": [],
   "source": [
    "import shutil\n",
    "\n",
    "# shutil.rmtree('df_final.parquet')\n",
    "# df_final.write.parquet('df_final.parquet')\n",
    "\n",
    "# df_final.write.parquet('df_final.parquet')"
   ]
  },
  {
   "cell_type": "code",
   "execution_count": 41,
   "metadata": {},
   "outputs": [
    {
     "name": "stderr",
     "output_type": "stream",
     "text": [
      "Some weights of the model checkpoint at cardiffnlp/twitter-roberta-base-sentiment-latest were not used when initializing RobertaForSequenceClassification: ['roberta.pooler.dense.bias', 'roberta.pooler.dense.weight']\n",
      "- This IS expected if you are initializing RobertaForSequenceClassification from the checkpoint of a model trained on another task or with another architecture (e.g. initializing a BertForSequenceClassification model from a BertForPreTraining model).\n",
      "- This IS NOT expected if you are initializing RobertaForSequenceClassification from the checkpoint of a model that you expect to be exactly identical (initializing a BertForSequenceClassification model from a BertForSequenceClassification model).\n",
      "Some weights of the model checkpoint at cardiffnlp/twitter-roberta-base-sentiment-latest were not used when initializing RobertaForSequenceClassification: ['roberta.pooler.dense.bias', 'roberta.pooler.dense.weight']\n",
      "- This IS expected if you are initializing RobertaForSequenceClassification from the checkpoint of a model trained on another task or with another architecture (e.g. initializing a BertForSequenceClassification model from a BertForPreTraining model).\n",
      "- This IS NOT expected if you are initializing RobertaForSequenceClassification from the checkpoint of a model that you expect to be exactly identical (initializing a BertForSequenceClassification model from a BertForSequenceClassification model).\n"
     ]
    },
    {
     "name": "stdout",
     "output_type": "stream",
     "text": [
      "+------------------------------------------------------------------------------------------------------------------------------------------------+------------------+--------------+-----------------+--------------------+--------------------------------------------------------+---------+---------------+\n",
      "|__lemmatized__                                                                                                                                  |topic             |dominant_topic|dominant_topic_id|dominant_topic_value|topic_words                                             |sentiment|sentiment_score|\n",
      "+------------------------------------------------------------------------------------------------------------------------------------------------+------------------+--------------+-----------------+--------------------+--------------------------------------------------------+---------+---------------+\n",
      "|tell little bit business currently data plan help well understand need find good solution                                                       |Issue Troubleshoot|7             |7                |0.5742195           |tell, help, issue, understand, bit, let, happy, account |NEUTRAL  |0.7684223      |\n",
      "|                                                                                                                                                |                  |-1            |0                |0.0                 |No dominant topic                                       |POSITIVE |0.7061723      |\n",
      "|hi saul cloud gaming service lot lag delay play game make hard play                                                                             |Technical Support |8             |8                |0.9256294           |device, try, phone, datum, sure, app, work, use         |NEGATIVE |0.92447984     |\n",
      "|okay let try thing check software update available device help resolve issue like                                                               |Account Checking  |6             |6                |0.9430089           |issue, check, account, like, let, try, look, information|NEUTRAL  |0.8095044      |\n",
      "|                                                                                                                                                |                  |-1            |0                |0.0                 |No dominant topic                                       |NEUTRAL  |0.7076556      |\n",
      "|good day fa call phone support assist inquiry provide account number verify identity pull information                                           |Issue Troubleshoot|7             |7                |0.87193716          |tell, help, issue, understand, bit, let, happy, account |POSITIVE |0.8103008      |\n",
      "|okay think update download                                                                                                                      |General Support   |2             |2                |0.448012            |help, thank, okay, sound, think, issue, good, yes       |NEUTRAL  |0.7000889      |\n",
      "|                                                                                                                                                |                  |-1            |0                |0.0                 |No dominant topic                                       |NEUTRAL  |0.5706016      |\n",
      "|                                                                                                                                                |                  |-1            |0                |0.0                 |No dominant topic                                       |NEUTRAL  |0.9122956      |\n",
      "|                                                                                                                                                |                  |-1            |0                |0.0                 |No dominant topic                                       |POSITIVE |0.91463494     |\n",
      "|contactless payment device unique token generate specifically transaction valid single additionally transaction monitor flag suspicious activity|Technical Support |8             |8                |0.941682            |device, try, phone, datum, sure, app, work, use         |NEUTRAL  |0.88985866     |\n",
      "|okay make sense thank help grace                                                                                                                |General Support   |2             |2                |0.86279947          |help, thank, okay, sound, think, issue, good, yes       |POSITIVE |0.8938217      |\n",
      "|thing need help thank                                                                                                                           |General Support   |2             |2                |0.8347651           |help, thank, okay, sound, think, issue, good, yes       |POSITIVE |0.5648774      |\n",
      "|                                                                                                                                                |                  |-1            |0                |0.0                 |No dominant topic                                       |POSITIVE |0.96513355     |\n",
      "|locate account specific question contract                                                                                                       |Issue Troubleshoot|7             |7                |0.52640826          |tell, help, issue, understand, bit, let, happy, account |NEUTRAL  |0.9398813      |\n",
      "+------------------------------------------------------------------------------------------------------------------------------------------------+------------------+--------------+-----------------+--------------------+--------------------------------------------------------+---------+---------------+\n",
      "only showing top 15 rows\n",
      "\n"
     ]
    }
   ],
   "source": [
    "# View with all topic info\n",
    "df_final.select(\"__lemmatized__\", 'topic', \n",
    "                \"dominant_topic\", \"dominant_topic_id\", \n",
    "                \"dominant_topic_value\", \"topic_words\", \n",
    "                \"sentiment\", \"sentiment_score\")\\\n",
    "        .show(15, truncate=False)"
   ]
  },
  {
   "cell_type": "markdown",
   "metadata": {},
   "source": [
    "# 3. Find optimal topics LDA(k) / EVALUATE MODEL"
   ]
  },
  {
   "cell_type": "code",
   "execution_count": 42,
   "metadata": {},
   "outputs": [
    {
     "name": "stdout",
     "output_type": "stream",
     "text": [
      "\n",
      "=== SAMPLE RESULTS ===\n",
      "+---------------------------------------------------------------------------------------------------------------------------------------------------------------------------------------------------------------------------------------------------------------------------------+--------------+-------------------+--------------------------------------------------------+\n",
      "|text                                                                                                                                                                                                                                                                             |dominant_topic|max_topic_prob     |topic_words                                             |\n",
      "+---------------------------------------------------------------------------------------------------------------------------------------------------------------------------------------------------------------------------------------------------------------------------------+--------------+-------------------+--------------------------------------------------------+\n",
      "|. Now, can you tell me a little bit more about your business and how you're currently using your data plan? This will help me better understand your needs and find the best solution for you.                                                                                   |7             |0.5742195250387631 |tell, help, issue, understand, bit, let, happy, account |\n",
      "|Hi Saul my cloud gaming service.  a lot of lag and delay while playing games, it's making it really hard to play.                                                                                                                                                                |8             |0.9256293663513775 |device, try, phone, datum, sure, app, work, use         |\n",
      "|Okay, let's try another thing. Have you checked to see if there are any software updates available for your device? Sometimes updates can help resolve issues like this.                                                                                                         |6             |0.9430088958957836 |issue, check, account, like, let, try, look, information|\n",
      "|Good day, Fa you for calling 's 24/7 Phone Support. , and I'll be assist to assist you with any inquiry. May you please provide me with your name and account number so I can verify your identity and pull up your account information?                                         |7             |0.8719371581982422 |tell, help, issue, understand, bit, let, happy, account |\n",
      "|Okay, I think I just the update downloading now.                                                                                                                                                                                                                                 |2             |0.44801199334361785|help, thank, okay, sound, think, issue, good, yes       |\n",
      "|When you make a contactless payment using your  device, a unique token is generated specifically each transaction. This token is only valid for a single transaction and cannot be used again. Additionally, all transactions are monitored  flagged for any suspicious activity.|8             |0.9416819894572716 |device, try, phone, datum, sure, app, work, use         |\n",
      "|Okay, that makes sense. Thank for your help, Grace.                                                                                                                                                                                                                              |2             |0.8627994660217434 |help, thank, okay, sound, think, issue, good, yes       |\n",
      "|No, that was the only thing I needed help with. Thanks again!                                                                                                                                                                                                                    |2             |0.8347650669386432 |help, thank, okay, sound, think, issue, good, yes       |\n",
      "|. I've located your account. What specific questions do you have regarding your contract?                                                                                                                                                                                        |7             |0.5264082537193584 |tell, help, issue, understand, bit, let, happy, account |\n",
      "|Sure, let me grab that information real quick. (pause) Okay, I have here that I was charged $500 for Cloud Machine Learning on January 1st. Can you tell me what that's for?                                                                                                     |6             |0.4589544002846757 |issue, check, account, like, let, try, look, information|\n",
      "+---------------------------------------------------------------------------------------------------------------------------------------------------------------------------------------------------------------------------------------------------------------------------------+--------------+-------------------+--------------------------------------------------------+\n",
      "only showing top 10 rows\n",
      "\n",
      "\n",
      "=== TOPIC DISTRIBUTION ===\n"
     ]
    },
    {
     "name": "stderr",
     "output_type": "stream",
     "text": [
      "Some weights of the model checkpoint at cardiffnlp/twitter-roberta-base-sentiment-latest were not used when initializing RobertaForSequenceClassification: ['roberta.pooler.dense.bias', 'roberta.pooler.dense.weight']\n",
      "- This IS expected if you are initializing RobertaForSequenceClassification from the checkpoint of a model trained on another task or with another architecture (e.g. initializing a BertForSequenceClassification model from a BertForPreTraining model).\n",
      "- This IS NOT expected if you are initializing RobertaForSequenceClassification from the checkpoint of a model that you expect to be exactly identical (initializing a BertForSequenceClassification model from a BertForSequenceClassification model).\n",
      "Some weights of the model checkpoint at cardiffnlp/twitter-roberta-base-sentiment-latest were not used when initializing RobertaForSequenceClassification: ['roberta.pooler.dense.bias', 'roberta.pooler.dense.weight']\n",
      "- This IS expected if you are initializing RobertaForSequenceClassification from the checkpoint of a model trained on another task or with another architecture (e.g. initializing a BertForSequenceClassification model from a BertForPreTraining model).\n",
      "- This IS NOT expected if you are initializing RobertaForSequenceClassification from the checkpoint of a model that you expect to be exactly identical (initializing a BertForSequenceClassification model from a BertForSequenceClassification model).\n",
      "Some weights of the model checkpoint at cardiffnlp/twitter-roberta-base-sentiment-latest were not used when initializing RobertaForSequenceClassification: ['roberta.pooler.dense.bias', 'roberta.pooler.dense.weight']\n",
      "- This IS expected if you are initializing RobertaForSequenceClassification from the checkpoint of a model trained on another task or with another architecture (e.g. initializing a BertForSequenceClassification model from a BertForPreTraining model).\n",
      "- This IS NOT expected if you are initializing RobertaForSequenceClassification from the checkpoint of a model that you expect to be exactly identical (initializing a BertForSequenceClassification model from a BertForSequenceClassification model).\n",
      "Some weights of the model checkpoint at cardiffnlp/twitter-roberta-base-sentiment-latest were not used when initializing RobertaForSequenceClassification: ['roberta.pooler.dense.bias', 'roberta.pooler.dense.weight']\n",
      "- This IS expected if you are initializing RobertaForSequenceClassification from the checkpoint of a model trained on another task or with another architecture (e.g. initializing a BertForSequenceClassification model from a BertForPreTraining model).\n",
      "- This IS NOT expected if you are initializing RobertaForSequenceClassification from the checkpoint of a model that you expect to be exactly identical (initializing a BertForSequenceClassification model from a BertForSequenceClassification model).\n",
      "Some weights of the model checkpoint at cardiffnlp/twitter-roberta-base-sentiment-latest were not used when initializing RobertaForSequenceClassification: ['roberta.pooler.dense.bias', 'roberta.pooler.dense.weight']\n",
      "- This IS expected if you are initializing RobertaForSequenceClassification from the checkpoint of a model trained on another task or with another architecture (e.g. initializing a BertForSequenceClassification model from a BertForPreTraining model).\n",
      "- This IS NOT expected if you are initializing RobertaForSequenceClassification from the checkpoint of a model that you expect to be exactly identical (initializing a BertForSequenceClassification model from a BertForSequenceClassification model).\n",
      "Some weights of the model checkpoint at cardiffnlp/twitter-roberta-base-sentiment-latest were not used when initializing RobertaForSequenceClassification: ['roberta.pooler.dense.bias', 'roberta.pooler.dense.weight']\n",
      "- This IS expected if you are initializing RobertaForSequenceClassification from the checkpoint of a model trained on another task or with another architecture (e.g. initializing a BertForSequenceClassification model from a BertForPreTraining model).\n",
      "- This IS NOT expected if you are initializing RobertaForSequenceClassification from the checkpoint of a model that you expect to be exactly identical (initializing a BertForSequenceClassification model from a BertForSequenceClassification model).\n",
      "Some weights of the model checkpoint at cardiffnlp/twitter-roberta-base-sentiment-latest were not used when initializing RobertaForSequenceClassification: ['roberta.pooler.dense.bias', 'roberta.pooler.dense.weight']\n",
      "- This IS expected if you are initializing RobertaForSequenceClassification from the checkpoint of a model trained on another task or with another architecture (e.g. initializing a BertForSequenceClassification model from a BertForPreTraining model).\n",
      "- This IS NOT expected if you are initializing RobertaForSequenceClassification from the checkpoint of a model that you expect to be exactly identical (initializing a BertForSequenceClassification model from a BertForSequenceClassification model).\n",
      "Some weights of the model checkpoint at cardiffnlp/twitter-roberta-base-sentiment-latest were not used when initializing RobertaForSequenceClassification: ['roberta.pooler.dense.bias', 'roberta.pooler.dense.weight']\n",
      "- This IS expected if you are initializing RobertaForSequenceClassification from the checkpoint of a model trained on another task or with another architecture (e.g. initializing a BertForSequenceClassification model from a BertForPreTraining model).\n",
      "- This IS NOT expected if you are initializing RobertaForSequenceClassification from the checkpoint of a model that you expect to be exactly identical (initializing a BertForSequenceClassification model from a BertForSequenceClassification model).\n",
      "Some weights of the model checkpoint at cardiffnlp/twitter-roberta-base-sentiment-latest were not used when initializing RobertaForSequenceClassification: ['roberta.pooler.dense.bias', 'roberta.pooler.dense.weight']\n",
      "- This IS expected if you are initializing RobertaForSequenceClassification from the checkpoint of a model trained on another task or with another architecture (e.g. initializing a BertForSequenceClassification model from a BertForPreTraining model).\n",
      "- This IS NOT expected if you are initializing RobertaForSequenceClassification from the checkpoint of a model that you expect to be exactly identical (initializing a BertForSequenceClassification model from a BertForSequenceClassification model).\n",
      "Some weights of the model checkpoint at cardiffnlp/twitter-roberta-base-sentiment-latest were not used when initializing RobertaForSequenceClassification: ['roberta.pooler.dense.bias', 'roberta.pooler.dense.weight']\n",
      "- This IS expected if you are initializing RobertaForSequenceClassification from the checkpoint of a model trained on another task or with another architecture (e.g. initializing a BertForSequenceClassification model from a BertForPreTraining model).\n",
      "- This IS NOT expected if you are initializing RobertaForSequenceClassification from the checkpoint of a model that you expect to be exactly identical (initializing a BertForSequenceClassification model from a BertForSequenceClassification model).\n",
      "Some weights of the model checkpoint at cardiffnlp/twitter-roberta-base-sentiment-latest were not used when initializing RobertaForSequenceClassification: ['roberta.pooler.dense.bias', 'roberta.pooler.dense.weight']\n",
      "- This IS expected if you are initializing RobertaForSequenceClassification from the checkpoint of a model trained on another task or with another architecture (e.g. initializing a BertForSequenceClassification model from a BertForPreTraining model).\n",
      "- This IS NOT expected if you are initializing RobertaForSequenceClassification from the checkpoint of a model that you expect to be exactly identical (initializing a BertForSequenceClassification model from a BertForSequenceClassification model).\n",
      "Some weights of the model checkpoint at cardiffnlp/twitter-roberta-base-sentiment-latest were not used when initializing RobertaForSequenceClassification: ['roberta.pooler.dense.bias', 'roberta.pooler.dense.weight']\n",
      "- This IS expected if you are initializing RobertaForSequenceClassification from the checkpoint of a model trained on another task or with another architecture (e.g. initializing a BertForSequenceClassification model from a BertForPreTraining model).\n",
      "- This IS NOT expected if you are initializing RobertaForSequenceClassification from the checkpoint of a model that you expect to be exactly identical (initializing a BertForSequenceClassification model from a BertForSequenceClassification model).\n",
      "Some weights of the model checkpoint at cardiffnlp/twitter-roberta-base-sentiment-latest were not used when initializing RobertaForSequenceClassification: ['roberta.pooler.dense.bias', 'roberta.pooler.dense.weight']\n",
      "- This IS expected if you are initializing RobertaForSequenceClassification from the checkpoint of a model trained on another task or with another architecture (e.g. initializing a BertForSequenceClassification model from a BertForPreTraining model).\n",
      "- This IS NOT expected if you are initializing RobertaForSequenceClassification from the checkpoint of a model that you expect to be exactly identical (initializing a BertForSequenceClassification model from a BertForSequenceClassification model).\n",
      "Some weights of the model checkpoint at cardiffnlp/twitter-roberta-base-sentiment-latest were not used when initializing RobertaForSequenceClassification: ['roberta.pooler.dense.bias', 'roberta.pooler.dense.weight']\n",
      "- This IS expected if you are initializing RobertaForSequenceClassification from the checkpoint of a model trained on another task or with another architecture (e.g. initializing a BertForSequenceClassification model from a BertForPreTraining model).\n",
      "- This IS NOT expected if you are initializing RobertaForSequenceClassification from the checkpoint of a model that you expect to be exactly identical (initializing a BertForSequenceClassification model from a BertForSequenceClassification model).\n",
      "Some weights of the model checkpoint at cardiffnlp/twitter-roberta-base-sentiment-latest were not used when initializing RobertaForSequenceClassification: ['roberta.pooler.dense.bias', 'roberta.pooler.dense.weight']\n",
      "- This IS expected if you are initializing RobertaForSequenceClassification from the checkpoint of a model trained on another task or with another architecture (e.g. initializing a BertForSequenceClassification model from a BertForPreTraining model).\n",
      "- This IS NOT expected if you are initializing RobertaForSequenceClassification from the checkpoint of a model that you expect to be exactly identical (initializing a BertForSequenceClassification model from a BertForSequenceClassification model).\n",
      "Some weights of the model checkpoint at cardiffnlp/twitter-roberta-base-sentiment-latest were not used when initializing RobertaForSequenceClassification: ['roberta.pooler.dense.bias', 'roberta.pooler.dense.weight']\n",
      "- This IS expected if you are initializing RobertaForSequenceClassification from the checkpoint of a model trained on another task or with another architecture (e.g. initializing a BertForSequenceClassification model from a BertForPreTraining model).\n",
      "- This IS NOT expected if you are initializing RobertaForSequenceClassification from the checkpoint of a model that you expect to be exactly identical (initializing a BertForSequenceClassification model from a BertForSequenceClassification model).\n",
      "Some weights of the model checkpoint at cardiffnlp/twitter-roberta-base-sentiment-latest were not used when initializing RobertaForSequenceClassification: ['roberta.pooler.dense.bias', 'roberta.pooler.dense.weight']\n",
      "- This IS expected if you are initializing RobertaForSequenceClassification from the checkpoint of a model trained on another task or with another architecture (e.g. initializing a BertForSequenceClassification model from a BertForPreTraining model).\n",
      "- This IS NOT expected if you are initializing RobertaForSequenceClassification from the checkpoint of a model that you expect to be exactly identical (initializing a BertForSequenceClassification model from a BertForSequenceClassification model).\n",
      "Some weights of the model checkpoint at cardiffnlp/twitter-roberta-base-sentiment-latest were not used when initializing RobertaForSequenceClassification: ['roberta.pooler.dense.bias', 'roberta.pooler.dense.weight']\n",
      "- This IS expected if you are initializing RobertaForSequenceClassification from the checkpoint of a model trained on another task or with another architecture (e.g. initializing a BertForSequenceClassification model from a BertForPreTraining model).\n",
      "- This IS NOT expected if you are initializing RobertaForSequenceClassification from the checkpoint of a model that you expect to be exactly identical (initializing a BertForSequenceClassification model from a BertForSequenceClassification model).\n",
      "Some weights of the model checkpoint at cardiffnlp/twitter-roberta-base-sentiment-latest were not used when initializing RobertaForSequenceClassification: ['roberta.pooler.dense.bias', 'roberta.pooler.dense.weight']\n",
      "- This IS expected if you are initializing RobertaForSequenceClassification from the checkpoint of a model trained on another task or with another architecture (e.g. initializing a BertForSequenceClassification model from a BertForPreTraining model).\n",
      "- This IS NOT expected if you are initializing RobertaForSequenceClassification from the checkpoint of a model that you expect to be exactly identical (initializing a BertForSequenceClassification model from a BertForSequenceClassification model).\n",
      "Some weights of the model checkpoint at cardiffnlp/twitter-roberta-base-sentiment-latest were not used when initializing RobertaForSequenceClassification: ['roberta.pooler.dense.bias', 'roberta.pooler.dense.weight']\n",
      "- This IS expected if you are initializing RobertaForSequenceClassification from the checkpoint of a model trained on another task or with another architecture (e.g. initializing a BertForSequenceClassification model from a BertForPreTraining model).\n",
      "- This IS NOT expected if you are initializing RobertaForSequenceClassification from the checkpoint of a model that you expect to be exactly identical (initializing a BertForSequenceClassification model from a BertForSequenceClassification model).\n",
      "Some weights of the model checkpoint at cardiffnlp/twitter-roberta-base-sentiment-latest were not used when initializing RobertaForSequenceClassification: ['roberta.pooler.dense.bias', 'roberta.pooler.dense.weight']\n",
      "- This IS expected if you are initializing RobertaForSequenceClassification from the checkpoint of a model trained on another task or with another architecture (e.g. initializing a BertForSequenceClassification model from a BertForPreTraining model).\n",
      "- This IS NOT expected if you are initializing RobertaForSequenceClassification from the checkpoint of a model that you expect to be exactly identical (initializing a BertForSequenceClassification model from a BertForSequenceClassification model).\n",
      "Some weights of the model checkpoint at cardiffnlp/twitter-roberta-base-sentiment-latest were not used when initializing RobertaForSequenceClassification: ['roberta.pooler.dense.bias', 'roberta.pooler.dense.weight']\n",
      "- This IS expected if you are initializing RobertaForSequenceClassification from the checkpoint of a model trained on another task or with another architecture (e.g. initializing a BertForSequenceClassification model from a BertForPreTraining model).\n",
      "- This IS NOT expected if you are initializing RobertaForSequenceClassification from the checkpoint of a model that you expect to be exactly identical (initializing a BertForSequenceClassification model from a BertForSequenceClassification model).\n"
     ]
    },
    {
     "name": "stdout",
     "output_type": "stream",
     "text": [
      "+--------------+-----+\n",
      "|dominant_topic|count|\n",
      "+--------------+-----+\n",
      "|            -1|25183|\n",
      "|             0| 1500|\n",
      "|             1| 5264|\n",
      "|             2| 4689|\n",
      "|             3|  146|\n",
      "|             4| 5917|\n",
      "|             5| 3430|\n",
      "|             6| 7216|\n",
      "|             7| 4972|\n",
      "|             8| 4392|\n",
      "|             9| 1336|\n",
      "+--------------+-----+\n",
      "\n"
     ]
    }
   ],
   "source": [
    "print(\"\\n=== SAMPLE RESULTS ===\")\n",
    "df_final\\\n",
    "    .select(\n",
    "        \"text\", \n",
    "        # \"topic\",\n",
    "        \"dominant_topic\", \n",
    "        \"max_topic_prob\",\n",
    "        \"topic_words\")\\\n",
    "    .filter(F.col(\"dominant_topic\") != -1  # Only show documents with clear dominant topics\n",
    "        )\\\n",
    "    .show(10, truncate=False)\n",
    "\n",
    "# Show topic distribution\n",
    "print(\"\\n=== TOPIC DISTRIBUTION ===\")\n",
    "(\n",
    "    df_final\n",
    "        # .withColumn('topic', \n",
    "        #             F.when( F.col('dominant_topic')==-1, 'Unknown').otherwise(F.col('topic')))\n",
    "        .groupBy([\n",
    "            # \"topic\", \n",
    "            \"dominant_topic\"\n",
    "            ])\n",
    "        .count()\n",
    "        .orderBy(\"dominant_topic\")\n",
    "        .show()\n",
    ")"
   ]
  },
  {
   "cell_type": "markdown",
   "metadata": {},
   "source": [
    "It is normal to see in this case higher amount of -1 as those dominant topics are coming from the LDA where the text was removed DUE to the initial selected regex that belongs to the Business Use Case. If we need to look for all the cases, this value should be as minimum as possible."
   ]
  },
  {
   "cell_type": "code",
   "execution_count": 44,
   "metadata": {},
   "outputs": [
    {
     "name": "stdout",
     "output_type": "stream",
     "text": [
      "\n",
      "=== MODEL METRICS ===\n",
      "Log Likelihood: -2025307.2041116687\n",
      "Log Perplexity: 5.850428544927852\n",
      "k=3: Log-Likelihood=-2072603.99, Log-Perplexity=5.99\n",
      "k=5: Log-Likelihood=-2051715.06, Log-Perplexity=5.93\n",
      "k=7: Log-Likelihood=-2059702.37, Log-Perplexity=5.95\n",
      "k=10: Log-Likelihood=-2062590.11, Log-Perplexity=5.96\n",
      "k=12: Log-Likelihood=-2085202.65, Log-Perplexity=6.02\n",
      "k=14: Log-Likelihood=-2109661.85, Log-Perplexity=6.09\n",
      "k=18: Log-Likelihood=-2126870.19, Log-Perplexity=6.14\n",
      "k=24: Log-Likelihood=-2180749.02, Log-Perplexity=6.30\n"
     ]
    }
   ],
   "source": [
    "# EVALUATE K=10 CHOSEN MODEL QUALITY\n",
    "log_likelihood = lda_model.logLikelihood(df_vectorized)\n",
    "log_perplexity = lda_model.logPerplexity(df_vectorized)\n",
    "\n",
    "print(f\"\\n=== MODEL METRICS ===\")\n",
    "print(f\"Log Likelihood: {log_likelihood}\")\n",
    "print(f\"Log Perplexity: {log_perplexity}\")\n",
    "\n",
    "##################################################################\n",
    "def evaluate_different_k_values(df_vectorized, k_values=[3, 5, 7, 10, 12, 14, 18, 24]):\n",
    "    \"\"\"Evaluate different numbers of topics\"\"\"\n",
    "    results = []\n",
    "    \n",
    "    for k in k_values:\n",
    "        lda_temp = LDA(k=k, maxIter=20, optimizer=\"online\", featuresCol=\"raw_features\", seed=42)\n",
    "        model_temp = lda_temp.fit(df_vectorized)\n",
    "        \n",
    "        ll = model_temp.logLikelihood(df_vectorized)\n",
    "        lp = model_temp.logPerplexity(df_vectorized)\n",
    "        \n",
    "        results.append({\n",
    "            'k': k,\n",
    "            'log_likelihood': ll,\n",
    "            'log_perplexity': lp\n",
    "        })\n",
    "        \n",
    "        print(f\"k={k}: Log-Likelihood={ll:.2f}, Log-Perplexity={lp:.2f}\")\n",
    "    \n",
    "    return results\n",
    "\n",
    "k_results = evaluate_different_k_values(df_vectorized)"
   ]
  },
  {
   "cell_type": "markdown",
   "metadata": {},
   "source": [
    "### Show metrics from k Results"
   ]
  },
  {
   "cell_type": "code",
   "execution_count": null,
   "metadata": {},
   "outputs": [
    {
     "data": {
      "image/png": "[encoded data removed]",
      "text/plain": [
       "<Figure size 1800x600 with 2 Axes>"
      ]
     },
     "metadata": {},
     "output_type": "display_data"
    }
   ],
   "source": [
    "import seaborn as sns\n",
    "import matplotlib.pyplot as plt\n",
    "\n",
    "data = pd.DataFrame(k_results)\n",
    "\n",
    "# Create the figure and the primary y-axis\n",
    "fig, ax1 = plt.subplots(figsize=(18, 6))\n",
    "\n",
    "# Plot log perplexity on the primary y-axis\n",
    "color = 'tab:blue'\n",
    "ax1.set_xlabel('Number of Topics (k)')\n",
    "ax1.set_ylabel('Log Perplexity', color=color)\n",
    "sns.lineplot(x='k', y='log_perplexity', data=data, marker='o', color=color, ax=ax1, label='Log Perplexity')\n",
    "ax1.tick_params(axis='y', labelcolor=color)\n",
    "ax1.grid(False)\n",
    "# ax1.legend(loc='lower right')\n",
    "\n",
    "# Create the secondary y-axis\n",
    "ax2 = ax1.twinx()\n",
    "color = 'tab:red'\n",
    "ax2.set_ylabel('Log Likelihood', color=color)\n",
    "sns.lineplot(x='k', y='log_likelihood', data=data, marker='o', color=color, ax=ax2, label='Log Likelihood')\n",
    "ax2.tick_params(axis='y', labelcolor=color)\n",
    "# ax2.legend(loc='lower left')\n",
    "\n",
    "lines, labels = ax1.get_legend_handles_labels()\n",
    "lines2, labels2 = ax2.get_legend_handles_labels()\n",
    "ax2.legend(lines + lines2, labels + labels2, bbox_to_anchor=(1.09, 1), loc='upper left')\n",
    "ax1.get_legend().remove() # Remove the first legend\n",
    "\n",
    "plt.title('Log Perplexity and Log Likelihood vs. k')\n",
    "# fig.tight_layout()  # Adjust layout to prevent overlap\n",
    "plt.show()"
   ]
  },
  {
   "cell_type": "markdown",
   "metadata": {},
   "source": [
    "Looking at the model evaluation results, the optimal number of topics falls within the [5-10] range. This is where we see the lowest perplexity scores (indicating better predictive performance) combined with sufficiently high log-likelihood values (showing good fit to the document corpus)."
   ]
  },
  {
   "cell_type": "markdown",
   "metadata": {},
   "source": [
    "# 4. Bring some Insights"
   ]
  },
  {
   "cell_type": "code",
   "execution_count": 49,
   "metadata": {},
   "outputs": [
    {
     "data": {
      "application/vnd.plotly.v1+json": {
       "config": {
        "plotlyServerURL": "https://plot.ly"
       },
       "data": [
        {
         "marker": {
          "color": "#1f77b4"
         },
         "name": "count",
         "type": "bar",
         "x": [
          "Account Checking",
          "Technical Dispatch",
          "Billing Plans",
          "Issue Troubleshoot",
          "General Support",
          "Technical Support",
          "Call Closing",
          "Technical Solution",
          "Follow Up",
          "Escalation"
         ],
         "y": {
          "bdata": "MBwdF5AUbBNREigRZg3cBTgFkgA=",
          "dtype": "i2"
         }
        }
       ],
       "layout": {
        "barmode": "group",
        "legend": {
         "title": {
          "text": "Columns"
         }
        },
        "margin": {
         "b": 20,
         "l": 20,
         "r": 20,
         "t": 60
        },
        "template": {
         "data": {
          "bar": [
           {
            "error_x": {
             "color": "#2a3f5f"
            },
            "error_y": {
             "color": "#2a3f5f"
            },
            "marker": {
             "line": {
              "color": "white",
              "width": 0.5
             },
             "pattern": {
              "fillmode": "overlay",
              "size": 10,
              "solidity": 0.2
             }
            },
            "type": "bar"
           }
          ],
          "barpolar": [
           {
            "marker": {
             "line": {
              "color": "white",
              "width": 0.5
             },
             "pattern": {
              "fillmode": "overlay",
              "size": 10,
              "solidity": 0.2
             }
            },
            "type": "barpolar"
           }
          ],
          "carpet": [
           {
            "aaxis": {
             "endlinecolor": "#2a3f5f",
             "gridcolor": "#C8D4E3",
             "linecolor": "#C8D4E3",
             "minorgridcolor": "#C8D4E3",
             "startlinecolor": "#2a3f5f"
            },
            "baxis": {
             "endlinecolor": "#2a3f5f",
             "gridcolor": "#C8D4E3",
             "linecolor": "#C8D4E3",
             "minorgridcolor": "#C8D4E3",
             "startlinecolor": "#2a3f5f"
            },
            "type": "carpet"
           }
          ],
          "choropleth": [
           {
            "colorbar": {
             "outlinewidth": 0,
             "ticks": ""
            },
            "type": "choropleth"
           }
          ],
          "contour": [
           {
            "colorbar": {
             "outlinewidth": 0,
             "ticks": ""
            },
            "colorscale": [
             [
              0,
              "#0d0887"
             ],
             [
              0.1111111111111111,
              "#46039f"
             ],
             [
              0.2222222222222222,
              "#7201a8"
             ],
             [
              0.3333333333333333,
              "#9c179e"
             ],
             [
              0.4444444444444444,
              "#bd3786"
             ],
             [
              0.5555555555555556,
              "#d8576b"
             ],
             [
              0.6666666666666666,
              "#ed7953"
             ],
             [
              0.7777777777777778,
              "#fb9f3a"
             ],
             [
              0.8888888888888888,
              "#fdca26"
             ],
             [
              1,
              "#f0f921"
             ]
            ],
            "type": "contour"
           }
          ],
          "contourcarpet": [
           {
            "colorbar": {
             "outlinewidth": 0,
             "ticks": ""
            },
            "type": "contourcarpet"
           }
          ],
          "heatmap": [
           {
            "colorbar": {
             "outlinewidth": 0,
             "ticks": ""
            },
            "colorscale": [
             [
              0,
              "#0d0887"
             ],
             [
              0.1111111111111111,
              "#46039f"
             ],
             [
              0.2222222222222222,
              "#7201a8"
             ],
             [
              0.3333333333333333,
              "#9c179e"
             ],
             [
              0.4444444444444444,
              "#bd3786"
             ],
             [
              0.5555555555555556,
              "#d8576b"
             ],
             [
              0.6666666666666666,
              "#ed7953"
             ],
             [
              0.7777777777777778,
              "#fb9f3a"
             ],
             [
              0.8888888888888888,
              "#fdca26"
             ],
             [
              1,
              "#f0f921"
             ]
            ],
            "type": "heatmap"
           }
          ],
          "histogram": [
           {
            "marker": {
             "pattern": {
              "fillmode": "overlay",
              "size": 10,
              "solidity": 0.2
             }
            },
            "type": "histogram"
           }
          ],
          "histogram2d": [
           {
            "colorbar": {
             "outlinewidth": 0,
             "ticks": ""
            },
            "colorscale": [
             [
              0,
              "#0d0887"
             ],
             [
              0.1111111111111111,
              "#46039f"
             ],
             [
              0.2222222222222222,
              "#7201a8"
             ],
             [
              0.3333333333333333,
              "#9c179e"
             ],
             [
              0.4444444444444444,
              "#bd3786"
             ],
             [
              0.5555555555555556,
              "#d8576b"
             ],
             [
              0.6666666666666666,
              "#ed7953"
             ],
             [
              0.7777777777777778,
              "#fb9f3a"
             ],
             [
              0.8888888888888888,
              "#fdca26"
             ],
             [
              1,
              "#f0f921"
             ]
            ],
            "type": "histogram2d"
           }
          ],
          "histogram2dcontour": [
           {
            "colorbar": {
             "outlinewidth": 0,
             "ticks": ""
            },
            "colorscale": [
             [
              0,
              "#0d0887"
             ],
             [
              0.1111111111111111,
              "#46039f"
             ],
             [
              0.2222222222222222,
              "#7201a8"
             ],
             [
              0.3333333333333333,
              "#9c179e"
             ],
             [
              0.4444444444444444,
              "#bd3786"
             ],
             [
              0.5555555555555556,
              "#d8576b"
             ],
             [
              0.6666666666666666,
              "#ed7953"
             ],
             [
              0.7777777777777778,
              "#fb9f3a"
             ],
             [
              0.8888888888888888,
              "#fdca26"
             ],
             [
              1,
              "#f0f921"
             ]
            ],
            "type": "histogram2dcontour"
           }
          ],
          "mesh3d": [
           {
            "colorbar": {
             "outlinewidth": 0,
             "ticks": ""
            },
            "type": "mesh3d"
           }
          ],
          "parcoords": [
           {
            "line": {
             "colorbar": {
              "outlinewidth": 0,
              "ticks": ""
             }
            },
            "type": "parcoords"
           }
          ],
          "pie": [
           {
            "automargin": true,
            "type": "pie"
           }
          ],
          "scatter": [
           {
            "fillpattern": {
             "fillmode": "overlay",
             "size": 10,
             "solidity": 0.2
            },
            "type": "scatter"
           }
          ],
          "scatter3d": [
           {
            "line": {
             "colorbar": {
              "outlinewidth": 0,
              "ticks": ""
             }
            },
            "marker": {
             "colorbar": {
              "outlinewidth": 0,
              "ticks": ""
             }
            },
            "type": "scatter3d"
           }
          ],
          "scattercarpet": [
           {
            "marker": {
             "colorbar": {
              "outlinewidth": 0,
              "ticks": ""
             }
            },
            "type": "scattercarpet"
           }
          ],
          "scattergeo": [
           {
            "marker": {
             "colorbar": {
              "outlinewidth": 0,
              "ticks": ""
             }
            },
            "type": "scattergeo"
           }
          ],
          "scattergl": [
           {
            "marker": {
             "colorbar": {
              "outlinewidth": 0,
              "ticks": ""
             }
            },
            "type": "scattergl"
           }
          ],
          "scattermap": [
           {
            "marker": {
             "colorbar": {
              "outlinewidth": 0,
              "ticks": ""
             }
            },
            "type": "scattermap"
           }
          ],
          "scattermapbox": [
           {
            "marker": {
             "colorbar": {
              "outlinewidth": 0,
              "ticks": ""
             }
            },
            "type": "scattermapbox"
           }
          ],
          "scatterpolar": [
           {
            "marker": {
             "colorbar": {
              "outlinewidth": 0,
              "ticks": ""
             }
            },
            "type": "scatterpolar"
           }
          ],
          "scatterpolargl": [
           {
            "marker": {
             "colorbar": {
              "outlinewidth": 0,
              "ticks": ""
             }
            },
            "type": "scatterpolargl"
           }
          ],
          "scatterternary": [
           {
            "marker": {
             "colorbar": {
              "outlinewidth": 0,
              "ticks": ""
             }
            },
            "type": "scatterternary"
           }
          ],
          "surface": [
           {
            "colorbar": {
             "outlinewidth": 0,
             "ticks": ""
            },
            "colorscale": [
             [
              0,
              "#0d0887"
             ],
             [
              0.1111111111111111,
              "#46039f"
             ],
             [
              0.2222222222222222,
              "#7201a8"
             ],
             [
              0.3333333333333333,
              "#9c179e"
             ],
             [
              0.4444444444444444,
              "#bd3786"
             ],
             [
              0.5555555555555556,
              "#d8576b"
             ],
             [
              0.6666666666666666,
              "#ed7953"
             ],
             [
              0.7777777777777778,
              "#fb9f3a"
             ],
             [
              0.8888888888888888,
              "#fdca26"
             ],
             [
              1,
              "#f0f921"
             ]
            ],
            "type": "surface"
           }
          ],
          "table": [
           {
            "cells": {
             "fill": {
              "color": "#EBF0F8"
             },
             "line": {
              "color": "white"
             }
            },
            "header": {
             "fill": {
              "color": "#C8D4E3"
             },
             "line": {
              "color": "white"
             }
            },
            "type": "table"
           }
          ]
         },
         "layout": {
          "annotationdefaults": {
           "arrowcolor": "#2a3f5f",
           "arrowhead": 0,
           "arrowwidth": 1
          },
          "autotypenumbers": "strict",
          "coloraxis": {
           "colorbar": {
            "outlinewidth": 0,
            "ticks": ""
           }
          },
          "colorscale": {
           "diverging": [
            [
             0,
             "#8e0152"
            ],
            [
             0.1,
             "#c51b7d"
            ],
            [
             0.2,
             "#de77ae"
            ],
            [
             0.3,
             "#f1b6da"
            ],
            [
             0.4,
             "#fde0ef"
            ],
            [
             0.5,
             "#f7f7f7"
            ],
            [
             0.6,
             "#e6f5d0"
            ],
            [
             0.7,
             "#b8e186"
            ],
            [
             0.8,
             "#7fbc41"
            ],
            [
             0.9,
             "#4d9221"
            ],
            [
             1,
             "#276419"
            ]
           ],
           "sequential": [
            [
             0,
             "#0d0887"
            ],
            [
             0.1111111111111111,
             "#46039f"
            ],
            [
             0.2222222222222222,
             "#7201a8"
            ],
            [
             0.3333333333333333,
             "#9c179e"
            ],
            [
             0.4444444444444444,
             "#bd3786"
            ],
            [
             0.5555555555555556,
             "#d8576b"
            ],
            [
             0.6666666666666666,
             "#ed7953"
            ],
            [
             0.7777777777777778,
             "#fb9f3a"
            ],
            [
             0.8888888888888888,
             "#fdca26"
            ],
            [
             1,
             "#f0f921"
            ]
           ],
           "sequentialminus": [
            [
             0,
             "#0d0887"
            ],
            [
             0.1111111111111111,
             "#46039f"
            ],
            [
             0.2222222222222222,
             "#7201a8"
            ],
            [
             0.3333333333333333,
             "#9c179e"
            ],
            [
             0.4444444444444444,
             "#bd3786"
            ],
            [
             0.5555555555555556,
             "#d8576b"
            ],
            [
             0.6666666666666666,
             "#ed7953"
            ],
            [
             0.7777777777777778,
             "#fb9f3a"
            ],
            [
             0.8888888888888888,
             "#fdca26"
            ],
            [
             1,
             "#f0f921"
            ]
           ]
          },
          "colorway": [
           "#636efa",
           "#EF553B",
           "#00cc96",
           "#ab63fa",
           "#FFA15A",
           "#19d3f3",
           "#FF6692",
           "#B6E880",
           "#FF97FF",
           "#FECB52"
          ],
          "font": {
           "color": "#2a3f5f",
           "family": "Arial, sans-serif",
           "size": 12
          },
          "geo": {
           "bgcolor": "white",
           "lakecolor": "white",
           "landcolor": "white",
           "showlakes": true,
           "showland": true,
           "subunitcolor": "#C8D4E3"
          },
          "hoverlabel": {
           "align": "left"
          },
          "hovermode": "closest",
          "legend": {
           "bgcolor": "rgba(255,255,255,0.9)",
           "bordercolor": "lightgray",
           "borderwidth": 1
          },
          "mapbox": {
           "style": "light"
          },
          "paper_bgcolor": "white",
          "plot_bgcolor": "white",
          "polar": {
           "angularaxis": {
            "gridcolor": "#EBF0F8",
            "linecolor": "#EBF0F8",
            "ticks": ""
           },
           "bgcolor": "white",
           "radialaxis": {
            "gridcolor": "#EBF0F8",
            "linecolor": "#EBF0F8",
            "ticks": ""
           }
          },
          "scene": {
           "xaxis": {
            "backgroundcolor": "white",
            "gridcolor": "#DFE8F3",
            "gridwidth": 2,
            "linecolor": "#EBF0F8",
            "showbackground": true,
            "ticks": "",
            "zerolinecolor": "#EBF0F8"
           },
           "yaxis": {
            "backgroundcolor": "white",
            "gridcolor": "#DFE8F3",
            "gridwidth": 2,
            "linecolor": "#EBF0F8",
            "showbackground": true,
            "ticks": "",
            "zerolinecolor": "#EBF0F8"
           },
           "zaxis": {
            "backgroundcolor": "white",
            "gridcolor": "#DFE8F3",
            "gridwidth": 2,
            "linecolor": "#EBF0F8",
            "showbackground": true,
            "ticks": "",
            "zerolinecolor": "#EBF0F8"
           }
          },
          "shapedefaults": {
           "line": {
            "color": "#2a3f5f"
           }
          },
          "ternary": {
           "aaxis": {
            "gridcolor": "#DFE8F3",
            "linecolor": "#A2B1C6",
            "ticks": ""
           },
           "baxis": {
            "gridcolor": "#DFE8F3",
            "linecolor": "#A2B1C6",
            "ticks": ""
           },
           "bgcolor": "white",
           "caxis": {
            "gridcolor": "#DFE8F3",
            "linecolor": "#A2B1C6",
            "ticks": ""
           }
          },
          "title": {
           "x": 0.05
          },
          "xaxis": {
           "automargin": true,
           "gridcolor": "lightgray",
           "griddash": "dot",
           "gridwidth": 1,
           "linecolor": "#EBF0F8",
           "ticks": "",
           "title": {
            "standoff": 15
           },
           "zeroline": true,
           "zerolinecolor": "darkgray",
           "zerolinewidth": 1
          },
          "yaxis": {
           "automargin": true,
           "gridcolor": "lightgray",
           "griddash": "dot",
           "gridwidth": 1,
           "linecolor": "#EBF0F8",
           "ticks": "",
           "title": {
            "standoff": 15
           },
           "zeroline": true,
           "zerolinecolor": "darkgray",
           "zerolinewidth": 1
          }
         }
        },
        "xaxis": {
         "title": {
          "text": "topic"
         }
        },
        "yaxis": {
         "title": {
          "text": "Count"
         }
        }
       }
      }
     },
     "metadata": {},
     "output_type": "display_data"
    }
   ],
   "source": [
    "bar( df_final.groupBy(\"topic\").count().filter(F.col('topic')!='').sort(\"count\", ascending=False), 'count', 'topic')"
   ]
  },
  {
   "cell_type": "markdown",
   "metadata": {},
   "source": [
    "<h4> \n",
    "Model k=10 log perplexity shows decent coherence (5.96) with good separation between topics.\n",
    "<br/><br/>\n",
    "If we continuously increment `k` will eventually lead to overfitting, where topics become too specific and loose generalized ability.\n",
    "<br/><br/>\n",
    "We need to choose the proper balance. That is the reason why we choose k=10 technically performs decent on training metrics, k=10 provides a more parsimonious model with sufficient topic separation for practical interpretation. The trade-off between model complexity and interpretability suggests k=10 remains the optimal choice for this call transcript analysis.\n",
    "\n",
    "</h4>"
   ]
  },
  {
   "cell_type": "markdown",
   "metadata": {},
   "source": [
    "## Insights from best model"
   ]
  },
  {
   "cell_type": "code",
   "execution_count": 53,
   "metadata": {},
   "outputs": [
    {
     "data": {
      "application/vnd.plotly.v1+json": {
       "config": {
        "plotlyServerURL": "https://plot.ly"
       },
       "data": [
        {
         "marker": {
          "color": "#1f77b4"
         },
         "name": "count",
         "type": "bar",
         "x": [
          "NEUTRAL",
          "POSITIVE",
          "NEGATIVE"
         ],
         "y": {
          "bdata": "AHSsW4Eq",
          "dtype": "i2"
         }
        }
       ],
       "layout": {
        "barmode": "group",
        "legend": {
         "title": {
          "text": "Columns"
         }
        },
        "margin": {
         "b": 20,
         "l": 20,
         "r": 20,
         "t": 60
        },
        "template": {
         "data": {
          "bar": [
           {
            "error_x": {
             "color": "#2a3f5f"
            },
            "error_y": {
             "color": "#2a3f5f"
            },
            "marker": {
             "line": {
              "color": "white",
              "width": 0.5
             },
             "pattern": {
              "fillmode": "overlay",
              "size": 10,
              "solidity": 0.2
             }
            },
            "type": "bar"
           }
          ],
          "barpolar": [
           {
            "marker": {
             "line": {
              "color": "white",
              "width": 0.5
             },
             "pattern": {
              "fillmode": "overlay",
              "size": 10,
              "solidity": 0.2
             }
            },
            "type": "barpolar"
           }
          ],
          "carpet": [
           {
            "aaxis": {
             "endlinecolor": "#2a3f5f",
             "gridcolor": "#C8D4E3",
             "linecolor": "#C8D4E3",
             "minorgridcolor": "#C8D4E3",
             "startlinecolor": "#2a3f5f"
            },
            "baxis": {
             "endlinecolor": "#2a3f5f",
             "gridcolor": "#C8D4E3",
             "linecolor": "#C8D4E3",
             "minorgridcolor": "#C8D4E3",
             "startlinecolor": "#2a3f5f"
            },
            "type": "carpet"
           }
          ],
          "choropleth": [
           {
            "colorbar": {
             "outlinewidth": 0,
             "ticks": ""
            },
            "type": "choropleth"
           }
          ],
          "contour": [
           {
            "colorbar": {
             "outlinewidth": 0,
             "ticks": ""
            },
            "colorscale": [
             [
              0,
              "#0d0887"
             ],
             [
              0.1111111111111111,
              "#46039f"
             ],
             [
              0.2222222222222222,
              "#7201a8"
             ],
             [
              0.3333333333333333,
              "#9c179e"
             ],
             [
              0.4444444444444444,
              "#bd3786"
             ],
             [
              0.5555555555555556,
              "#d8576b"
             ],
             [
              0.6666666666666666,
              "#ed7953"
             ],
             [
              0.7777777777777778,
              "#fb9f3a"
             ],
             [
              0.8888888888888888,
              "#fdca26"
             ],
             [
              1,
              "#f0f921"
             ]
            ],
            "type": "contour"
           }
          ],
          "contourcarpet": [
           {
            "colorbar": {
             "outlinewidth": 0,
             "ticks": ""
            },
            "type": "contourcarpet"
           }
          ],
          "heatmap": [
           {
            "colorbar": {
             "outlinewidth": 0,
             "ticks": ""
            },
            "colorscale": [
             [
              0,
              "#0d0887"
             ],
             [
              0.1111111111111111,
              "#46039f"
             ],
             [
              0.2222222222222222,
              "#7201a8"
             ],
             [
              0.3333333333333333,
              "#9c179e"
             ],
             [
              0.4444444444444444,
              "#bd3786"
             ],
             [
              0.5555555555555556,
              "#d8576b"
             ],
             [
              0.6666666666666666,
              "#ed7953"
             ],
             [
              0.7777777777777778,
              "#fb9f3a"
             ],
             [
              0.8888888888888888,
              "#fdca26"
             ],
             [
              1,
              "#f0f921"
             ]
            ],
            "type": "heatmap"
           }
          ],
          "histogram": [
           {
            "marker": {
             "pattern": {
              "fillmode": "overlay",
              "size": 10,
              "solidity": 0.2
             }
            },
            "type": "histogram"
           }
          ],
          "histogram2d": [
           {
            "colorbar": {
             "outlinewidth": 0,
             "ticks": ""
            },
            "colorscale": [
             [
              0,
              "#0d0887"
             ],
             [
              0.1111111111111111,
              "#46039f"
             ],
             [
              0.2222222222222222,
              "#7201a8"
             ],
             [
              0.3333333333333333,
              "#9c179e"
             ],
             [
              0.4444444444444444,
              "#bd3786"
             ],
             [
              0.5555555555555556,
              "#d8576b"
             ],
             [
              0.6666666666666666,
              "#ed7953"
             ],
             [
              0.7777777777777778,
              "#fb9f3a"
             ],
             [
              0.8888888888888888,
              "#fdca26"
             ],
             [
              1,
              "#f0f921"
             ]
            ],
            "type": "histogram2d"
           }
          ],
          "histogram2dcontour": [
           {
            "colorbar": {
             "outlinewidth": 0,
             "ticks": ""
            },
            "colorscale": [
             [
              0,
              "#0d0887"
             ],
             [
              0.1111111111111111,
              "#46039f"
             ],
             [
              0.2222222222222222,
              "#7201a8"
             ],
             [
              0.3333333333333333,
              "#9c179e"
             ],
             [
              0.4444444444444444,
              "#bd3786"
             ],
             [
              0.5555555555555556,
              "#d8576b"
             ],
             [
              0.6666666666666666,
              "#ed7953"
             ],
             [
              0.7777777777777778,
              "#fb9f3a"
             ],
             [
              0.8888888888888888,
              "#fdca26"
             ],
             [
              1,
              "#f0f921"
             ]
            ],
            "type": "histogram2dcontour"
           }
          ],
          "mesh3d": [
           {
            "colorbar": {
             "outlinewidth": 0,
             "ticks": ""
            },
            "type": "mesh3d"
           }
          ],
          "parcoords": [
           {
            "line": {
             "colorbar": {
              "outlinewidth": 0,
              "ticks": ""
             }
            },
            "type": "parcoords"
           }
          ],
          "pie": [
           {
            "automargin": true,
            "type": "pie"
           }
          ],
          "scatter": [
           {
            "fillpattern": {
             "fillmode": "overlay",
             "size": 10,
             "solidity": 0.2
            },
            "type": "scatter"
           }
          ],
          "scatter3d": [
           {
            "line": {
             "colorbar": {
              "outlinewidth": 0,
              "ticks": ""
             }
            },
            "marker": {
             "colorbar": {
              "outlinewidth": 0,
              "ticks": ""
             }
            },
            "type": "scatter3d"
           }
          ],
          "scattercarpet": [
           {
            "marker": {
             "colorbar": {
              "outlinewidth": 0,
              "ticks": ""
             }
            },
            "type": "scattercarpet"
           }
          ],
          "scattergeo": [
           {
            "marker": {
             "colorbar": {
              "outlinewidth": 0,
              "ticks": ""
             }
            },
            "type": "scattergeo"
           }
          ],
          "scattergl": [
           {
            "marker": {
             "colorbar": {
              "outlinewidth": 0,
              "ticks": ""
             }
            },
            "type": "scattergl"
           }
          ],
          "scattermap": [
           {
            "marker": {
             "colorbar": {
              "outlinewidth": 0,
              "ticks": ""
             }
            },
            "type": "scattermap"
           }
          ],
          "scattermapbox": [
           {
            "marker": {
             "colorbar": {
              "outlinewidth": 0,
              "ticks": ""
             }
            },
            "type": "scattermapbox"
           }
          ],
          "scatterpolar": [
           {
            "marker": {
             "colorbar": {
              "outlinewidth": 0,
              "ticks": ""
             }
            },
            "type": "scatterpolar"
           }
          ],
          "scatterpolargl": [
           {
            "marker": {
             "colorbar": {
              "outlinewidth": 0,
              "ticks": ""
             }
            },
            "type": "scatterpolargl"
           }
          ],
          "scatterternary": [
           {
            "marker": {
             "colorbar": {
              "outlinewidth": 0,
              "ticks": ""
             }
            },
            "type": "scatterternary"
           }
          ],
          "surface": [
           {
            "colorbar": {
             "outlinewidth": 0,
             "ticks": ""
            },
            "colorscale": [
             [
              0,
              "#0d0887"
             ],
             [
              0.1111111111111111,
              "#46039f"
             ],
             [
              0.2222222222222222,
              "#7201a8"
             ],
             [
              0.3333333333333333,
              "#9c179e"
             ],
             [
              0.4444444444444444,
              "#bd3786"
             ],
             [
              0.5555555555555556,
              "#d8576b"
             ],
             [
              0.6666666666666666,
              "#ed7953"
             ],
             [
              0.7777777777777778,
              "#fb9f3a"
             ],
             [
              0.8888888888888888,
              "#fdca26"
             ],
             [
              1,
              "#f0f921"
             ]
            ],
            "type": "surface"
           }
          ],
          "table": [
           {
            "cells": {
             "fill": {
              "color": "#EBF0F8"
             },
             "line": {
              "color": "white"
             }
            },
            "header": {
             "fill": {
              "color": "#C8D4E3"
             },
             "line": {
              "color": "white"
             }
            },
            "type": "table"
           }
          ]
         },
         "layout": {
          "annotationdefaults": {
           "arrowcolor": "#2a3f5f",
           "arrowhead": 0,
           "arrowwidth": 1
          },
          "autotypenumbers": "strict",
          "coloraxis": {
           "colorbar": {
            "outlinewidth": 0,
            "ticks": ""
           }
          },
          "colorscale": {
           "diverging": [
            [
             0,
             "#8e0152"
            ],
            [
             0.1,
             "#c51b7d"
            ],
            [
             0.2,
             "#de77ae"
            ],
            [
             0.3,
             "#f1b6da"
            ],
            [
             0.4,
             "#fde0ef"
            ],
            [
             0.5,
             "#f7f7f7"
            ],
            [
             0.6,
             "#e6f5d0"
            ],
            [
             0.7,
             "#b8e186"
            ],
            [
             0.8,
             "#7fbc41"
            ],
            [
             0.9,
             "#4d9221"
            ],
            [
             1,
             "#276419"
            ]
           ],
           "sequential": [
            [
             0,
             "#0d0887"
            ],
            [
             0.1111111111111111,
             "#46039f"
            ],
            [
             0.2222222222222222,
             "#7201a8"
            ],
            [
             0.3333333333333333,
             "#9c179e"
            ],
            [
             0.4444444444444444,
             "#bd3786"
            ],
            [
             0.5555555555555556,
             "#d8576b"
            ],
            [
             0.6666666666666666,
             "#ed7953"
            ],
            [
             0.7777777777777778,
             "#fb9f3a"
            ],
            [
             0.8888888888888888,
             "#fdca26"
            ],
            [
             1,
             "#f0f921"
            ]
           ],
           "sequentialminus": [
            [
             0,
             "#0d0887"
            ],
            [
             0.1111111111111111,
             "#46039f"
            ],
            [
             0.2222222222222222,
             "#7201a8"
            ],
            [
             0.3333333333333333,
             "#9c179e"
            ],
            [
             0.4444444444444444,
             "#bd3786"
            ],
            [
             0.5555555555555556,
             "#d8576b"
            ],
            [
             0.6666666666666666,
             "#ed7953"
            ],
            [
             0.7777777777777778,
             "#fb9f3a"
            ],
            [
             0.8888888888888888,
             "#fdca26"
            ],
            [
             1,
             "#f0f921"
            ]
           ]
          },
          "colorway": [
           "#636efa",
           "#EF553B",
           "#00cc96",
           "#ab63fa",
           "#FFA15A",
           "#19d3f3",
           "#FF6692",
           "#B6E880",
           "#FF97FF",
           "#FECB52"
          ],
          "font": {
           "color": "#2a3f5f",
           "family": "Arial, sans-serif",
           "size": 12
          },
          "geo": {
           "bgcolor": "white",
           "lakecolor": "white",
           "landcolor": "white",
           "showlakes": true,
           "showland": true,
           "subunitcolor": "#C8D4E3"
          },
          "hoverlabel": {
           "align": "left"
          },
          "hovermode": "closest",
          "legend": {
           "bgcolor": "rgba(255,255,255,0.9)",
           "bordercolor": "lightgray",
           "borderwidth": 1
          },
          "mapbox": {
           "style": "light"
          },
          "paper_bgcolor": "white",
          "plot_bgcolor": "white",
          "polar": {
           "angularaxis": {
            "gridcolor": "#EBF0F8",
            "linecolor": "#EBF0F8",
            "ticks": ""
           },
           "bgcolor": "white",
           "radialaxis": {
            "gridcolor": "#EBF0F8",
            "linecolor": "#EBF0F8",
            "ticks": ""
           }
          },
          "scene": {
           "xaxis": {
            "backgroundcolor": "white",
            "gridcolor": "#DFE8F3",
            "gridwidth": 2,
            "linecolor": "#EBF0F8",
            "showbackground": true,
            "ticks": "",
            "zerolinecolor": "#EBF0F8"
           },
           "yaxis": {
            "backgroundcolor": "white",
            "gridcolor": "#DFE8F3",
            "gridwidth": 2,
            "linecolor": "#EBF0F8",
            "showbackground": true,
            "ticks": "",
            "zerolinecolor": "#EBF0F8"
           },
           "zaxis": {
            "backgroundcolor": "white",
            "gridcolor": "#DFE8F3",
            "gridwidth": 2,
            "linecolor": "#EBF0F8",
            "showbackground": true,
            "ticks": "",
            "zerolinecolor": "#EBF0F8"
           }
          },
          "shapedefaults": {
           "line": {
            "color": "#2a3f5f"
           }
          },
          "ternary": {
           "aaxis": {
            "gridcolor": "#DFE8F3",
            "linecolor": "#A2B1C6",
            "ticks": ""
           },
           "baxis": {
            "gridcolor": "#DFE8F3",
            "linecolor": "#A2B1C6",
            "ticks": ""
           },
           "bgcolor": "white",
           "caxis": {
            "gridcolor": "#DFE8F3",
            "linecolor": "#A2B1C6",
            "ticks": ""
           }
          },
          "title": {
           "x": 0.05
          },
          "xaxis": {
           "automargin": true,
           "gridcolor": "lightgray",
           "griddash": "dot",
           "gridwidth": 1,
           "linecolor": "#EBF0F8",
           "ticks": "",
           "title": {
            "standoff": 15
           },
           "zeroline": true,
           "zerolinecolor": "darkgray",
           "zerolinewidth": 1
          },
          "yaxis": {
           "automargin": true,
           "gridcolor": "lightgray",
           "griddash": "dot",
           "gridwidth": 1,
           "linecolor": "#EBF0F8",
           "ticks": "",
           "title": {
            "standoff": 15
           },
           "zeroline": true,
           "zerolinecolor": "darkgray",
           "zerolinewidth": 1
          }
         }
        },
        "xaxis": {
         "title": {
          "text": "sentiment"
         }
        },
        "yaxis": {
         "title": {
          "text": "Count"
         }
        }
       }
      }
     },
     "metadata": {},
     "output_type": "display_data"
    }
   ],
   "source": [
    "bar(df_final.groupBy('sentiment').count(), 'count', 'sentiment')"
   ]
  },
  {
   "cell_type": "markdown",
   "metadata": {},
   "source": [
    "Very interesting to see more Positives that Negatives, that tells at least that overall speaking the calls are performing good."
   ]
  },
  {
   "cell_type": "code",
   "execution_count": 54,
   "metadata": {},
   "outputs": [
    {
     "data": {
      "application/vnd.plotly.v1+json": {
       "config": {
        "plotlyServerURL": "https://plot.ly"
       },
       "data": [
        {
         "marker": {
          "color": "#1f77b4"
         },
         "name": "count",
         "type": "bar",
         "x": [
          "NEUTRAL",
          "POSITIVE",
          "NEGATIVE"
         ],
         "y": {
          "bdata": "OUApNLkP",
          "dtype": "i2"
         }
        }
       ],
       "layout": {
        "barmode": "group",
        "legend": {
         "title": {
          "text": "Columns"
         }
        },
        "margin": {
         "b": 20,
         "l": 20,
         "r": 20,
         "t": 60
        },
        "template": {
         "data": {
          "bar": [
           {
            "error_x": {
             "color": "#2a3f5f"
            },
            "error_y": {
             "color": "#2a3f5f"
            },
            "marker": {
             "line": {
              "color": "white",
              "width": 0.5
             },
             "pattern": {
              "fillmode": "overlay",
              "size": 10,
              "solidity": 0.2
             }
            },
            "type": "bar"
           }
          ],
          "barpolar": [
           {
            "marker": {
             "line": {
              "color": "white",
              "width": 0.5
             },
             "pattern": {
              "fillmode": "overlay",
              "size": 10,
              "solidity": 0.2
             }
            },
            "type": "barpolar"
           }
          ],
          "carpet": [
           {
            "aaxis": {
             "endlinecolor": "#2a3f5f",
             "gridcolor": "#C8D4E3",
             "linecolor": "#C8D4E3",
             "minorgridcolor": "#C8D4E3",
             "startlinecolor": "#2a3f5f"
            },
            "baxis": {
             "endlinecolor": "#2a3f5f",
             "gridcolor": "#C8D4E3",
             "linecolor": "#C8D4E3",
             "minorgridcolor": "#C8D4E3",
             "startlinecolor": "#2a3f5f"
            },
            "type": "carpet"
           }
          ],
          "choropleth": [
           {
            "colorbar": {
             "outlinewidth": 0,
             "ticks": ""
            },
            "type": "choropleth"
           }
          ],
          "contour": [
           {
            "colorbar": {
             "outlinewidth": 0,
             "ticks": ""
            },
            "colorscale": [
             [
              0,
              "#0d0887"
             ],
             [
              0.1111111111111111,
              "#46039f"
             ],
             [
              0.2222222222222222,
              "#7201a8"
             ],
             [
              0.3333333333333333,
              "#9c179e"
             ],
             [
              0.4444444444444444,
              "#bd3786"
             ],
             [
              0.5555555555555556,
              "#d8576b"
             ],
             [
              0.6666666666666666,
              "#ed7953"
             ],
             [
              0.7777777777777778,
              "#fb9f3a"
             ],
             [
              0.8888888888888888,
              "#fdca26"
             ],
             [
              1,
              "#f0f921"
             ]
            ],
            "type": "contour"
           }
          ],
          "contourcarpet": [
           {
            "colorbar": {
             "outlinewidth": 0,
             "ticks": ""
            },
            "type": "contourcarpet"
           }
          ],
          "heatmap": [
           {
            "colorbar": {
             "outlinewidth": 0,
             "ticks": ""
            },
            "colorscale": [
             [
              0,
              "#0d0887"
             ],
             [
              0.1111111111111111,
              "#46039f"
             ],
             [
              0.2222222222222222,
              "#7201a8"
             ],
             [
              0.3333333333333333,
              "#9c179e"
             ],
             [
              0.4444444444444444,
              "#bd3786"
             ],
             [
              0.5555555555555556,
              "#d8576b"
             ],
             [
              0.6666666666666666,
              "#ed7953"
             ],
             [
              0.7777777777777778,
              "#fb9f3a"
             ],
             [
              0.8888888888888888,
              "#fdca26"
             ],
             [
              1,
              "#f0f921"
             ]
            ],
            "type": "heatmap"
           }
          ],
          "histogram": [
           {
            "marker": {
             "pattern": {
              "fillmode": "overlay",
              "size": 10,
              "solidity": 0.2
             }
            },
            "type": "histogram"
           }
          ],
          "histogram2d": [
           {
            "colorbar": {
             "outlinewidth": 0,
             "ticks": ""
            },
            "colorscale": [
             [
              0,
              "#0d0887"
             ],
             [
              0.1111111111111111,
              "#46039f"
             ],
             [
              0.2222222222222222,
              "#7201a8"
             ],
             [
              0.3333333333333333,
              "#9c179e"
             ],
             [
              0.4444444444444444,
              "#bd3786"
             ],
             [
              0.5555555555555556,
              "#d8576b"
             ],
             [
              0.6666666666666666,
              "#ed7953"
             ],
             [
              0.7777777777777778,
              "#fb9f3a"
             ],
             [
              0.8888888888888888,
              "#fdca26"
             ],
             [
              1,
              "#f0f921"
             ]
            ],
            "type": "histogram2d"
           }
          ],
          "histogram2dcontour": [
           {
            "colorbar": {
             "outlinewidth": 0,
             "ticks": ""
            },
            "colorscale": [
             [
              0,
              "#0d0887"
             ],
             [
              0.1111111111111111,
              "#46039f"
             ],
             [
              0.2222222222222222,
              "#7201a8"
             ],
             [
              0.3333333333333333,
              "#9c179e"
             ],
             [
              0.4444444444444444,
              "#bd3786"
             ],
             [
              0.5555555555555556,
              "#d8576b"
             ],
             [
              0.6666666666666666,
              "#ed7953"
             ],
             [
              0.7777777777777778,
              "#fb9f3a"
             ],
             [
              0.8888888888888888,
              "#fdca26"
             ],
             [
              1,
              "#f0f921"
             ]
            ],
            "type": "histogram2dcontour"
           }
          ],
          "mesh3d": [
           {
            "colorbar": {
             "outlinewidth": 0,
             "ticks": ""
            },
            "type": "mesh3d"
           }
          ],
          "parcoords": [
           {
            "line": {
             "colorbar": {
              "outlinewidth": 0,
              "ticks": ""
             }
            },
            "type": "parcoords"
           }
          ],
          "pie": [
           {
            "automargin": true,
            "type": "pie"
           }
          ],
          "scatter": [
           {
            "fillpattern": {
             "fillmode": "overlay",
             "size": 10,
             "solidity": 0.2
            },
            "type": "scatter"
           }
          ],
          "scatter3d": [
           {
            "line": {
             "colorbar": {
              "outlinewidth": 0,
              "ticks": ""
             }
            },
            "marker": {
             "colorbar": {
              "outlinewidth": 0,
              "ticks": ""
             }
            },
            "type": "scatter3d"
           }
          ],
          "scattercarpet": [
           {
            "marker": {
             "colorbar": {
              "outlinewidth": 0,
              "ticks": ""
             }
            },
            "type": "scattercarpet"
           }
          ],
          "scattergeo": [
           {
            "marker": {
             "colorbar": {
              "outlinewidth": 0,
              "ticks": ""
             }
            },
            "type": "scattergeo"
           }
          ],
          "scattergl": [
           {
            "marker": {
             "colorbar": {
              "outlinewidth": 0,
              "ticks": ""
             }
            },
            "type": "scattergl"
           }
          ],
          "scattermap": [
           {
            "marker": {
             "colorbar": {
              "outlinewidth": 0,
              "ticks": ""
             }
            },
            "type": "scattermap"
           }
          ],
          "scattermapbox": [
           {
            "marker": {
             "colorbar": {
              "outlinewidth": 0,
              "ticks": ""
             }
            },
            "type": "scattermapbox"
           }
          ],
          "scatterpolar": [
           {
            "marker": {
             "colorbar": {
              "outlinewidth": 0,
              "ticks": ""
             }
            },
            "type": "scatterpolar"
           }
          ],
          "scatterpolargl": [
           {
            "marker": {
             "colorbar": {
              "outlinewidth": 0,
              "ticks": ""
             }
            },
            "type": "scatterpolargl"
           }
          ],
          "scatterternary": [
           {
            "marker": {
             "colorbar": {
              "outlinewidth": 0,
              "ticks": ""
             }
            },
            "type": "scatterternary"
           }
          ],
          "surface": [
           {
            "colorbar": {
             "outlinewidth": 0,
             "ticks": ""
            },
            "colorscale": [
             [
              0,
              "#0d0887"
             ],
             [
              0.1111111111111111,
              "#46039f"
             ],
             [
              0.2222222222222222,
              "#7201a8"
             ],
             [
              0.3333333333333333,
              "#9c179e"
             ],
             [
              0.4444444444444444,
              "#bd3786"
             ],
             [
              0.5555555555555556,
              "#d8576b"
             ],
             [
              0.6666666666666666,
              "#ed7953"
             ],
             [
              0.7777777777777778,
              "#fb9f3a"
             ],
             [
              0.8888888888888888,
              "#fdca26"
             ],
             [
              1,
              "#f0f921"
             ]
            ],
            "type": "surface"
           }
          ],
          "table": [
           {
            "cells": {
             "fill": {
              "color": "#EBF0F8"
             },
             "line": {
              "color": "white"
             }
            },
            "header": {
             "fill": {
              "color": "#C8D4E3"
             },
             "line": {
              "color": "white"
             }
            },
            "type": "table"
           }
          ]
         },
         "layout": {
          "annotationdefaults": {
           "arrowcolor": "#2a3f5f",
           "arrowhead": 0,
           "arrowwidth": 1
          },
          "autotypenumbers": "strict",
          "coloraxis": {
           "colorbar": {
            "outlinewidth": 0,
            "ticks": ""
           }
          },
          "colorscale": {
           "diverging": [
            [
             0,
             "#8e0152"
            ],
            [
             0.1,
             "#c51b7d"
            ],
            [
             0.2,
             "#de77ae"
            ],
            [
             0.3,
             "#f1b6da"
            ],
            [
             0.4,
             "#fde0ef"
            ],
            [
             0.5,
             "#f7f7f7"
            ],
            [
             0.6,
             "#e6f5d0"
            ],
            [
             0.7,
             "#b8e186"
            ],
            [
             0.8,
             "#7fbc41"
            ],
            [
             0.9,
             "#4d9221"
            ],
            [
             1,
             "#276419"
            ]
           ],
           "sequential": [
            [
             0,
             "#0d0887"
            ],
            [
             0.1111111111111111,
             "#46039f"
            ],
            [
             0.2222222222222222,
             "#7201a8"
            ],
            [
             0.3333333333333333,
             "#9c179e"
            ],
            [
             0.4444444444444444,
             "#bd3786"
            ],
            [
             0.5555555555555556,
             "#d8576b"
            ],
            [
             0.6666666666666666,
             "#ed7953"
            ],
            [
             0.7777777777777778,
             "#fb9f3a"
            ],
            [
             0.8888888888888888,
             "#fdca26"
            ],
            [
             1,
             "#f0f921"
            ]
           ],
           "sequentialminus": [
            [
             0,
             "#0d0887"
            ],
            [
             0.1111111111111111,
             "#46039f"
            ],
            [
             0.2222222222222222,
             "#7201a8"
            ],
            [
             0.3333333333333333,
             "#9c179e"
            ],
            [
             0.4444444444444444,
             "#bd3786"
            ],
            [
             0.5555555555555556,
             "#d8576b"
            ],
            [
             0.6666666666666666,
             "#ed7953"
            ],
            [
             0.7777777777777778,
             "#fb9f3a"
            ],
            [
             0.8888888888888888,
             "#fdca26"
            ],
            [
             1,
             "#f0f921"
            ]
           ]
          },
          "colorway": [
           "#636efa",
           "#EF553B",
           "#00cc96",
           "#ab63fa",
           "#FFA15A",
           "#19d3f3",
           "#FF6692",
           "#B6E880",
           "#FF97FF",
           "#FECB52"
          ],
          "font": {
           "color": "#2a3f5f",
           "family": "Arial, sans-serif",
           "size": 12
          },
          "geo": {
           "bgcolor": "white",
           "lakecolor": "white",
           "landcolor": "white",
           "showlakes": true,
           "showland": true,
           "subunitcolor": "#C8D4E3"
          },
          "hoverlabel": {
           "align": "left"
          },
          "hovermode": "closest",
          "legend": {
           "bgcolor": "rgba(255,255,255,0.9)",
           "bordercolor": "lightgray",
           "borderwidth": 1
          },
          "mapbox": {
           "style": "light"
          },
          "paper_bgcolor": "white",
          "plot_bgcolor": "white",
          "polar": {
           "angularaxis": {
            "gridcolor": "#EBF0F8",
            "linecolor": "#EBF0F8",
            "ticks": ""
           },
           "bgcolor": "white",
           "radialaxis": {
            "gridcolor": "#EBF0F8",
            "linecolor": "#EBF0F8",
            "ticks": ""
           }
          },
          "scene": {
           "xaxis": {
            "backgroundcolor": "white",
            "gridcolor": "#DFE8F3",
            "gridwidth": 2,
            "linecolor": "#EBF0F8",
            "showbackground": true,
            "ticks": "",
            "zerolinecolor": "#EBF0F8"
           },
           "yaxis": {
            "backgroundcolor": "white",
            "gridcolor": "#DFE8F3",
            "gridwidth": 2,
            "linecolor": "#EBF0F8",
            "showbackground": true,
            "ticks": "",
            "zerolinecolor": "#EBF0F8"
           },
           "zaxis": {
            "backgroundcolor": "white",
            "gridcolor": "#DFE8F3",
            "gridwidth": 2,
            "linecolor": "#EBF0F8",
            "showbackground": true,
            "ticks": "",
            "zerolinecolor": "#EBF0F8"
           }
          },
          "shapedefaults": {
           "line": {
            "color": "#2a3f5f"
           }
          },
          "ternary": {
           "aaxis": {
            "gridcolor": "#DFE8F3",
            "linecolor": "#A2B1C6",
            "ticks": ""
           },
           "baxis": {
            "gridcolor": "#DFE8F3",
            "linecolor": "#A2B1C6",
            "ticks": ""
           },
           "bgcolor": "white",
           "caxis": {
            "gridcolor": "#DFE8F3",
            "linecolor": "#A2B1C6",
            "ticks": ""
           }
          },
          "title": {
           "x": 0.05
          },
          "xaxis": {
           "automargin": true,
           "gridcolor": "lightgray",
           "griddash": "dot",
           "gridwidth": 1,
           "linecolor": "#EBF0F8",
           "ticks": "",
           "title": {
            "standoff": 15
           },
           "zeroline": true,
           "zerolinecolor": "darkgray",
           "zerolinewidth": 1
          },
          "yaxis": {
           "automargin": true,
           "gridcolor": "lightgray",
           "griddash": "dot",
           "gridwidth": 1,
           "linecolor": "#EBF0F8",
           "ticks": "",
           "title": {
            "standoff": 15
           },
           "zeroline": true,
           "zerolinecolor": "darkgray",
           "zerolinewidth": 1
          }
         }
        },
        "xaxis": {
         "title": {
          "text": "sentiment"
         }
        },
        "yaxis": {
         "title": {
          "text": "Count"
         }
        }
       }
      }
     },
     "metadata": {},
     "output_type": "display_data"
    }
   ],
   "source": [
    "bar(df_final.filter(F.col('speaker') == 'agent').groupBy('sentiment').count(), 'count', 'sentiment')"
   ]
  },
  {
   "cell_type": "markdown",
   "metadata": {},
   "source": [
    "Agents are usually POSITIVE! we need to take care on those NEGATIVE ONES!"
   ]
  },
  {
   "cell_type": "code",
   "execution_count": 55,
   "metadata": {},
   "outputs": [
    {
     "data": {
      "application/vnd.plotly.v1+json": {
       "config": {
        "plotlyServerURL": "https://plot.ly"
       },
       "data": [
        {
         "marker": {
          "color": "#1f77b4"
         },
         "name": "count",
         "type": "bar",
         "x": [
          "NEUTRAL",
          "POSITIVE",
          "NEGATIVE"
         ],
         "y": {
          "bdata": "xzODJ8ga",
          "dtype": "i2"
         }
        }
       ],
       "layout": {
        "barmode": "group",
        "legend": {
         "title": {
          "text": "Columns"
         }
        },
        "margin": {
         "b": 20,
         "l": 20,
         "r": 20,
         "t": 60
        },
        "template": {
         "data": {
          "bar": [
           {
            "error_x": {
             "color": "#2a3f5f"
            },
            "error_y": {
             "color": "#2a3f5f"
            },
            "marker": {
             "line": {
              "color": "white",
              "width": 0.5
             },
             "pattern": {
              "fillmode": "overlay",
              "size": 10,
              "solidity": 0.2
             }
            },
            "type": "bar"
           }
          ],
          "barpolar": [
           {
            "marker": {
             "line": {
              "color": "white",
              "width": 0.5
             },
             "pattern": {
              "fillmode": "overlay",
              "size": 10,
              "solidity": 0.2
             }
            },
            "type": "barpolar"
           }
          ],
          "carpet": [
           {
            "aaxis": {
             "endlinecolor": "#2a3f5f",
             "gridcolor": "#C8D4E3",
             "linecolor": "#C8D4E3",
             "minorgridcolor": "#C8D4E3",
             "startlinecolor": "#2a3f5f"
            },
            "baxis": {
             "endlinecolor": "#2a3f5f",
             "gridcolor": "#C8D4E3",
             "linecolor": "#C8D4E3",
             "minorgridcolor": "#C8D4E3",
             "startlinecolor": "#2a3f5f"
            },
            "type": "carpet"
           }
          ],
          "choropleth": [
           {
            "colorbar": {
             "outlinewidth": 0,
             "ticks": ""
            },
            "type": "choropleth"
           }
          ],
          "contour": [
           {
            "colorbar": {
             "outlinewidth": 0,
             "ticks": ""
            },
            "colorscale": [
             [
              0,
              "#0d0887"
             ],
             [
              0.1111111111111111,
              "#46039f"
             ],
             [
              0.2222222222222222,
              "#7201a8"
             ],
             [
              0.3333333333333333,
              "#9c179e"
             ],
             [
              0.4444444444444444,
              "#bd3786"
             ],
             [
              0.5555555555555556,
              "#d8576b"
             ],
             [
              0.6666666666666666,
              "#ed7953"
             ],
             [
              0.7777777777777778,
              "#fb9f3a"
             ],
             [
              0.8888888888888888,
              "#fdca26"
             ],
             [
              1,
              "#f0f921"
             ]
            ],
            "type": "contour"
           }
          ],
          "contourcarpet": [
           {
            "colorbar": {
             "outlinewidth": 0,
             "ticks": ""
            },
            "type": "contourcarpet"
           }
          ],
          "heatmap": [
           {
            "colorbar": {
             "outlinewidth": 0,
             "ticks": ""
            },
            "colorscale": [
             [
              0,
              "#0d0887"
             ],
             [
              0.1111111111111111,
              "#46039f"
             ],
             [
              0.2222222222222222,
              "#7201a8"
             ],
             [
              0.3333333333333333,
              "#9c179e"
             ],
             [
              0.4444444444444444,
              "#bd3786"
             ],
             [
              0.5555555555555556,
              "#d8576b"
             ],
             [
              0.6666666666666666,
              "#ed7953"
             ],
             [
              0.7777777777777778,
              "#fb9f3a"
             ],
             [
              0.8888888888888888,
              "#fdca26"
             ],
             [
              1,
              "#f0f921"
             ]
            ],
            "type": "heatmap"
           }
          ],
          "histogram": [
           {
            "marker": {
             "pattern": {
              "fillmode": "overlay",
              "size": 10,
              "solidity": 0.2
             }
            },
            "type": "histogram"
           }
          ],
          "histogram2d": [
           {
            "colorbar": {
             "outlinewidth": 0,
             "ticks": ""
            },
            "colorscale": [
             [
              0,
              "#0d0887"
             ],
             [
              0.1111111111111111,
              "#46039f"
             ],
             [
              0.2222222222222222,
              "#7201a8"
             ],
             [
              0.3333333333333333,
              "#9c179e"
             ],
             [
              0.4444444444444444,
              "#bd3786"
             ],
             [
              0.5555555555555556,
              "#d8576b"
             ],
             [
              0.6666666666666666,
              "#ed7953"
             ],
             [
              0.7777777777777778,
              "#fb9f3a"
             ],
             [
              0.8888888888888888,
              "#fdca26"
             ],
             [
              1,
              "#f0f921"
             ]
            ],
            "type": "histogram2d"
           }
          ],
          "histogram2dcontour": [
           {
            "colorbar": {
             "outlinewidth": 0,
             "ticks": ""
            },
            "colorscale": [
             [
              0,
              "#0d0887"
             ],
             [
              0.1111111111111111,
              "#46039f"
             ],
             [
              0.2222222222222222,
              "#7201a8"
             ],
             [
              0.3333333333333333,
              "#9c179e"
             ],
             [
              0.4444444444444444,
              "#bd3786"
             ],
             [
              0.5555555555555556,
              "#d8576b"
             ],
             [
              0.6666666666666666,
              "#ed7953"
             ],
             [
              0.7777777777777778,
              "#fb9f3a"
             ],
             [
              0.8888888888888888,
              "#fdca26"
             ],
             [
              1,
              "#f0f921"
             ]
            ],
            "type": "histogram2dcontour"
           }
          ],
          "mesh3d": [
           {
            "colorbar": {
             "outlinewidth": 0,
             "ticks": ""
            },
            "type": "mesh3d"
           }
          ],
          "parcoords": [
           {
            "line": {
             "colorbar": {
              "outlinewidth": 0,
              "ticks": ""
             }
            },
            "type": "parcoords"
           }
          ],
          "pie": [
           {
            "automargin": true,
            "type": "pie"
           }
          ],
          "scatter": [
           {
            "fillpattern": {
             "fillmode": "overlay",
             "size": 10,
             "solidity": 0.2
            },
            "type": "scatter"
           }
          ],
          "scatter3d": [
           {
            "line": {
             "colorbar": {
              "outlinewidth": 0,
              "ticks": ""
             }
            },
            "marker": {
             "colorbar": {
              "outlinewidth": 0,
              "ticks": ""
             }
            },
            "type": "scatter3d"
           }
          ],
          "scattercarpet": [
           {
            "marker": {
             "colorbar": {
              "outlinewidth": 0,
              "ticks": ""
             }
            },
            "type": "scattercarpet"
           }
          ],
          "scattergeo": [
           {
            "marker": {
             "colorbar": {
              "outlinewidth": 0,
              "ticks": ""
             }
            },
            "type": "scattergeo"
           }
          ],
          "scattergl": [
           {
            "marker": {
             "colorbar": {
              "outlinewidth": 0,
              "ticks": ""
             }
            },
            "type": "scattergl"
           }
          ],
          "scattermap": [
           {
            "marker": {
             "colorbar": {
              "outlinewidth": 0,
              "ticks": ""
             }
            },
            "type": "scattermap"
           }
          ],
          "scattermapbox": [
           {
            "marker": {
             "colorbar": {
              "outlinewidth": 0,
              "ticks": ""
             }
            },
            "type": "scattermapbox"
           }
          ],
          "scatterpolar": [
           {
            "marker": {
             "colorbar": {
              "outlinewidth": 0,
              "ticks": ""
             }
            },
            "type": "scatterpolar"
           }
          ],
          "scatterpolargl": [
           {
            "marker": {
             "colorbar": {
              "outlinewidth": 0,
              "ticks": ""
             }
            },
            "type": "scatterpolargl"
           }
          ],
          "scatterternary": [
           {
            "marker": {
             "colorbar": {
              "outlinewidth": 0,
              "ticks": ""
             }
            },
            "type": "scatterternary"
           }
          ],
          "surface": [
           {
            "colorbar": {
             "outlinewidth": 0,
             "ticks": ""
            },
            "colorscale": [
             [
              0,
              "#0d0887"
             ],
             [
              0.1111111111111111,
              "#46039f"
             ],
             [
              0.2222222222222222,
              "#7201a8"
             ],
             [
              0.3333333333333333,
              "#9c179e"
             ],
             [
              0.4444444444444444,
              "#bd3786"
             ],
             [
              0.5555555555555556,
              "#d8576b"
             ],
             [
              0.6666666666666666,
              "#ed7953"
             ],
             [
              0.7777777777777778,
              "#fb9f3a"
             ],
             [
              0.8888888888888888,
              "#fdca26"
             ],
             [
              1,
              "#f0f921"
             ]
            ],
            "type": "surface"
           }
          ],
          "table": [
           {
            "cells": {
             "fill": {
              "color": "#EBF0F8"
             },
             "line": {
              "color": "white"
             }
            },
            "header": {
             "fill": {
              "color": "#C8D4E3"
             },
             "line": {
              "color": "white"
             }
            },
            "type": "table"
           }
          ]
         },
         "layout": {
          "annotationdefaults": {
           "arrowcolor": "#2a3f5f",
           "arrowhead": 0,
           "arrowwidth": 1
          },
          "autotypenumbers": "strict",
          "coloraxis": {
           "colorbar": {
            "outlinewidth": 0,
            "ticks": ""
           }
          },
          "colorscale": {
           "diverging": [
            [
             0,
             "#8e0152"
            ],
            [
             0.1,
             "#c51b7d"
            ],
            [
             0.2,
             "#de77ae"
            ],
            [
             0.3,
             "#f1b6da"
            ],
            [
             0.4,
             "#fde0ef"
            ],
            [
             0.5,
             "#f7f7f7"
            ],
            [
             0.6,
             "#e6f5d0"
            ],
            [
             0.7,
             "#b8e186"
            ],
            [
             0.8,
             "#7fbc41"
            ],
            [
             0.9,
             "#4d9221"
            ],
            [
             1,
             "#276419"
            ]
           ],
           "sequential": [
            [
             0,
             "#0d0887"
            ],
            [
             0.1111111111111111,
             "#46039f"
            ],
            [
             0.2222222222222222,
             "#7201a8"
            ],
            [
             0.3333333333333333,
             "#9c179e"
            ],
            [
             0.4444444444444444,
             "#bd3786"
            ],
            [
             0.5555555555555556,
             "#d8576b"
            ],
            [
             0.6666666666666666,
             "#ed7953"
            ],
            [
             0.7777777777777778,
             "#fb9f3a"
            ],
            [
             0.8888888888888888,
             "#fdca26"
            ],
            [
             1,
             "#f0f921"
            ]
           ],
           "sequentialminus": [
            [
             0,
             "#0d0887"
            ],
            [
             0.1111111111111111,
             "#46039f"
            ],
            [
             0.2222222222222222,
             "#7201a8"
            ],
            [
             0.3333333333333333,
             "#9c179e"
            ],
            [
             0.4444444444444444,
             "#bd3786"
            ],
            [
             0.5555555555555556,
             "#d8576b"
            ],
            [
             0.6666666666666666,
             "#ed7953"
            ],
            [
             0.7777777777777778,
             "#fb9f3a"
            ],
            [
             0.8888888888888888,
             "#fdca26"
            ],
            [
             1,
             "#f0f921"
            ]
           ]
          },
          "colorway": [
           "#636efa",
           "#EF553B",
           "#00cc96",
           "#ab63fa",
           "#FFA15A",
           "#19d3f3",
           "#FF6692",
           "#B6E880",
           "#FF97FF",
           "#FECB52"
          ],
          "font": {
           "color": "#2a3f5f",
           "family": "Arial, sans-serif",
           "size": 12
          },
          "geo": {
           "bgcolor": "white",
           "lakecolor": "white",
           "landcolor": "white",
           "showlakes": true,
           "showland": true,
           "subunitcolor": "#C8D4E3"
          },
          "hoverlabel": {
           "align": "left"
          },
          "hovermode": "closest",
          "legend": {
           "bgcolor": "rgba(255,255,255,0.9)",
           "bordercolor": "lightgray",
           "borderwidth": 1
          },
          "mapbox": {
           "style": "light"
          },
          "paper_bgcolor": "white",
          "plot_bgcolor": "white",
          "polar": {
           "angularaxis": {
            "gridcolor": "#EBF0F8",
            "linecolor": "#EBF0F8",
            "ticks": ""
           },
           "bgcolor": "white",
           "radialaxis": {
            "gridcolor": "#EBF0F8",
            "linecolor": "#EBF0F8",
            "ticks": ""
           }
          },
          "scene": {
           "xaxis": {
            "backgroundcolor": "white",
            "gridcolor": "#DFE8F3",
            "gridwidth": 2,
            "linecolor": "#EBF0F8",
            "showbackground": true,
            "ticks": "",
            "zerolinecolor": "#EBF0F8"
           },
           "yaxis": {
            "backgroundcolor": "white",
            "gridcolor": "#DFE8F3",
            "gridwidth": 2,
            "linecolor": "#EBF0F8",
            "showbackground": true,
            "ticks": "",
            "zerolinecolor": "#EBF0F8"
           },
           "zaxis": {
            "backgroundcolor": "white",
            "gridcolor": "#DFE8F3",
            "gridwidth": 2,
            "linecolor": "#EBF0F8",
            "showbackground": true,
            "ticks": "",
            "zerolinecolor": "#EBF0F8"
           }
          },
          "shapedefaults": {
           "line": {
            "color": "#2a3f5f"
           }
          },
          "ternary": {
           "aaxis": {
            "gridcolor": "#DFE8F3",
            "linecolor": "#A2B1C6",
            "ticks": ""
           },
           "baxis": {
            "gridcolor": "#DFE8F3",
            "linecolor": "#A2B1C6",
            "ticks": ""
           },
           "bgcolor": "white",
           "caxis": {
            "gridcolor": "#DFE8F3",
            "linecolor": "#A2B1C6",
            "ticks": ""
           }
          },
          "title": {
           "x": 0.05
          },
          "xaxis": {
           "automargin": true,
           "gridcolor": "lightgray",
           "griddash": "dot",
           "gridwidth": 1,
           "linecolor": "#EBF0F8",
           "ticks": "",
           "title": {
            "standoff": 15
           },
           "zeroline": true,
           "zerolinecolor": "darkgray",
           "zerolinewidth": 1
          },
          "yaxis": {
           "automargin": true,
           "gridcolor": "lightgray",
           "griddash": "dot",
           "gridwidth": 1,
           "linecolor": "#EBF0F8",
           "ticks": "",
           "title": {
            "standoff": 15
           },
           "zeroline": true,
           "zerolinecolor": "darkgray",
           "zerolinewidth": 1
          }
         }
        },
        "xaxis": {
         "title": {
          "text": "sentiment"
         }
        },
        "yaxis": {
         "title": {
          "text": "Count"
         }
        }
       }
      }
     },
     "metadata": {},
     "output_type": "display_data"
    }
   ],
   "source": [
    "bar(df_final.filter(F.col('speaker') != 'agent').groupBy('sentiment').count(), 'count', 'sentiment')"
   ]
  },
  {
   "cell_type": "markdown",
   "metadata": {},
   "source": [
    "We are having customers that are with POSITIVE impact, but there are more number of NEGATIVE compared to the agents. (4K vs 6K) !"
   ]
  },
  {
   "cell_type": "code",
   "execution_count": 71,
   "metadata": {},
   "outputs": [
    {
     "data": {
      "text/html": [
       "<table border='1'>\n",
       "<tr><th>conversation_id</th><th>speaker</th><th>date_time</th><th>text</th><th>sentiment</th><th>topic</th><th>speaker_sentiment</th></tr>\n",
       "<tr><td>003a495d236c4337b...</td><td>agent</td><td>2023-09-30 18:41:36</td><td>Good morning,  . ...</td><td>POSITIVE</td><td></td><td>[POSITIVE, NEGATI...</td></tr>\n",
       "<tr><td>003a495d236c4337b...</td><td>agent</td><td>2023-09-30 18:41:...</td><td>Sorry to hear tha...</td><td>NEGATIVE</td><td></td><td>[POSITIVE, NEGATI...</td></tr>\n",
       "<tr><td>003a495d236c4337b...</td><td>agent</td><td>2023-09-30 18:42:...</td><td>I apologize for t...</td><td>NEUTRAL</td><td>Issue Troubleshoot</td><td>[POSITIVE, NEGATI...</td></tr>\n",
       "<tr><td>003a495d236c4337b...</td><td>agent</td><td>2023-09-30 18:42:36</td><td>. I&#x27;ve checked on...</td><td>NEGATIVE</td><td>Account Checking</td><td>[POSITIVE, NEGATI...</td></tr>\n",
       "<tr><td>003a495d236c4337b...</td><td>agent</td><td>2023-09-30 18:43:06</td><td>I understandize f...</td><td>NEUTRAL</td><td>Account Checking</td><td>[POSITIVE, NEGATI...</td></tr>\n",
       "<tr><td>003a495d236c4337b...</td><td>agent</td><td>2023-09-30 18:43:...</td><td>. Is there anythi...</td><td>NEUTRAL</td><td>Technical Dispatch</td><td>[POSITIVE, NEGATI...</td></tr>\n",
       "<tr><td>003a495d236c4337b...</td><td>agent</td><td>2023-09-30 18:43:...</td><td>You&#x27;re welcome. H...</td><td>POSITIVE</td><td>Call Closing</td><td>[POSITIVE, NEGATI...</td></tr>\n",
       "<tr><td>0070441c707c4e2e8...</td><td>client</td><td>2023-09-20 10:41:12</td><td> my mobile device...</td><td>NEUTRAL</td><td>Technical Support</td><td>[NEUTRAL, NEGATIV...</td></tr>\n",
       "<tr><td>0070441c707c4e2e8...</td><td>client</td><td>2023-09-20 10:41:...</td><td>Yeah, sure. My ac...</td><td>NEUTRAL</td><td></td><td>[NEUTRAL, NEGATIV...</td></tr>\n",
       "<tr><td>0070441c707c4e2e8...</td><td>client</td><td>2023-09-20 10:41:...</td><td>No, it&#x27;s not lost...</td><td>NEUTRAL</td><td></td><td>[NEUTRAL, NEGATIV...</td></tr>\n",
       "<tr><td>0070441c707c4e2e8...</td><td>client</td><td>2023-09-20 10:42:...</td><td>No, that&#x27;s not wh...</td><td>NEGATIVE</td><td></td><td>[NEUTRAL, NEGATIV...</td></tr>\n",
       "<tr><td>0070441c707c4e2e8...</td><td>client</td><td>2023-09-20 10:42:...</td><td>Neither. . I just...</td><td>NEGATIVE</td><td>Technical Support</td><td>[NEUTRAL, NEGATIV...</td></tr>\n",
       "<tr><td>0070441c707c4e2e8...</td><td>client</td><td>2023-09-20 10:43:...</td><td>No, that&#x27;s not wh...</td><td>NEGATIVE</td><td></td><td>[NEUTRAL, NEGATIV...</td></tr>\n",
       "<tr><td>0070441c707c4e2e8...</td><td>client</td><td>2023-09-20 10:43:...</td><td>No, nothing else....</td><td>NEGATIVE</td><td>Technical Solution</td><td>[NEUTRAL, NEGATIV...</td></tr>\n",
       "<tr><td>0070441c707c4e2e8...</td><td>client</td><td>2023-09-20 10:44:...</td><td>No, nothing else....</td><td>NEUTRAL</td><td>Technical Solution</td><td>[NEUTRAL, NEGATIV...</td></tr>\n",
       "<tr><td>009a1ab5d5834814b...</td><td>client</td><td>2023-11-18 13:57:...</td><td>Hi Leatha my Clou...</td><td>NEUTRAL</td><td>Technical Dispatch</td><td>[NEUTRAL, POSITIV...</td></tr>\n",
       "<tr><td>009a1ab5d5834814b...</td><td>client</td><td>2023-11-18 13:58:...</td><td>Sure, my account ...</td><td>NEUTRAL</td><td></td><td>[NEUTRAL, POSITIV...</td></tr>\n",
       "<tr><td>009a1ab5d5834814b...</td><td>client</td><td>2023-11-18 13:58:...</td><td>Yes, that would b...</td><td>POSITIVE</td><td></td><td>[NEUTRAL, POSITIV...</td></tr>\n",
       "<tr><td>009a1ab5d5834814b...</td><td>client</td><td>2023-11-18 13:59:...</td><td>No, that&#x27;s all fo...</td><td>NEUTRAL</td><td>Issue Troubleshoot</td><td>[NEUTRAL, POSITIV...</td></tr>\n",
       "<tr><td>00adb70a033245dba...</td><td>agent</td><td>2023-12-19 09:49:01</td><td>Hello, . , and I&#x27;...</td><td>POSITIVE</td><td>Issue Troubleshoot</td><td>[POSITIVE, NEGATI...</td></tr>\n",
       "</table>\n",
       "only showing top 20 rows\n"
      ],
      "text/plain": [
       "+--------------------+-------+--------------------+--------------------+---------+------------------+--------------------+\n",
       "|     conversation_id|speaker|           date_time|                text|sentiment|             topic|   speaker_sentiment|\n",
       "+--------------------+-------+--------------------+--------------------+---------+------------------+--------------------+\n",
       "|003a495d236c4337b...|  agent| 2023-09-30 18:41:36|Good morning,  . ...| POSITIVE|                  |[POSITIVE, NEGATI...|\n",
       "|003a495d236c4337b...|  agent|2023-09-30 18:41:...|Sorry to hear tha...| NEGATIVE|                  |[POSITIVE, NEGATI...|\n",
       "|003a495d236c4337b...|  agent|2023-09-30 18:42:...|I apologize for t...|  NEUTRAL|Issue Troubleshoot|[POSITIVE, NEGATI...|\n",
       "|003a495d236c4337b...|  agent| 2023-09-30 18:42:36|. I've checked on...| NEGATIVE|  Account Checking|[POSITIVE, NEGATI...|\n",
       "|003a495d236c4337b...|  agent| 2023-09-30 18:43:06|I understandize f...|  NEUTRAL|  Account Checking|[POSITIVE, NEGATI...|\n",
       "|003a495d236c4337b...|  agent|2023-09-30 18:43:...|. Is there anythi...|  NEUTRAL|Technical Dispatch|[POSITIVE, NEGATI...|\n",
       "|003a495d236c4337b...|  agent|2023-09-30 18:43:...|You're welcome. H...| POSITIVE|      Call Closing|[POSITIVE, NEGATI...|\n",
       "|0070441c707c4e2e8...| client| 2023-09-20 10:41:12| my mobile device...|  NEUTRAL| Technical Support|[NEUTRAL, NEGATIV...|\n",
       "|0070441c707c4e2e8...| client|2023-09-20 10:41:...|Yeah, sure. My ac...|  NEUTRAL|                  |[NEUTRAL, NEGATIV...|\n",
       "|0070441c707c4e2e8...| client|2023-09-20 10:41:...|No, it's not lost...|  NEUTRAL|                  |[NEUTRAL, NEGATIV...|\n",
       "|0070441c707c4e2e8...| client|2023-09-20 10:42:...|No, that's not wh...| NEGATIVE|                  |[NEUTRAL, NEGATIV...|\n",
       "|0070441c707c4e2e8...| client|2023-09-20 10:42:...|Neither. . I just...| NEGATIVE| Technical Support|[NEUTRAL, NEGATIV...|\n",
       "|0070441c707c4e2e8...| client|2023-09-20 10:43:...|No, that's not wh...| NEGATIVE|                  |[NEUTRAL, NEGATIV...|\n",
       "|0070441c707c4e2e8...| client|2023-09-20 10:43:...|No, nothing else....| NEGATIVE|Technical Solution|[NEUTRAL, NEGATIV...|\n",
       "|0070441c707c4e2e8...| client|2023-09-20 10:44:...|No, nothing else....|  NEUTRAL|Technical Solution|[NEUTRAL, NEGATIV...|\n",
       "|009a1ab5d5834814b...| client|2023-11-18 13:57:...|Hi Leatha my Clou...|  NEUTRAL|Technical Dispatch|[NEUTRAL, POSITIV...|\n",
       "|009a1ab5d5834814b...| client|2023-11-18 13:58:...|Sure, my account ...|  NEUTRAL|                  |[NEUTRAL, POSITIV...|\n",
       "|009a1ab5d5834814b...| client|2023-11-18 13:58:...|Yes, that would b...| POSITIVE|                  |[NEUTRAL, POSITIV...|\n",
       "|009a1ab5d5834814b...| client|2023-11-18 13:59:...|No, that's all fo...|  NEUTRAL|Issue Troubleshoot|[NEUTRAL, POSITIV...|\n",
       "|00adb70a033245dba...|  agent| 2023-12-19 09:49:01|Hello, . , and I'...| POSITIVE|Issue Troubleshoot|[POSITIVE, NEGATI...|\n",
       "+--------------------+-------+--------------------+--------------------+---------+------------------+--------------------+\n",
       "only showing top 20 rows"
      ]
     },
     "execution_count": 71,
     "metadata": {},
     "output_type": "execute_result"
    }
   ],
   "source": [
    "import pyspark.sql.window as W\n",
    "\n",
    "from pyspark.sql.types import ArrayType, StringType\n",
    "\n",
    "@F.udf(returnType=ArrayType(StringType()))\n",
    "def remove_consecutive_duplicates(sentiment_array):\n",
    "    if not sentiment_array or len(sentiment_array) <= 1:\n",
    "        return sentiment_array\n",
    "    \n",
    "    result = [sentiment_array[0]]  # Always keep the first element\n",
    "    \n",
    "    for i in range(1, len(sentiment_array)):\n",
    "        if sentiment_array[i] != sentiment_array[i-1]:  # Different from previous\n",
    "            result.append(sentiment_array[i])\n",
    "    \n",
    "    return result\n",
    "\n",
    "window = W.Window().partitionBy(['conversation_id', 'speaker']).orderBy('date_time').rangeBetween( W.Window.unboundedPreceding, W.Window.unboundedFollowing )\n",
    "\n",
    "df_final = (\n",
    "    df_final\n",
    "        .sort(['conversation_id', 'date_time'])\n",
    "        .withColumn('speaker_sentiment', remove_consecutive_duplicates( F.collect_list('sentiment').over(window=window) ) )\n",
    ")\n",
    "\n",
    "df_final.select(['conversation_id', 'speaker', 'date_time','text', 'sentiment', 'topic', 'speaker_sentiment'])"
   ]
  },
  {
   "cell_type": "code",
   "execution_count": 81,
   "metadata": {},
   "outputs": [],
   "source": [
    "df_solution = (\n",
    "    df_final\n",
    "        .sort(['conversation_id', 'date_time'])\n",
    "        .groupby(['conversation_id'])\n",
    "        .agg(*[\n",
    "                F.min('date_time').alias('start'),\n",
    "                F.max('date_time').alias('end'),\n",
    "                F.array_remove( F.array_distinct( F.collect_list('topic')), '' ).alias('topics'),\n",
    "        ])\n",
    "        .join(\n",
    "            df_final.groupby('conversation_id', ).pivot('speaker').agg(F.first(\"speaker_sentiment\")),\n",
    "            on='conversation_id'\n",
    "        )\n",
    ")"
   ]
  },
  {
   "cell_type": "code",
   "execution_count": 80,
   "metadata": {},
   "outputs": [
    {
     "data": {
      "text/html": [
       "<table border='1'>\n",
       "<tr><th>conversation_id</th><th>start</th><th>end</th><th>topics</th><th>agent</th><th>client</th></tr>\n",
       "<tr><td>001913b4983847f7a...</td><td>2023-11-13 11:34:36</td><td>2023-11-13 11:36:...</td><td>[Technical Soluti...</td><td>[NEUTRAL, NEGATIV...</td><td>[NEGATIVE, NEUTRA...</td></tr>\n",
       "<tr><td>003a495d236c4337b...</td><td>2023-09-30 18:41:36</td><td>2023-09-30 18:43:...</td><td>[Technical Suppor...</td><td>[POSITIVE, NEGATI...</td><td>[NEUTRAL, NEGATIV...</td></tr>\n",
       "<tr><td>0055c9b42be74cff9...</td><td>2023-12-26 10:47:44</td><td>2023-12-26 10:50:...</td><td>[Billing Plans, A...</td><td>[POSITIVE, NEUTRA...</td><td>[NEUTRAL, POSITIV...</td></tr>\n",
       "<tr><td>0055ed50a0874f018...</td><td>2023-09-28 11:59:43</td><td>2023-09-28 12:01:...</td><td>[Billing Plans, I...</td><td>[NEUTRAL, POSITIV...</td><td>[NEUTRAL, POSITIVE]</td></tr>\n",
       "<tr><td>00679128c3264ddcb...</td><td>2023-09-23 10:55:39</td><td>2023-09-23 10:58:...</td><td>[Issue Troublesho...</td><td>[POSITIVE, NEUTRA...</td><td>[NEGATIVE, NEUTRA...</td></tr>\n",
       "<tr><td>006ba5d97cba4c55a...</td><td>2023-09-09 13:19:07</td><td>2023-09-09 13:21:...</td><td>[Account Checking...</td><td>[NEUTRAL, POSITIV...</td><td>[NEGATIVE, NEUTRA...</td></tr>\n",
       "<tr><td>0070441c707c4e2e8...</td><td>2023-09-20 10:41:12</td><td>2023-09-20 10:44:...</td><td>[Technical Suppor...</td><td>[POSITIVE, NEUTRA...</td><td>[NEUTRAL, NEGATIV...</td></tr>\n",
       "<tr><td>00953f16e5f4497db...</td><td>2023-12-12 18:41:41</td><td>2023-12-12 18:44:...</td><td>[Technical Suppor...</td><td>[NEUTRAL, NEGATIV...</td><td>[NEGATIVE, NEUTRA...</td></tr>\n",
       "<tr><td>00992dbd0e1c458c9...</td><td>2023-09-28 16:02:37</td><td>2023-09-28 16:05:...</td><td>[Issue Troublesho...</td><td>[NEGATIVE, NEUTRA...</td><td>[NEGATIVE, NEUTRA...</td></tr>\n",
       "<tr><td>009a1ab5d5834814b...</td><td>2023-11-18 13:57:49</td><td>2023-11-18 13:59:...</td><td>[Technical Dispat...</td><td>[NEUTRAL, POSITIV...</td><td>[NEUTRAL, POSITIV...</td></tr>\n",
       "<tr><td>00adb70a033245dba...</td><td>2023-12-19 09:49:01</td><td>2023-12-19 09:51:...</td><td>[Issue Troublesho...</td><td>[POSITIVE, NEGATI...</td><td>[NEGATIVE, POSITI...</td></tr>\n",
       "<tr><td>00c98d29688b422b8...</td><td>2023-09-15 16:02:20</td><td>2023-09-15 16:07:...</td><td>[Issue Troublesho...</td><td>[POSITIVE, NEUTRA...</td><td>[NEGATIVE, NEUTRA...</td></tr>\n",
       "<tr><td>00d6429d64a3432da...</td><td>2023-09-01 14:07:12</td><td>2023-09-01 14:10:...</td><td>[Issue Troublesho...</td><td>[POSITIVE, NEUTRA...</td><td>[NEGATIVE, NEUTRA...</td></tr>\n",
       "<tr><td>010d29b4aefb4fb4b...</td><td>2023-09-29 10:04:50</td><td>2023-09-29 10:08:...</td><td>[Technical Dispat...</td><td>[POSITIVE, NEGATI...</td><td>[NEGATIVE, NEUTRA...</td></tr>\n",
       "<tr><td>0112a09669d64d28b...</td><td>2023-09-26 10:13:09</td><td>2023-09-26 10:15:...</td><td>[Escalation, Tech...</td><td>[NEUTRAL, NEGATIV...</td><td>[NEGATIVE, NEUTRA...</td></tr>\n",
       "<tr><td>011fbaced12e4c6e9...</td><td>2023-10-22 11:27:13</td><td>2023-10-22 11:29:...</td><td>[Technical Suppor...</td><td>[NEUTRAL, NEGATIV...</td><td>[NEGATIVE, NEUTRA...</td></tr>\n",
       "<tr><td>015e0c51f1564091b...</td><td>2023-12-30 18:29:24</td><td>2023-12-30 18:33:...</td><td>[Issue Troublesho...</td><td>[POSITIVE, NEGATI...</td><td>[NEGATIVE, NEUTRA...</td></tr>\n",
       "<tr><td>015eb5b5e0354f898...</td><td>2023-10-11 15:47:44</td><td>2023-10-11 15:51:...</td><td>[Technical Dispat...</td><td>[POSITIVE, NEUTRA...</td><td>[NEUTRAL, POSITIV...</td></tr>\n",
       "<tr><td>018f0c1b1ab2445cb...</td><td>2023-11-19 18:22:25</td><td>2023-11-19 18:25:...</td><td>[Technical Soluti...</td><td>[NEUTRAL, NEGATIV...</td><td>[NEGATIVE, POSITI...</td></tr>\n",
       "<tr><td>018fcfc4dade42c49...</td><td>2023-12-21 14:52:16</td><td>2023-12-21 14:54:...</td><td>[Billing Plans, T...</td><td>[NEUTRAL, NEGATIV...</td><td>[NEUTRAL, NEGATIV...</td></tr>\n",
       "</table>\n",
       "only showing top 20 rows\n"
      ],
      "text/plain": [
       "+--------------------+-------------------+--------------------+--------------------+--------------------+--------------------+\n",
       "|     conversation_id|              start|                 end|              topics|               agent|              client|\n",
       "+--------------------+-------------------+--------------------+--------------------+--------------------+--------------------+\n",
       "|001913b4983847f7a...|2023-11-13 11:34:36|2023-11-13 11:36:...|[Technical Soluti...|[NEUTRAL, NEGATIV...|[NEGATIVE, NEUTRA...|\n",
       "|003a495d236c4337b...|2023-09-30 18:41:36|2023-09-30 18:43:...|[Technical Suppor...|[POSITIVE, NEGATI...|[NEUTRAL, NEGATIV...|\n",
       "|0055c9b42be74cff9...|2023-12-26 10:47:44|2023-12-26 10:50:...|[Billing Plans, A...|[POSITIVE, NEUTRA...|[NEUTRAL, POSITIV...|\n",
       "|0055ed50a0874f018...|2023-09-28 11:59:43|2023-09-28 12:01:...|[Billing Plans, I...|[NEUTRAL, POSITIV...| [NEUTRAL, POSITIVE]|\n",
       "|00679128c3264ddcb...|2023-09-23 10:55:39|2023-09-23 10:58:...|[Issue Troublesho...|[POSITIVE, NEUTRA...|[NEGATIVE, NEUTRA...|\n",
       "|006ba5d97cba4c55a...|2023-09-09 13:19:07|2023-09-09 13:21:...|[Account Checking...|[NEUTRAL, POSITIV...|[NEGATIVE, NEUTRA...|\n",
       "|0070441c707c4e2e8...|2023-09-20 10:41:12|2023-09-20 10:44:...|[Technical Suppor...|[POSITIVE, NEUTRA...|[NEUTRAL, NEGATIV...|\n",
       "|00953f16e5f4497db...|2023-12-12 18:41:41|2023-12-12 18:44:...|[Technical Suppor...|[NEUTRAL, NEGATIV...|[NEGATIVE, NEUTRA...|\n",
       "|00992dbd0e1c458c9...|2023-09-28 16:02:37|2023-09-28 16:05:...|[Issue Troublesho...|[NEGATIVE, NEUTRA...|[NEGATIVE, NEUTRA...|\n",
       "|009a1ab5d5834814b...|2023-11-18 13:57:49|2023-11-18 13:59:...|[Technical Dispat...|[NEUTRAL, POSITIV...|[NEUTRAL, POSITIV...|\n",
       "|00adb70a033245dba...|2023-12-19 09:49:01|2023-12-19 09:51:...|[Issue Troublesho...|[POSITIVE, NEGATI...|[NEGATIVE, POSITI...|\n",
       "|00c98d29688b422b8...|2023-09-15 16:02:20|2023-09-15 16:07:...|[Issue Troublesho...|[POSITIVE, NEUTRA...|[NEGATIVE, NEUTRA...|\n",
       "|00d6429d64a3432da...|2023-09-01 14:07:12|2023-09-01 14:10:...|[Issue Troublesho...|[POSITIVE, NEUTRA...|[NEGATIVE, NEUTRA...|\n",
       "|010d29b4aefb4fb4b...|2023-09-29 10:04:50|2023-09-29 10:08:...|[Technical Dispat...|[POSITIVE, NEGATI...|[NEGATIVE, NEUTRA...|\n",
       "|0112a09669d64d28b...|2023-09-26 10:13:09|2023-09-26 10:15:...|[Escalation, Tech...|[NEUTRAL, NEGATIV...|[NEGATIVE, NEUTRA...|\n",
       "|011fbaced12e4c6e9...|2023-10-22 11:27:13|2023-10-22 11:29:...|[Technical Suppor...|[NEUTRAL, NEGATIV...|[NEGATIVE, NEUTRA...|\n",
       "|015e0c51f1564091b...|2023-12-30 18:29:24|2023-12-30 18:33:...|[Issue Troublesho...|[POSITIVE, NEGATI...|[NEGATIVE, NEUTRA...|\n",
       "|015eb5b5e0354f898...|2023-10-11 15:47:44|2023-10-11 15:51:...|[Technical Dispat...|[POSITIVE, NEUTRA...|[NEUTRAL, POSITIV...|\n",
       "|018f0c1b1ab2445cb...|2023-11-19 18:22:25|2023-11-19 18:25:...|[Technical Soluti...|[NEUTRAL, NEGATIV...|[NEGATIVE, POSITI...|\n",
       "|018fcfc4dade42c49...|2023-12-21 14:52:16|2023-12-21 14:54:...|[Billing Plans, T...|[NEUTRAL, NEGATIV...|[NEUTRAL, NEGATIV...|\n",
       "+--------------------+-------------------+--------------------+--------------------+--------------------+--------------------+\n",
       "only showing top 20 rows"
      ]
     },
     "execution_count": 80,
     "metadata": {},
     "output_type": "execute_result"
    }
   ],
   "source": [
    "df_solution"
   ]
  },
  {
   "cell_type": "code",
   "execution_count": 91,
   "metadata": {},
   "outputs": [
    {
     "data": {
      "text/html": [
       "<div>\n",
       "<style scoped>\n",
       "    .dataframe tbody tr th:only-of-type {\n",
       "        vertical-align: middle;\n",
       "    }\n",
       "\n",
       "    .dataframe tbody tr th {\n",
       "        vertical-align: top;\n",
       "    }\n",
       "\n",
       "    .dataframe thead th {\n",
       "        text-align: right;\n",
       "    }\n",
       "</style>\n",
       "<table border=\"1\" class=\"dataframe\">\n",
       "  <thead>\n",
       "    <tr style=\"text-align: right;\">\n",
       "      <th></th>\n",
       "      <th>speaker</th>\n",
       "      <th>text</th>\n",
       "    </tr>\n",
       "  </thead>\n",
       "  <tbody>\n",
       "    <tr>\n",
       "      <th>0</th>\n",
       "      <td>agent</td>\n",
       "      <td>Hi And, thank you for reaching out ! My name is Javier, and I'll be happy to assist you with your concern about unexpected charges on your bill related to international data usage. Can you tell me a little bit more about your issue, Andria? When did you notice these charges, and how much were they for? Additionally, can you tell me what country you were in when you incurred these charges? This will will help me better understand your situation and find you with the most accurate assistance.</td>\n",
       "    </tr>\n",
       "  </tbody>\n",
       "</table>\n",
       "</div>"
      ],
      "text/plain": [
       "  speaker                                                                                                                                                                                                                                                                                                                                                                                                                                                                                                             text\n",
       "0   agent  Hi And, thank you for reaching out ! My name is Javier, and I'll be happy to assist you with your concern about unexpected charges on your bill related to international data usage. Can you tell me a little bit more about your issue, Andria? When did you notice these charges, and how much were they for? Additionally, can you tell me what country you were in when you incurred these charges? This will will help me better understand your situation and find you with the most accurate assistance."
      ]
     },
     "metadata": {},
     "output_type": "display_data"
    }
   ],
   "source": [
    "df_final.find('conversation_id','009a8fd6c43240b09e7855a89f33a5ce').select('speaker','text').display()"
   ]
  },
  {
   "cell_type": "code",
   "execution_count": 85,
   "metadata": {},
   "outputs": [
    {
     "name": "stdout",
     "output_type": "stream",
     "text": [
      "+--------------------------------+-------------------+--------------------------+-------------------------------------------------------------------------------------------------------------------------------------------+--------------------------------------------------------------------------------------+-----------------------------------------------------------------------------+---------+\n",
      "|conversation_id                 |start              |end                       |topics                                                                                                                                     |agent                                                                                 |client                                                                       |bad_agent|\n",
      "+--------------------------------+-------------------+--------------------------+-------------------------------------------------------------------------------------------------------------------------------------------+--------------------------------------------------------------------------------------+-----------------------------------------------------------------------------+---------+\n",
      "|001913b4983847f7aa43518f0b8a0e9d|2023-11-13 11:34:36|2023-11-13 11:36:34.615385|[Technical Solution, Account Checking, Technical Support, Technical Dispatch, General Support, Call Closing]                               |[NEUTRAL, NEGATIVE, NEUTRAL, NEGATIVE, POSITIVE]                                      |[NEGATIVE, NEUTRAL, POSITIVE, NEGATIVE, POSITIVE]                            |false    |\n",
      "|003a495d236c4337b99971e0d68712e4|2023-09-30 18:41:36|2023-09-30 18:43:55.384615|[Technical Support, Issue Troubleshoot, Account Checking, Technical Dispatch, Call Closing]                                                |[POSITIVE, NEGATIVE, NEUTRAL, NEGATIVE, NEUTRAL, POSITIVE]                            |[NEUTRAL, NEGATIVE, NEUTRAL, NEGATIVE, POSITIVE, NEUTRAL]                    |false    |\n",
      "|0055c9b42be74cff9ad675bb59913925|2023-12-26 10:47:44|2023-12-26 10:50:18.153847|[Billing Plans, Account Checking, General Support, Call Closing]                                                                           |[POSITIVE, NEUTRAL, POSITIVE, NEUTRAL, POSITIVE]                                      |[NEUTRAL, POSITIVE, NEUTRAL, NEGATIVE]                                       |false    |\n",
      "|0055ed50a0874f018ab13c7d8a055ec6|2023-09-28 11:59:43|2023-09-28 12:01:54.53846 |[Billing Plans, Issue Troubleshoot, Technical Dispatch, General Support, Follow Up, Call Closing]                                          |[NEUTRAL, POSITIVE, NEGATIVE, NEUTRAL, POSITIVE]                                      |[NEUTRAL, POSITIVE]                                                          |false    |\n",
      "|00679128c3264ddcb692ba8bb5e4e277|2023-09-23 10:55:39|2023-09-23 10:58:21.000001|[Issue Troubleshoot, Account Checking, General Support, Call Closing]                                                                      |[POSITIVE, NEUTRAL, NEGATIVE, POSITIVE]                                               |[NEGATIVE, NEUTRAL, POSITIVE]                                                |false    |\n",
      "|006ba5d97cba4c55a63287a945808b19|2023-09-09 13:19:07|2023-09-09 13:21:57.307693|[Account Checking, General Support, Technical Dispatch, Call Closing, Technical Solution]                                                  |[NEUTRAL, POSITIVE, NEGATIVE, NEUTRAL, NEGATIVE, NEUTRAL, POSITIVE]                   |[NEGATIVE, NEUTRAL, POSITIVE, NEGATIVE, POSITIVE, NEUTRAL]                   |false    |\n",
      "|0070441c707c4e2e81e50cb097474f35|2023-09-20 10:41:12|2023-09-20 10:44:05.999999|[Technical Support, Issue Troubleshoot, Billing Plans, Technical Dispatch, Technical Solution, Call Closing]                               |[POSITIVE, NEUTRAL, NEGATIVE, NEUTRAL, NEGATIVE, NEUTRAL, POSITIVE]                   |[NEUTRAL, NEGATIVE, NEUTRAL]                                                 |false    |\n",
      "|00953f16e5f4497db3608f4284ad111a|2023-12-12 18:41:41|2023-12-12 18:44:07.307691|[Technical Support, Account Checking, Issue Troubleshoot, Technical Dispatch, General Support, Call Closing]                               |[NEUTRAL, NEGATIVE, NEUTRAL, POSITIVE]                                                |[NEGATIVE, NEUTRAL, POSITIVE, NEUTRAL]                                       |false    |\n",
      "|00992dbd0e1c458c9145cc0da683ad08|2023-09-28 16:02:37|2023-09-28 16:05:07.461538|[Issue Troubleshoot, Account Checking, Technical Solution, General Support, Technical Dispatch]                                            |[NEGATIVE, NEUTRAL, NEGATIVE, NEUTRAL, POSITIVE, NEUTRAL]                             |[NEGATIVE, NEUTRAL, NEGATIVE, POSITIVE, NEGATIVE, NEUTRAL]                   |false    |\n",
      "|009a1ab5d5834814bcf7d4f7912c167f|2023-11-18 13:57:49|2023-11-18 13:59:10.230769|[Technical Dispatch, Issue Troubleshoot, Account Checking, Call Closing]                                                                   |[NEUTRAL, POSITIVE, NEUTRAL, POSITIVE]                                                |[NEUTRAL, POSITIVE, NEUTRAL]                                                 |false    |\n",
      "|00adb70a033245dbacb0dbc7292accd0|2023-12-19 09:49:01|2023-12-19 09:51:24.53846 |[Issue Troubleshoot, Technical Support, Technical Dispatch, Call Closing]                                                                  |[POSITIVE, NEGATIVE, NEUTRAL, POSITIVE]                                               |[NEGATIVE, POSITIVE, NEUTRAL, POSITIVE]                                      |false    |\n",
      "|00c98d29688b422b8e030ccee254c3e0|2023-09-15 16:02:20|2023-09-15 16:07:29.692308|[Issue Troubleshoot, Technical Support, Account Checking, General Support, Follow Up, Technical Dispatch, Call Closing]                    |[POSITIVE, NEUTRAL, NEGATIVE, NEUTRAL, POSITIVE, NEUTRAL, NEGATIVE, NEUTRAL, POSITIVE]|[NEGATIVE, NEUTRAL, POSITIVE, NEUTRAL, NEGATIVE, POSITIVE]                   |false    |\n",
      "|00d6429d64a3432dacf7a5b3f11aca0d|2023-09-01 14:07:12|2023-09-01 14:10:08.769231|[Issue Troubleshoot, Technical Support, Account Checking, Follow Up, General Support, Technical Dispatch]                                  |[POSITIVE, NEUTRAL, POSITIVE, NEUTRAL, POSITIVE, NEUTRAL, POSITIVE]                   |[NEGATIVE, NEUTRAL, POSITIVE, NEUTRAL, POSITIVE]                             |false    |\n",
      "|010d29b4aefb4fb4be0cf8f60ca75d65|2023-09-29 10:04:50|2023-09-29 10:08:00.615385|[Technical Dispatch, Technical Support, Issue Troubleshoot, Account Checking, Billing Plans, General Support, Call Closing]                |[POSITIVE, NEGATIVE, NEUTRAL, NEGATIVE, NEUTRAL, POSITIVE]                            |[NEGATIVE, NEUTRAL, NEGATIVE, POSITIVE, NEUTRAL, POSITIVE]                   |false    |\n",
      "|0112a09669d64d28b9c14ad3beae547c|2023-09-26 10:13:09|2023-09-26 10:15:48.692306|[Escalation, Technical Support, Issue Troubleshoot, Account Checking, Technical Dispatch, General Support, Call Closing]                   |[NEUTRAL, NEGATIVE, NEUTRAL, NEGATIVE, POSITIVE]                                      |[NEGATIVE, NEUTRAL, NEGATIVE, POSITIVE, NEGATIVE, NEUTRAL, POSITIVE, NEUTRAL]|false    |\n",
      "|011fbaced12e4c6e94212ba73406df51|2023-10-22 11:27:13|2023-10-22 11:29:02.846154|[Technical Support, Issue Troubleshoot, Account Checking, Technical Dispatch, Technical Solution, General Support]                         |[NEUTRAL, NEGATIVE, NEUTRAL, POSITIVE, NEGATIVE]                                      |[NEGATIVE, NEUTRAL, NEGATIVE, POSITIVE, NEUTRAL]                             |true     |\n",
      "|015e0c51f1564091b12b0d5a92e0a550|2023-12-30 18:29:24|2023-12-30 18:33:03.230769|[Issue Troubleshoot, Technical Solution, Technical Support, Account Checking, General Support, Technical Dispatch, Follow Up, Call Closing]|[POSITIVE, NEGATIVE, NEUTRAL, NEGATIVE, POSITIVE]                                     |[NEGATIVE, NEUTRAL, POSITIVE, NEUTRAL, POSITIVE]                             |false    |\n",
      "|015eb5b5e0354f898c44b31affe61987|2023-10-11 15:47:44|2023-10-11 15:51:52.769231|[Technical Dispatch, Billing Plans, Issue Troubleshoot, Technical Support, General Support, Follow Up, Call Closing]                       |[POSITIVE, NEUTRAL, POSITIVE, NEUTRAL, POSITIVE]                                      |[NEUTRAL, POSITIVE, NEUTRAL, POSITIVE]                                       |false    |\n",
      "|018f0c1b1ab2445cb98c7364a0214f7a|2023-11-19 18:22:25|2023-11-19 18:25:34.230769|[Technical Solution, Issue Troubleshoot, Technical Support, Technical Dispatch]                                                            |[NEUTRAL, NEGATIVE, NEUTRAL, POSITIVE, NEUTRAL, POSITIVE]                             |[NEGATIVE, POSITIVE, NEGATIVE, NEUTRAL, NEGATIVE, NEUTRAL, NEGATIVE]         |false    |\n",
      "|018fcfc4dade42c4970fca67e8fd7ab1|2023-12-21 14:52:16|2023-12-21 14:54:27.076924|[Billing Plans, Technical Dispatch, Call Closing]                                                                                          |[NEUTRAL, NEGATIVE, NEUTRAL, POSITIVE]                                                |[NEUTRAL, NEGATIVE, NEUTRAL]                                                 |false    |\n",
      "+--------------------------------+-------------------+--------------------------+-------------------------------------------------------------------------------------------------------------------------------------------+--------------------------------------------------------------------------------------+-----------------------------------------------------------------------------+---------+\n",
      "only showing top 20 rows\n",
      "\n"
     ]
    }
   ],
   "source": [
    "df_solution.withColumn('bad_agent', F.col('agent').cast('string').rlike( r'.*NEGATIVE.{0,5}$' ) ).show(truncate=False)"
   ]
  },
  {
   "cell_type": "code",
   "execution_count": 89,
   "metadata": {},
   "outputs": [
    {
     "name": "stdout",
     "output_type": "stream",
     "text": [
      "+-------+-----------------------------------------------------------------------------------------------------------------------------------------------------------------------------------------------------------------------+\n",
      "|speaker|text                                                                                                                                                                                                                   |\n",
      "+-------+-----------------------------------------------------------------------------------------------------------------------------------------------------------------------------------------------------------------------+\n",
      "|agent  |Hello,  . , how can I assist you today?                                                                                                                                                                                |\n",
      "|client | my Cloud Gaming subscription.  issues with it.                                                                                                                                                                        |\n",
      "|agent  |Sorry to hear that, Ariana. Can you tell me more about the issue you're experiencing?                                                                                                                                  |\n",
      "|client |Yeah play a game but it's not loading properly. It keeps sayinging and freezing.                                                                                                                                       |\n",
      "|agent  |I understand how frustrating that must be. Let me see if I can help you troubleshoot the issue. Have you tried restarting the game or checking your internet connection?                                               |\n",
      "|client |Yes, I've tried both of those things and the problem persists.                                                                                                                                                         |\n",
      "|agent  |Okay, it sounds like the issue might be related to your account settings.  transfer you to our technical support team who can assist you further. They'll be able to check your account and help you resolve the issue.|\n",
      "|client |Fine, whatever. Just get it fixed.                                                                                                                                                                                     |\n",
      "|agent  |Of course, Ariana. I apologize again for the inconvenience and appreciate your patience.  transfer you now. .                                                                                                          |\n",
      "|agent  | . I have Ariana on the line who is experiencing issues issues with her Cloud Gaming subscription. She's been having trouble loading a game and I've transferred her to your department for further assistance.        |\n",
      "|client |(explains the issue again)                                                                                                                                                                                             |\n",
      "|client |(provides her credentials and password)                                                                                                                                                                                |\n",
      "|client |What? That's ridiculous! I specifically signed up for Cloud Gaming.                                                                                                                                                    |\n",
      "|client |Okay, great. Thanks for fixing that.                                                                                                                                                                                   |\n",
      "|client |No, that's all. Thanks again.                                                                                                                                                                                          |\n",
      "+-------+-----------------------------------------------------------------------------------------------------------------------------------------------------------------------------------------------------------------------+\n",
      "\n"
     ]
    }
   ],
   "source": [
    "df_final.filter(F.col('conversation_id') == '011fbaced12e4c6e94212ba73406df51').sort('date_time').select('speaker','text').show(truncate=False)"
   ]
  },
  {
   "cell_type": "code",
   "execution_count": 98,
   "metadata": {},
   "outputs": [
    {
     "data": {
      "application/vnd.plotly.v1+json": {
       "config": {
        "plotlyServerURL": "https://plot.ly"
       },
       "data": [
        {
         "line": {
          "color": "#1f77b4",
          "width": 2
         },
         "marker": {
          "color": "#1f77b4"
         },
         "mode": "lines+markers",
         "name": "bad_agent_rate",
         "type": "scatter",
         "x": [
          "2023-12-30",
          "2023-12-29",
          "2023-12-28",
          "2023-12-27",
          "2023-12-26",
          "2023-12-25",
          "2023-12-24",
          "2023-12-23",
          "2023-12-22",
          "2023-12-21",
          "2023-12-20",
          "2023-12-19",
          "2023-12-18",
          "2023-12-17",
          "2023-12-16",
          "2023-12-15",
          "2023-12-14",
          "2023-12-13",
          "2023-12-12",
          "2023-12-11",
          "2023-12-10",
          "2023-12-09",
          "2023-12-08",
          "2023-12-07",
          "2023-12-06",
          "2023-12-05",
          "2023-12-04",
          "2023-12-03",
          "2023-12-02",
          "2023-12-01",
          "2023-11-30",
          "2023-11-29",
          "2023-11-28",
          "2023-11-27",
          "2023-11-26",
          "2023-11-25",
          "2023-11-24",
          "2023-11-23",
          "2023-11-22",
          "2023-11-21",
          "2023-11-20",
          "2023-11-19",
          "2023-11-18",
          "2023-11-17",
          "2023-11-16",
          "2023-11-15",
          "2023-11-14",
          "2023-11-13",
          "2023-11-12",
          "2023-11-11",
          "2023-11-10",
          "2023-11-09",
          "2023-11-08",
          "2023-11-07",
          "2023-11-06",
          "2023-11-05",
          "2023-11-04",
          "2023-11-03",
          "2023-11-02",
          "2023-11-01",
          "2023-10-31",
          "2023-10-30",
          "2023-10-29",
          "2023-10-28",
          "2023-10-27",
          "2023-10-26",
          "2023-10-25",
          "2023-10-24",
          "2023-10-23",
          "2023-10-22",
          "2023-10-21",
          "2023-10-20",
          "2023-10-19",
          "2023-10-18",
          "2023-10-17",
          "2023-10-16",
          "2023-10-15",
          "2023-10-14",
          "2023-10-13",
          "2023-10-12",
          "2023-10-11",
          "2023-10-10",
          "2023-10-09",
          "2023-10-08",
          "2023-10-07",
          "2023-10-06",
          "2023-10-05",
          "2023-10-04",
          "2023-10-03",
          "2023-10-02",
          "2023-10-01",
          "2023-09-30",
          "2023-09-29",
          "2023-09-28",
          "2023-09-27",
          "2023-09-26",
          "2023-09-25",
          "2023-09-24",
          "2023-09-23",
          "2023-09-22",
          "2023-09-21",
          "2023-09-20",
          "2023-09-19",
          "2023-09-18",
          "2023-09-17",
          "2023-09-16",
          "2023-09-15",
          "2023-09-14",
          "2023-09-13",
          "2023-09-12",
          "2023-09-11",
          "2023-09-10",
          "2023-09-09",
          "2023-09-08",
          "2023-09-07",
          "2023-09-06",
          "2023-09-05",
          "2023-09-04",
          "2023-09-03",
          "2023-09-02",
          "2023-09-01"
         ],
         "y": {
          "bdata": "AAAAAAAAAAAAAAAAAAAAAJwzorQ3+LI/1zTvOEVHoj8AAAAAAAAAAAAAAAAAAAAAAAAAAAAAAAAAAAAAAAAAAIJzRpT2Bp8/AAAAAAAAAAAAAAAAAAAAAAAAAAAAAAAAAAAAAAAAAAAAAAAAAAAAAC1DHOviNpo/AAAAAAAAAAARx7q4jQagPwAAAAAAAAAAAAAAAAAAAACamZmZmZmZP9nO91PjpZs/AAAAAAAAAAAAAAAAAAAAABHHuriNBqA/gnNGlPYGnz8AAAAAAAAAAAAAAAAAAAAAJXUCmggbnj/XNO84RUeiP9nO91PjpZs/mpmZmZmZmT8Mk6mCUUmdPwAAAAAAAAAAAAAAAAAAAAAAAAAAAAAAAJEPejarPpc/AAAAAAAAAAAkufyH9NuXPwAAAAAAAAAAAAAAAAAAAAAAAAAAAAAAAHRGlPYGX6g/2c73U+Olmz8AAAAAAAAAAAAAAAAAAAAAJXUCmggbnj8AAAAAAAAAAAAAAAAAAAAADJOpglFJnT8AAAAAAAAAAAAAAAAAAAAAAAAAAAAAAACx4emVsgyhPwAAAAAAAAAALUMc6+I2mj+x4emVsgyhPwAAAAAAAAAAAAAAAAAAAAADCYofY+6qPwAAAAAAAAAAYVRSJ6CJoD/XNO84RUeiPwAAAAAAAAAAdEaU9gZfmD8AAAAAAAAAAAAAAAAAAAAAAAAAAAAAAACamZmZmZmZPwAAAAAAAAAAJXUCmggbnj9Ei2zn+6mhPwAAAAAAAAAAAAAAAAAAAAAldQKaCBuuPwAAAAAAAAAAAAAAAAAAAAAAAAAAAAAAAIts5/up8aI/exSuR+F6pD8AAAAAAAAAAAAAAAAAAAAAAAAAAAAAAAAAAAAAAAAAAJqZmZmZmZk/AAAAAAAAAAAAAAAAAAAAANc07zhFR6I/AAAAAAAAAAAldQKaCBuePwAAAAAAAAAA1zTvOEVHoj9Ei2zn+6mhP4PAyqFFtqM/AAAAAAAAAAB0RpT2Bl+YPwAAAAAAAAAAAAAAAAAAAADXNO84RUeiPy1DHOviNpo/AAAAAAAAAAAAAAAAAAAAACS5/If025c/AAAAAAAAAAAAAAAAAAAAAAAAAAAAAAAAexSuR+F6pD8Mk6mCUUmdP4ts5/up8aI/RIts5/upsT8AAAAAAAAAAAAAAAAAAAAAAAAAAAAAAAAAAAAAAAAAAAAAAAAAAAAAAAAAAAAAAAAAAAAAAAAAAAAAAAAAAAAAAAAAAAAAAAAAAAAAAAAAAAAAAAAAAAAAEce6uI0GoD8=",
          "dtype": "f8"
         }
        }
       ],
       "layout": {
        "margin": {
         "b": 20,
         "l": 20,
         "r": 20,
         "t": 60
        },
        "template": {
         "data": {
          "bar": [
           {
            "error_x": {
             "color": "#2a3f5f"
            },
            "error_y": {
             "color": "#2a3f5f"
            },
            "marker": {
             "line": {
              "color": "white",
              "width": 0.5
             },
             "pattern": {
              "fillmode": "overlay",
              "size": 10,
              "solidity": 0.2
             }
            },
            "type": "bar"
           }
          ],
          "barpolar": [
           {
            "marker": {
             "line": {
              "color": "white",
              "width": 0.5
             },
             "pattern": {
              "fillmode": "overlay",
              "size": 10,
              "solidity": 0.2
             }
            },
            "type": "barpolar"
           }
          ],
          "carpet": [
           {
            "aaxis": {
             "endlinecolor": "#2a3f5f",
             "gridcolor": "#C8D4E3",
             "linecolor": "#C8D4E3",
             "minorgridcolor": "#C8D4E3",
             "startlinecolor": "#2a3f5f"
            },
            "baxis": {
             "endlinecolor": "#2a3f5f",
             "gridcolor": "#C8D4E3",
             "linecolor": "#C8D4E3",
             "minorgridcolor": "#C8D4E3",
             "startlinecolor": "#2a3f5f"
            },
            "type": "carpet"
           }
          ],
          "choropleth": [
           {
            "colorbar": {
             "outlinewidth": 0,
             "ticks": ""
            },
            "type": "choropleth"
           }
          ],
          "contour": [
           {
            "colorbar": {
             "outlinewidth": 0,
             "ticks": ""
            },
            "colorscale": [
             [
              0,
              "#0d0887"
             ],
             [
              0.1111111111111111,
              "#46039f"
             ],
             [
              0.2222222222222222,
              "#7201a8"
             ],
             [
              0.3333333333333333,
              "#9c179e"
             ],
             [
              0.4444444444444444,
              "#bd3786"
             ],
             [
              0.5555555555555556,
              "#d8576b"
             ],
             [
              0.6666666666666666,
              "#ed7953"
             ],
             [
              0.7777777777777778,
              "#fb9f3a"
             ],
             [
              0.8888888888888888,
              "#fdca26"
             ],
             [
              1,
              "#f0f921"
             ]
            ],
            "type": "contour"
           }
          ],
          "contourcarpet": [
           {
            "colorbar": {
             "outlinewidth": 0,
             "ticks": ""
            },
            "type": "contourcarpet"
           }
          ],
          "heatmap": [
           {
            "colorbar": {
             "outlinewidth": 0,
             "ticks": ""
            },
            "colorscale": [
             [
              0,
              "#0d0887"
             ],
             [
              0.1111111111111111,
              "#46039f"
             ],
             [
              0.2222222222222222,
              "#7201a8"
             ],
             [
              0.3333333333333333,
              "#9c179e"
             ],
             [
              0.4444444444444444,
              "#bd3786"
             ],
             [
              0.5555555555555556,
              "#d8576b"
             ],
             [
              0.6666666666666666,
              "#ed7953"
             ],
             [
              0.7777777777777778,
              "#fb9f3a"
             ],
             [
              0.8888888888888888,
              "#fdca26"
             ],
             [
              1,
              "#f0f921"
             ]
            ],
            "type": "heatmap"
           }
          ],
          "histogram": [
           {
            "marker": {
             "pattern": {
              "fillmode": "overlay",
              "size": 10,
              "solidity": 0.2
             }
            },
            "type": "histogram"
           }
          ],
          "histogram2d": [
           {
            "colorbar": {
             "outlinewidth": 0,
             "ticks": ""
            },
            "colorscale": [
             [
              0,
              "#0d0887"
             ],
             [
              0.1111111111111111,
              "#46039f"
             ],
             [
              0.2222222222222222,
              "#7201a8"
             ],
             [
              0.3333333333333333,
              "#9c179e"
             ],
             [
              0.4444444444444444,
              "#bd3786"
             ],
             [
              0.5555555555555556,
              "#d8576b"
             ],
             [
              0.6666666666666666,
              "#ed7953"
             ],
             [
              0.7777777777777778,
              "#fb9f3a"
             ],
             [
              0.8888888888888888,
              "#fdca26"
             ],
             [
              1,
              "#f0f921"
             ]
            ],
            "type": "histogram2d"
           }
          ],
          "histogram2dcontour": [
           {
            "colorbar": {
             "outlinewidth": 0,
             "ticks": ""
            },
            "colorscale": [
             [
              0,
              "#0d0887"
             ],
             [
              0.1111111111111111,
              "#46039f"
             ],
             [
              0.2222222222222222,
              "#7201a8"
             ],
             [
              0.3333333333333333,
              "#9c179e"
             ],
             [
              0.4444444444444444,
              "#bd3786"
             ],
             [
              0.5555555555555556,
              "#d8576b"
             ],
             [
              0.6666666666666666,
              "#ed7953"
             ],
             [
              0.7777777777777778,
              "#fb9f3a"
             ],
             [
              0.8888888888888888,
              "#fdca26"
             ],
             [
              1,
              "#f0f921"
             ]
            ],
            "type": "histogram2dcontour"
           }
          ],
          "mesh3d": [
           {
            "colorbar": {
             "outlinewidth": 0,
             "ticks": ""
            },
            "type": "mesh3d"
           }
          ],
          "parcoords": [
           {
            "line": {
             "colorbar": {
              "outlinewidth": 0,
              "ticks": ""
             }
            },
            "type": "parcoords"
           }
          ],
          "pie": [
           {
            "automargin": true,
            "type": "pie"
           }
          ],
          "scatter": [
           {
            "fillpattern": {
             "fillmode": "overlay",
             "size": 10,
             "solidity": 0.2
            },
            "type": "scatter"
           }
          ],
          "scatter3d": [
           {
            "line": {
             "colorbar": {
              "outlinewidth": 0,
              "ticks": ""
             }
            },
            "marker": {
             "colorbar": {
              "outlinewidth": 0,
              "ticks": ""
             }
            },
            "type": "scatter3d"
           }
          ],
          "scattercarpet": [
           {
            "marker": {
             "colorbar": {
              "outlinewidth": 0,
              "ticks": ""
             }
            },
            "type": "scattercarpet"
           }
          ],
          "scattergeo": [
           {
            "marker": {
             "colorbar": {
              "outlinewidth": 0,
              "ticks": ""
             }
            },
            "type": "scattergeo"
           }
          ],
          "scattergl": [
           {
            "marker": {
             "colorbar": {
              "outlinewidth": 0,
              "ticks": ""
             }
            },
            "type": "scattergl"
           }
          ],
          "scattermap": [
           {
            "marker": {
             "colorbar": {
              "outlinewidth": 0,
              "ticks": ""
             }
            },
            "type": "scattermap"
           }
          ],
          "scattermapbox": [
           {
            "marker": {
             "colorbar": {
              "outlinewidth": 0,
              "ticks": ""
             }
            },
            "type": "scattermapbox"
           }
          ],
          "scatterpolar": [
           {
            "marker": {
             "colorbar": {
              "outlinewidth": 0,
              "ticks": ""
             }
            },
            "type": "scatterpolar"
           }
          ],
          "scatterpolargl": [
           {
            "marker": {
             "colorbar": {
              "outlinewidth": 0,
              "ticks": ""
             }
            },
            "type": "scatterpolargl"
           }
          ],
          "scatterternary": [
           {
            "marker": {
             "colorbar": {
              "outlinewidth": 0,
              "ticks": ""
             }
            },
            "type": "scatterternary"
           }
          ],
          "surface": [
           {
            "colorbar": {
             "outlinewidth": 0,
             "ticks": ""
            },
            "colorscale": [
             [
              0,
              "#0d0887"
             ],
             [
              0.1111111111111111,
              "#46039f"
             ],
             [
              0.2222222222222222,
              "#7201a8"
             ],
             [
              0.3333333333333333,
              "#9c179e"
             ],
             [
              0.4444444444444444,
              "#bd3786"
             ],
             [
              0.5555555555555556,
              "#d8576b"
             ],
             [
              0.6666666666666666,
              "#ed7953"
             ],
             [
              0.7777777777777778,
              "#fb9f3a"
             ],
             [
              0.8888888888888888,
              "#fdca26"
             ],
             [
              1,
              "#f0f921"
             ]
            ],
            "type": "surface"
           }
          ],
          "table": [
           {
            "cells": {
             "fill": {
              "color": "#EBF0F8"
             },
             "line": {
              "color": "white"
             }
            },
            "header": {
             "fill": {
              "color": "#C8D4E3"
             },
             "line": {
              "color": "white"
             }
            },
            "type": "table"
           }
          ]
         },
         "layout": {
          "annotationdefaults": {
           "arrowcolor": "#2a3f5f",
           "arrowhead": 0,
           "arrowwidth": 1
          },
          "autotypenumbers": "strict",
          "coloraxis": {
           "colorbar": {
            "outlinewidth": 0,
            "ticks": ""
           }
          },
          "colorscale": {
           "diverging": [
            [
             0,
             "#8e0152"
            ],
            [
             0.1,
             "#c51b7d"
            ],
            [
             0.2,
             "#de77ae"
            ],
            [
             0.3,
             "#f1b6da"
            ],
            [
             0.4,
             "#fde0ef"
            ],
            [
             0.5,
             "#f7f7f7"
            ],
            [
             0.6,
             "#e6f5d0"
            ],
            [
             0.7,
             "#b8e186"
            ],
            [
             0.8,
             "#7fbc41"
            ],
            [
             0.9,
             "#4d9221"
            ],
            [
             1,
             "#276419"
            ]
           ],
           "sequential": [
            [
             0,
             "#0d0887"
            ],
            [
             0.1111111111111111,
             "#46039f"
            ],
            [
             0.2222222222222222,
             "#7201a8"
            ],
            [
             0.3333333333333333,
             "#9c179e"
            ],
            [
             0.4444444444444444,
             "#bd3786"
            ],
            [
             0.5555555555555556,
             "#d8576b"
            ],
            [
             0.6666666666666666,
             "#ed7953"
            ],
            [
             0.7777777777777778,
             "#fb9f3a"
            ],
            [
             0.8888888888888888,
             "#fdca26"
            ],
            [
             1,
             "#f0f921"
            ]
           ],
           "sequentialminus": [
            [
             0,
             "#0d0887"
            ],
            [
             0.1111111111111111,
             "#46039f"
            ],
            [
             0.2222222222222222,
             "#7201a8"
            ],
            [
             0.3333333333333333,
             "#9c179e"
            ],
            [
             0.4444444444444444,
             "#bd3786"
            ],
            [
             0.5555555555555556,
             "#d8576b"
            ],
            [
             0.6666666666666666,
             "#ed7953"
            ],
            [
             0.7777777777777778,
             "#fb9f3a"
            ],
            [
             0.8888888888888888,
             "#fdca26"
            ],
            [
             1,
             "#f0f921"
            ]
           ]
          },
          "colorway": [
           "#636efa",
           "#EF553B",
           "#00cc96",
           "#ab63fa",
           "#FFA15A",
           "#19d3f3",
           "#FF6692",
           "#B6E880",
           "#FF97FF",
           "#FECB52"
          ],
          "font": {
           "color": "#2a3f5f",
           "family": "Arial, sans-serif",
           "size": 12
          },
          "geo": {
           "bgcolor": "white",
           "lakecolor": "white",
           "landcolor": "white",
           "showlakes": true,
           "showland": true,
           "subunitcolor": "#C8D4E3"
          },
          "hoverlabel": {
           "align": "left"
          },
          "hovermode": "closest",
          "legend": {
           "bgcolor": "rgba(255,255,255,0.9)",
           "bordercolor": "lightgray",
           "borderwidth": 1
          },
          "mapbox": {
           "style": "light"
          },
          "paper_bgcolor": "white",
          "plot_bgcolor": "white",
          "polar": {
           "angularaxis": {
            "gridcolor": "#EBF0F8",
            "linecolor": "#EBF0F8",
            "ticks": ""
           },
           "bgcolor": "white",
           "radialaxis": {
            "gridcolor": "#EBF0F8",
            "linecolor": "#EBF0F8",
            "ticks": ""
           }
          },
          "scene": {
           "xaxis": {
            "backgroundcolor": "white",
            "gridcolor": "#DFE8F3",
            "gridwidth": 2,
            "linecolor": "#EBF0F8",
            "showbackground": true,
            "ticks": "",
            "zerolinecolor": "#EBF0F8"
           },
           "yaxis": {
            "backgroundcolor": "white",
            "gridcolor": "#DFE8F3",
            "gridwidth": 2,
            "linecolor": "#EBF0F8",
            "showbackground": true,
            "ticks": "",
            "zerolinecolor": "#EBF0F8"
           },
           "zaxis": {
            "backgroundcolor": "white",
            "gridcolor": "#DFE8F3",
            "gridwidth": 2,
            "linecolor": "#EBF0F8",
            "showbackground": true,
            "ticks": "",
            "zerolinecolor": "#EBF0F8"
           }
          },
          "shapedefaults": {
           "line": {
            "color": "#2a3f5f"
           }
          },
          "ternary": {
           "aaxis": {
            "gridcolor": "#DFE8F3",
            "linecolor": "#A2B1C6",
            "ticks": ""
           },
           "baxis": {
            "gridcolor": "#DFE8F3",
            "linecolor": "#A2B1C6",
            "ticks": ""
           },
           "bgcolor": "white",
           "caxis": {
            "gridcolor": "#DFE8F3",
            "linecolor": "#A2B1C6",
            "ticks": ""
           }
          },
          "title": {
           "x": 0.05
          },
          "xaxis": {
           "automargin": true,
           "gridcolor": "lightgray",
           "griddash": "dot",
           "gridwidth": 1,
           "linecolor": "#EBF0F8",
           "ticks": "",
           "title": {
            "standoff": 15
           },
           "zeroline": true,
           "zerolinecolor": "darkgray",
           "zerolinewidth": 1
          },
          "yaxis": {
           "automargin": true,
           "gridcolor": "lightgray",
           "griddash": "dot",
           "gridwidth": 1,
           "linecolor": "#EBF0F8",
           "ticks": "",
           "title": {
            "standoff": 15
           },
           "zeroline": true,
           "zerolinecolor": "darkgray",
           "zerolinewidth": 1
          }
         }
        },
        "xaxis": {
         "title": {
          "text": "date"
         }
        },
        "yaxis": {
         "title": {
          "text": "bad_agent_rate"
         }
        }
       }
      }
     },
     "metadata": {},
     "output_type": "display_data"
    }
   ],
   "source": [
    "line(\n",
    "    (\n",
    "    df_solution\n",
    "        .withColumn('bad_agent', F.col('agent').cast('string').rlike( r'.*NEGATIVE.{0,5}$' ) )\n",
    "        .withColumn('date', F.to_date('start', 'yyyy-MM-dd') )\n",
    "        .groupBy([\n",
    "                    'date',\n",
    "                ])\n",
    "        .pivot('bad_agent')\n",
    "        .count()\n",
    "        .drop('null')\n",
    "        .fillna(0)\n",
    "        .withColumn('bad_agent_rate', F.round( F.col('true') / ( F.col('true') + F.col('false') ) , 4)  )\n",
    "        .sort('date')\n",
    "    ),\n",
    "    'bad_agent_rate',\n",
    "    'date'\n",
    ")"
   ]
  },
  {
   "cell_type": "markdown",
   "metadata": {},
   "source": [
    "With this quick analysis, we can see that in several occasions we can find Agents that are ending their calls with NEGATIVE approach."
   ]
  },
  {
   "cell_type": "markdown",
   "metadata": {},
   "source": [
    "# 5. Future improvements"
   ]
  },
  {
   "cell_type": "markdown",
   "metadata": {},
   "source": [
    "<h3>\n",
    "The current setup could definitely be enhanced by integrating with external LLM services by using API or have a company configured one by having a local models through llama or similar / alike. \n",
    "<br/><br/>\n",
    "At the moment, running sentiment analysis through UDFs makes a lot of memory pressure on the Spark cluster, especially when processing thousands of call transcripts, while right now it is just using a few of them (less than 2% from the loaded dataset!). Moving to API-based services would distribute that load and probably give us better sentiment accuracy too.\n",
    "<br/><br/>\n",
    "The dataset that it is working with, is pretty small - just a sample of it. Scaling this up to the full corpus would definitely improve both the LDA topic discovery and sentiment analysis. More conversations mean better topic separation and more nuanced sentiment patterns.\n",
    "<br/><br/>\n",
    "Looking into the LDA side of the project, as for the clustering approach, LDA isn't the only dimensionality reduction available around. It is possible to experiment with other techniques like t-SNE for visualization, BERT-based topic modeling or other clustering techniques available. \n",
    "<br/><br/>\n",
    "Each would give different perspectives on how conversations cluster together.\n",
    "</h3>"
   ]
  }
 ],
 "metadata": {
  "kernelspec": {
   "display_name": ".venv",
   "language": "python",
   "name": "python3"
  },
  "language_info": {
   "codemirror_mode": {
    "name": "ipython",
    "version": 3
   },
   "file_extension": ".py",
   "mimetype": "text/x-python",
   "name": "python",
   "nbconvert_exporter": "python",
   "pygments_lexer": "ipython3",
   "version": "3.11.4"
  }
 },
 "nbformat": 4,
 "nbformat_minor": 2
}
